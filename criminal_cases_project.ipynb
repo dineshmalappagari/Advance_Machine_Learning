{
 "cells": [
  {
   "cell_type": "markdown",
   "id": "ff835552",
   "metadata": {},
   "source": [
    "# 1. Importing the Necessary Libraries"
   ]
  },
  {
   "cell_type": "code",
   "execution_count": 3,
   "id": "10de0d6d",
   "metadata": {},
   "outputs": [],
   "source": [
    "import pandas as pd\n",
    "import numpy as np #NumPy can be used to perform a wide variety of mathematical operations on arrays\n",
    "import matplotlib.pyplot as plt\n",
    "import seaborn as sns"
   ]
  },
  {
   "cell_type": "code",
   "execution_count": 5,
   "id": "d5169bb2",
   "metadata": {},
   "outputs": [],
   "source": [
    "data=pd.read_csv(r\"C:\\Users\\mdine\\Downloads\\criminal_cases_dataset.csv\")"
   ]
  },
  {
   "cell_type": "code",
   "execution_count": 6,
   "id": "43477f53",
   "metadata": {},
   "outputs": [
    {
     "data": {
      "text/html": [
       "<div>\n",
       "<style scoped>\n",
       "    .dataframe tbody tr th:only-of-type {\n",
       "        vertical-align: middle;\n",
       "    }\n",
       "\n",
       "    .dataframe tbody tr th {\n",
       "        vertical-align: top;\n",
       "    }\n",
       "\n",
       "    .dataframe thead th {\n",
       "        text-align: right;\n",
       "    }\n",
       "</style>\n",
       "<table border=\"1\" class=\"dataframe\">\n",
       "  <thead>\n",
       "    <tr style=\"text-align: right;\">\n",
       "      <th></th>\n",
       "      <th>CaseDuration</th>\n",
       "      <th>WitnessCount</th>\n",
       "      <th>CrimeType</th>\n",
       "      <th>PreviousRulings</th>\n",
       "      <th>Outcome</th>\n",
       "    </tr>\n",
       "  </thead>\n",
       "  <tbody>\n",
       "    <tr>\n",
       "      <th>0</th>\n",
       "      <td>173</td>\n",
       "      <td>4</td>\n",
       "      <td>3</td>\n",
       "      <td>3</td>\n",
       "      <td>1</td>\n",
       "    </tr>\n",
       "    <tr>\n",
       "      <th>1</th>\n",
       "      <td>48</td>\n",
       "      <td>2</td>\n",
       "      <td>4</td>\n",
       "      <td>3</td>\n",
       "      <td>1</td>\n",
       "    </tr>\n",
       "    <tr>\n",
       "      <th>2</th>\n",
       "      <td>118</td>\n",
       "      <td>0</td>\n",
       "      <td>4</td>\n",
       "      <td>1</td>\n",
       "      <td>0</td>\n",
       "    </tr>\n",
       "    <tr>\n",
       "      <th>3</th>\n",
       "      <td>193</td>\n",
       "      <td>3</td>\n",
       "      <td>2</td>\n",
       "      <td>1</td>\n",
       "      <td>0</td>\n",
       "    </tr>\n",
       "    <tr>\n",
       "      <th>4</th>\n",
       "      <td>324</td>\n",
       "      <td>2</td>\n",
       "      <td>4</td>\n",
       "      <td>1</td>\n",
       "      <td>0</td>\n",
       "    </tr>\n",
       "  </tbody>\n",
       "</table>\n",
       "</div>"
      ],
      "text/plain": [
       "   CaseDuration  WitnessCount  CrimeType  PreviousRulings  Outcome\n",
       "0           173             4          3                3        1\n",
       "1            48             2          4                3        1\n",
       "2           118             0          4                1        0\n",
       "3           193             3          2                1        0\n",
       "4           324             2          4                1        0"
      ]
     },
     "execution_count": 6,
     "metadata": {},
     "output_type": "execute_result"
    }
   ],
   "source": [
    "data.head()"
   ]
  },
  {
   "cell_type": "code",
   "execution_count": 7,
   "id": "d3bd2fc3",
   "metadata": {},
   "outputs": [
    {
     "data": {
      "text/html": [
       "<div>\n",
       "<style scoped>\n",
       "    .dataframe tbody tr th:only-of-type {\n",
       "        vertical-align: middle;\n",
       "    }\n",
       "\n",
       "    .dataframe tbody tr th {\n",
       "        vertical-align: top;\n",
       "    }\n",
       "\n",
       "    .dataframe thead th {\n",
       "        text-align: right;\n",
       "    }\n",
       "</style>\n",
       "<table border=\"1\" class=\"dataframe\">\n",
       "  <thead>\n",
       "    <tr style=\"text-align: right;\">\n",
       "      <th></th>\n",
       "      <th>CaseDuration</th>\n",
       "      <th>WitnessCount</th>\n",
       "      <th>CrimeType</th>\n",
       "      <th>PreviousRulings</th>\n",
       "      <th>Outcome</th>\n",
       "    </tr>\n",
       "  </thead>\n",
       "  <tbody>\n",
       "    <tr>\n",
       "      <th>95</th>\n",
       "      <td>96</td>\n",
       "      <td>8</td>\n",
       "      <td>2</td>\n",
       "      <td>2</td>\n",
       "      <td>0</td>\n",
       "    </tr>\n",
       "    <tr>\n",
       "      <th>96</th>\n",
       "      <td>198</td>\n",
       "      <td>4</td>\n",
       "      <td>3</td>\n",
       "      <td>4</td>\n",
       "      <td>1</td>\n",
       "    </tr>\n",
       "    <tr>\n",
       "      <th>97</th>\n",
       "      <td>95</td>\n",
       "      <td>6</td>\n",
       "      <td>4</td>\n",
       "      <td>0</td>\n",
       "      <td>1</td>\n",
       "    </tr>\n",
       "    <tr>\n",
       "      <th>98</th>\n",
       "      <td>257</td>\n",
       "      <td>5</td>\n",
       "      <td>3</td>\n",
       "      <td>0</td>\n",
       "      <td>1</td>\n",
       "    </tr>\n",
       "    <tr>\n",
       "      <th>99</th>\n",
       "      <td>179</td>\n",
       "      <td>8</td>\n",
       "      <td>1</td>\n",
       "      <td>2</td>\n",
       "      <td>1</td>\n",
       "    </tr>\n",
       "  </tbody>\n",
       "</table>\n",
       "</div>"
      ],
      "text/plain": [
       "    CaseDuration  WitnessCount  CrimeType  PreviousRulings  Outcome\n",
       "95            96             8          2                2        0\n",
       "96           198             4          3                4        1\n",
       "97            95             6          4                0        1\n",
       "98           257             5          3                0        1\n",
       "99           179             8          1                2        1"
      ]
     },
     "execution_count": 7,
     "metadata": {},
     "output_type": "execute_result"
    }
   ],
   "source": [
    "data.tail()"
   ]
  },
  {
   "cell_type": "code",
   "execution_count": 8,
   "id": "1f3d10ae",
   "metadata": {},
   "outputs": [
    {
     "data": {
      "text/plain": [
       "(100, 5)"
      ]
     },
     "execution_count": 8,
     "metadata": {},
     "output_type": "execute_result"
    }
   ],
   "source": [
    "data.shape"
   ]
  },
  {
   "cell_type": "code",
   "execution_count": 9,
   "id": "023c1368",
   "metadata": {},
   "outputs": [
    {
     "name": "stdout",
     "output_type": "stream",
     "text": [
      "<class 'pandas.core.frame.DataFrame'>\n",
      "RangeIndex: 100 entries, 0 to 99\n",
      "Data columns (total 5 columns):\n",
      " #   Column           Non-Null Count  Dtype\n",
      "---  ------           --------------  -----\n",
      " 0   CaseDuration     100 non-null    int64\n",
      " 1   WitnessCount     100 non-null    int64\n",
      " 2   CrimeType        100 non-null    int64\n",
      " 3   PreviousRulings  100 non-null    int64\n",
      " 4   Outcome          100 non-null    int64\n",
      "dtypes: int64(5)\n",
      "memory usage: 4.0 KB\n"
     ]
    }
   ],
   "source": [
    "data.info()"
   ]
  },
  {
   "cell_type": "code",
   "execution_count": 10,
   "id": "ecb7f7fd",
   "metadata": {},
   "outputs": [
    {
     "data": {
      "text/plain": [
       "0"
      ]
     },
     "execution_count": 10,
     "metadata": {},
     "output_type": "execute_result"
    }
   ],
   "source": [
    "data.duplicated().sum()"
   ]
  },
  {
   "cell_type": "code",
   "execution_count": 11,
   "id": "fb82cc7a",
   "metadata": {},
   "outputs": [
    {
     "data": {
      "text/plain": [
       "CaseDuration       0\n",
       "WitnessCount       0\n",
       "CrimeType          0\n",
       "PreviousRulings    0\n",
       "Outcome            0\n",
       "dtype: int64"
      ]
     },
     "execution_count": 11,
     "metadata": {},
     "output_type": "execute_result"
    }
   ],
   "source": [
    "data.isnull().sum()"
   ]
  },
  {
   "cell_type": "code",
   "execution_count": 15,
   "id": "c05e1df1",
   "metadata": {},
   "outputs": [
    {
     "data": {
      "text/html": [
       "<div>\n",
       "<style scoped>\n",
       "    .dataframe tbody tr th:only-of-type {\n",
       "        vertical-align: middle;\n",
       "    }\n",
       "\n",
       "    .dataframe tbody tr th {\n",
       "        vertical-align: top;\n",
       "    }\n",
       "\n",
       "    .dataframe thead th {\n",
       "        text-align: right;\n",
       "    }\n",
       "</style>\n",
       "<table border=\"1\" class=\"dataframe\">\n",
       "  <thead>\n",
       "    <tr style=\"text-align: right;\">\n",
       "      <th></th>\n",
       "      <th>CaseDuration</th>\n",
       "      <th>WitnessCount</th>\n",
       "      <th>CrimeType</th>\n",
       "      <th>PreviousRulings</th>\n",
       "      <th>Outcome</th>\n",
       "    </tr>\n",
       "  </thead>\n",
       "  <tbody>\n",
       "    <tr>\n",
       "      <th>count</th>\n",
       "      <td>100.000000</td>\n",
       "      <td>100.000000</td>\n",
       "      <td>100.000000</td>\n",
       "      <td>100.000000</td>\n",
       "      <td>100.000000</td>\n",
       "    </tr>\n",
       "    <tr>\n",
       "      <th>mean</th>\n",
       "      <td>180.990000</td>\n",
       "      <td>4.580000</td>\n",
       "      <td>2.550000</td>\n",
       "      <td>1.910000</td>\n",
       "      <td>0.520000</td>\n",
       "    </tr>\n",
       "    <tr>\n",
       "      <th>std</th>\n",
       "      <td>99.835268</td>\n",
       "      <td>2.954811</td>\n",
       "      <td>1.095215</td>\n",
       "      <td>1.443166</td>\n",
       "      <td>0.502117</td>\n",
       "    </tr>\n",
       "    <tr>\n",
       "      <th>min</th>\n",
       "      <td>10.000000</td>\n",
       "      <td>0.000000</td>\n",
       "      <td>1.000000</td>\n",
       "      <td>0.000000</td>\n",
       "      <td>0.000000</td>\n",
       "    </tr>\n",
       "    <tr>\n",
       "      <th>25%</th>\n",
       "      <td>94.250000</td>\n",
       "      <td>2.000000</td>\n",
       "      <td>2.000000</td>\n",
       "      <td>1.000000</td>\n",
       "      <td>0.000000</td>\n",
       "    </tr>\n",
       "    <tr>\n",
       "      <th>50%</th>\n",
       "      <td>176.500000</td>\n",
       "      <td>4.000000</td>\n",
       "      <td>2.000000</td>\n",
       "      <td>2.000000</td>\n",
       "      <td>1.000000</td>\n",
       "    </tr>\n",
       "    <tr>\n",
       "      <th>75%</th>\n",
       "      <td>266.000000</td>\n",
       "      <td>8.000000</td>\n",
       "      <td>4.000000</td>\n",
       "      <td>3.000000</td>\n",
       "      <td>1.000000</td>\n",
       "    </tr>\n",
       "    <tr>\n",
       "      <th>max</th>\n",
       "      <td>360.000000</td>\n",
       "      <td>9.000000</td>\n",
       "      <td>4.000000</td>\n",
       "      <td>4.000000</td>\n",
       "      <td>1.000000</td>\n",
       "    </tr>\n",
       "  </tbody>\n",
       "</table>\n",
       "</div>"
      ],
      "text/plain": [
       "       CaseDuration  WitnessCount   CrimeType  PreviousRulings     Outcome\n",
       "count    100.000000    100.000000  100.000000       100.000000  100.000000\n",
       "mean     180.990000      4.580000    2.550000         1.910000    0.520000\n",
       "std       99.835268      2.954811    1.095215         1.443166    0.502117\n",
       "min       10.000000      0.000000    1.000000         0.000000    0.000000\n",
       "25%       94.250000      2.000000    2.000000         1.000000    0.000000\n",
       "50%      176.500000      4.000000    2.000000         2.000000    1.000000\n",
       "75%      266.000000      8.000000    4.000000         3.000000    1.000000\n",
       "max      360.000000      9.000000    4.000000         4.000000    1.000000"
      ]
     },
     "execution_count": 15,
     "metadata": {},
     "output_type": "execute_result"
    }
   ],
   "source": [
    "data.describe()"
   ]
  },
  {
   "cell_type": "code",
   "execution_count": 16,
   "id": "28e721b2",
   "metadata": {},
   "outputs": [
    {
     "data": {
      "text/plain": [
       "<Axes: >"
      ]
     },
     "execution_count": 16,
     "metadata": {},
     "output_type": "execute_result"
    },
    {
     "data": {
      "image/png": "[encoded data removed]",
      "text/plain": [
       "<Figure size 640x480 with 1 Axes>"
      ]
     },
     "metadata": {},
     "output_type": "display_data"
    }
   ],
   "source": [
    "sns.boxplot(data)"
   ]
  },
  {
   "cell_type": "code",
   "execution_count": 17,
   "id": "157be037",
   "metadata": {},
   "outputs": [
    {
     "name": "stdout",
     "output_type": "stream",
     "text": [
      "Value counts for column 'CaseDuration':\n",
      "266    2\n",
      "245    2\n",
      "198    2\n",
      "336    2\n",
      "100    2\n",
      "      ..\n",
      "33     1\n",
      "203    1\n",
      "184    1\n",
      "29     1\n",
      "179    1\n",
      "Name: CaseDuration, Length: 85, dtype: int64\n",
      "\n",
      "\n",
      "Value counts for column 'WitnessCount':\n",
      "8    18\n",
      "3    15\n",
      "2    13\n",
      "0    12\n",
      "6    12\n",
      "9     9\n",
      "4     7\n",
      "5     6\n",
      "7     4\n",
      "1     4\n",
      "Name: WitnessCount, dtype: int64\n",
      "\n",
      "\n",
      "Value counts for column 'CrimeType':\n",
      "2    32\n",
      "4    27\n",
      "3    21\n",
      "1    20\n",
      "Name: CrimeType, dtype: int64\n",
      "\n",
      "\n",
      "Value counts for column 'PreviousRulings':\n",
      "0    24\n",
      "3    21\n",
      "2    19\n",
      "1    18\n",
      "4    18\n",
      "Name: PreviousRulings, dtype: int64\n",
      "\n",
      "\n",
      "Value counts for column 'Outcome':\n",
      "1    52\n",
      "0    48\n",
      "Name: Outcome, dtype: int64\n",
      "\n",
      "\n"
     ]
    }
   ],
   "source": [
    "for column in data.columns:\n",
    "    print(f\"Value counts for column '{column}':\")\n",
    "    print(data[column].value_counts())\n",
    "    print(\"\\n\")"
   ]
  },
  {
   "cell_type": "code",
   "execution_count": 12,
   "id": "d79699d8",
   "metadata": {},
   "outputs": [
    {
     "data": {
      "text/html": [
       "<div>\n",
       "<style scoped>\n",
       "    .dataframe tbody tr th:only-of-type {\n",
       "        vertical-align: middle;\n",
       "    }\n",
       "\n",
       "    .dataframe tbody tr th {\n",
       "        vertical-align: top;\n",
       "    }\n",
       "\n",
       "    .dataframe thead th {\n",
       "        text-align: right;\n",
       "    }\n",
       "</style>\n",
       "<table border=\"1\" class=\"dataframe\">\n",
       "  <thead>\n",
       "    <tr style=\"text-align: right;\">\n",
       "      <th></th>\n",
       "      <th>CaseDuration</th>\n",
       "      <th>WitnessCount</th>\n",
       "      <th>CrimeType</th>\n",
       "      <th>PreviousRulings</th>\n",
       "      <th>Outcome</th>\n",
       "    </tr>\n",
       "  </thead>\n",
       "  <tbody>\n",
       "    <tr>\n",
       "      <th>CaseDuration</th>\n",
       "      <td>1.000000</td>\n",
       "      <td>-0.147560</td>\n",
       "      <td>0.012337</td>\n",
       "      <td>-0.036322</td>\n",
       "      <td>-0.008358</td>\n",
       "    </tr>\n",
       "    <tr>\n",
       "      <th>WitnessCount</th>\n",
       "      <td>-0.147560</td>\n",
       "      <td>1.000000</td>\n",
       "      <td>-0.324303</td>\n",
       "      <td>0.116590</td>\n",
       "      <td>0.107841</td>\n",
       "    </tr>\n",
       "    <tr>\n",
       "      <th>CrimeType</th>\n",
       "      <td>0.012337</td>\n",
       "      <td>-0.324303</td>\n",
       "      <td>1.000000</td>\n",
       "      <td>-0.153697</td>\n",
       "      <td>-0.047757</td>\n",
       "    </tr>\n",
       "    <tr>\n",
       "      <th>PreviousRulings</th>\n",
       "      <td>-0.036322</td>\n",
       "      <td>0.116590</td>\n",
       "      <td>-0.153697</td>\n",
       "      <td>1.000000</td>\n",
       "      <td>0.065236</td>\n",
       "    </tr>\n",
       "    <tr>\n",
       "      <th>Outcome</th>\n",
       "      <td>-0.008358</td>\n",
       "      <td>0.107841</td>\n",
       "      <td>-0.047757</td>\n",
       "      <td>0.065236</td>\n",
       "      <td>1.000000</td>\n",
       "    </tr>\n",
       "  </tbody>\n",
       "</table>\n",
       "</div>"
      ],
      "text/plain": [
       "                 CaseDuration  WitnessCount  CrimeType  PreviousRulings  \\\n",
       "CaseDuration         1.000000     -0.147560   0.012337        -0.036322   \n",
       "WitnessCount        -0.147560      1.000000  -0.324303         0.116590   \n",
       "CrimeType            0.012337     -0.324303   1.000000        -0.153697   \n",
       "PreviousRulings     -0.036322      0.116590  -0.153697         1.000000   \n",
       "Outcome             -0.008358      0.107841  -0.047757         0.065236   \n",
       "\n",
       "                  Outcome  \n",
       "CaseDuration    -0.008358  \n",
       "WitnessCount     0.107841  \n",
       "CrimeType       -0.047757  \n",
       "PreviousRulings  0.065236  \n",
       "Outcome          1.000000  "
      ]
     },
     "execution_count": 12,
     "metadata": {},
     "output_type": "execute_result"
    }
   ],
   "source": [
    "data.corr()"
   ]
  },
  {
   "cell_type": "code",
   "execution_count": 13,
   "id": "20b07c05",
   "metadata": {},
   "outputs": [
    {
     "data": {
      "image/png": "[encoded data removed]",
      "text/plain": [
       "<Figure size 1000x1200 with 2 Axes>"
      ]
     },
     "metadata": {},
     "output_type": "display_data"
    }
   ],
   "source": [
    "# Sample correlation matrix\n",
    "correlation_matrix = data.corr()\n",
    "\n",
    "# Create a heatmap of the correlation matrix\n",
    "plt.figure(figsize=(10, 12))\n",
    "sns.heatmap(correlation_matrix, cmap='coolwarm', annot=True, fmt=\".2f\")  # 'annot' displays the correlation values, 'fmt' formats the annotation\n",
    "\n",
    "# Add labels and title\n",
    "plt.xlabel('X-Axis Label')\n",
    "plt.ylabel('Y-Axis Label')\n",
    "plt.title('Correlation Heatmap')\n",
    "\n",
    "# Display the plot\n",
    "plt.show()"
   ]
  },
  {
   "cell_type": "markdown",
   "id": "8b358937",
   "metadata": {},
   "source": [
    "# Data Splitting:"
   ]
  },
  {
   "cell_type": "code",
   "execution_count": 21,
   "id": "3f168f75",
   "metadata": {},
   "outputs": [],
   "source": [
    "# Separate object for target feature\n",
    "y= data['Outcome']\n",
    "\n",
    "# Separate object for Predictors\n",
    "X = data.drop('Outcome',axis=1)"
   ]
  },
  {
   "cell_type": "code",
   "execution_count": 22,
   "id": "def767d9",
   "metadata": {},
   "outputs": [
    {
     "name": "stdout",
     "output_type": "stream",
     "text": [
      "Independent Features shape = (100, 4), Dependent Features Shape = (100,)\n"
     ]
    }
   ],
   "source": [
    "print(f'Independent Features shape = {X.shape}, Dependent Features Shape = {y.shape}')"
   ]
  },
  {
   "cell_type": "code",
   "execution_count": 23,
   "id": "d7a57318",
   "metadata": {},
   "outputs": [
    {
     "data": {
      "text/html": [
       "<div>\n",
       "<style scoped>\n",
       "    .dataframe tbody tr th:only-of-type {\n",
       "        vertical-align: middle;\n",
       "    }\n",
       "\n",
       "    .dataframe tbody tr th {\n",
       "        vertical-align: top;\n",
       "    }\n",
       "\n",
       "    .dataframe thead th {\n",
       "        text-align: right;\n",
       "    }\n",
       "</style>\n",
       "<table border=\"1\" class=\"dataframe\">\n",
       "  <thead>\n",
       "    <tr style=\"text-align: right;\">\n",
       "      <th></th>\n",
       "      <th>CaseDuration</th>\n",
       "      <th>WitnessCount</th>\n",
       "      <th>CrimeType</th>\n",
       "      <th>PreviousRulings</th>\n",
       "    </tr>\n",
       "  </thead>\n",
       "  <tbody>\n",
       "    <tr>\n",
       "      <th>count</th>\n",
       "      <td>100.000000</td>\n",
       "      <td>100.000000</td>\n",
       "      <td>100.000000</td>\n",
       "      <td>100.000000</td>\n",
       "    </tr>\n",
       "    <tr>\n",
       "      <th>mean</th>\n",
       "      <td>180.990000</td>\n",
       "      <td>4.580000</td>\n",
       "      <td>2.550000</td>\n",
       "      <td>1.910000</td>\n",
       "    </tr>\n",
       "    <tr>\n",
       "      <th>std</th>\n",
       "      <td>99.835268</td>\n",
       "      <td>2.954811</td>\n",
       "      <td>1.095215</td>\n",
       "      <td>1.443166</td>\n",
       "    </tr>\n",
       "    <tr>\n",
       "      <th>min</th>\n",
       "      <td>10.000000</td>\n",
       "      <td>0.000000</td>\n",
       "      <td>1.000000</td>\n",
       "      <td>0.000000</td>\n",
       "    </tr>\n",
       "    <tr>\n",
       "      <th>25%</th>\n",
       "      <td>94.250000</td>\n",
       "      <td>2.000000</td>\n",
       "      <td>2.000000</td>\n",
       "      <td>1.000000</td>\n",
       "    </tr>\n",
       "    <tr>\n",
       "      <th>50%</th>\n",
       "      <td>176.500000</td>\n",
       "      <td>4.000000</td>\n",
       "      <td>2.000000</td>\n",
       "      <td>2.000000</td>\n",
       "    </tr>\n",
       "    <tr>\n",
       "      <th>75%</th>\n",
       "      <td>266.000000</td>\n",
       "      <td>8.000000</td>\n",
       "      <td>4.000000</td>\n",
       "      <td>3.000000</td>\n",
       "    </tr>\n",
       "    <tr>\n",
       "      <th>max</th>\n",
       "      <td>360.000000</td>\n",
       "      <td>9.000000</td>\n",
       "      <td>4.000000</td>\n",
       "      <td>4.000000</td>\n",
       "    </tr>\n",
       "  </tbody>\n",
       "</table>\n",
       "</div>"
      ],
      "text/plain": [
       "       CaseDuration  WitnessCount   CrimeType  PreviousRulings\n",
       "count    100.000000    100.000000  100.000000       100.000000\n",
       "mean     180.990000      4.580000    2.550000         1.910000\n",
       "std       99.835268      2.954811    1.095215         1.443166\n",
       "min       10.000000      0.000000    1.000000         0.000000\n",
       "25%       94.250000      2.000000    2.000000         1.000000\n",
       "50%      176.500000      4.000000    2.000000         2.000000\n",
       "75%      266.000000      8.000000    4.000000         3.000000\n",
       "max      360.000000      9.000000    4.000000         4.000000"
      ]
     },
     "execution_count": 23,
     "metadata": {},
     "output_type": "execute_result"
    }
   ],
   "source": [
    "X.describe()"
   ]
  },
  {
   "cell_type": "code",
   "execution_count": 26,
   "id": "b0cc8d45",
   "metadata": {},
   "outputs": [
    {
     "data": {
      "text/plain": [
       "1    52\n",
       "0    48\n",
       "Name: Outcome, dtype: int64"
      ]
     },
     "execution_count": 26,
     "metadata": {},
     "output_type": "execute_result"
    }
   ],
   "source": [
    "y.value_counts()"
   ]
  },
  {
   "cell_type": "markdown",
   "id": "5470e40c",
   "metadata": {},
   "source": [
    "# StandardScaler"
   ]
  },
  {
   "cell_type": "code",
   "execution_count": 27,
   "id": "80e90d8b",
   "metadata": {},
   "outputs": [],
   "source": [
    "from sklearn.preprocessing import StandardScaler\n",
    "sc=StandardScaler()\n",
    "scaled=sc.fit_transform(X)\n",
    "X=pd.DataFrame(scaled,columns=X.columns)"
   ]
  },
  {
   "cell_type": "code",
   "execution_count": 28,
   "id": "5393a74c",
   "metadata": {},
   "outputs": [
    {
     "data": {
      "text/html": [
       "<div>\n",
       "<style scoped>\n",
       "    .dataframe tbody tr th:only-of-type {\n",
       "        vertical-align: middle;\n",
       "    }\n",
       "\n",
       "    .dataframe tbody tr th {\n",
       "        vertical-align: top;\n",
       "    }\n",
       "\n",
       "    .dataframe thead th {\n",
       "        text-align: right;\n",
       "    }\n",
       "</style>\n",
       "<table border=\"1\" class=\"dataframe\">\n",
       "  <thead>\n",
       "    <tr style=\"text-align: right;\">\n",
       "      <th></th>\n",
       "      <th>CaseDuration</th>\n",
       "      <th>WitnessCount</th>\n",
       "      <th>CrimeType</th>\n",
       "      <th>PreviousRulings</th>\n",
       "    </tr>\n",
       "  </thead>\n",
       "  <tbody>\n",
       "    <tr>\n",
       "      <th>count</th>\n",
       "      <td>1.000000e+02</td>\n",
       "      <td>1.000000e+02</td>\n",
       "      <td>1.000000e+02</td>\n",
       "      <td>1.000000e+02</td>\n",
       "    </tr>\n",
       "    <tr>\n",
       "      <th>mean</th>\n",
       "      <td>-8.715251e-17</td>\n",
       "      <td>-4.218847e-17</td>\n",
       "      <td>1.465494e-16</td>\n",
       "      <td>9.367507e-17</td>\n",
       "    </tr>\n",
       "    <tr>\n",
       "      <th>std</th>\n",
       "      <td>1.005038e+00</td>\n",
       "      <td>1.005038e+00</td>\n",
       "      <td>1.005038e+00</td>\n",
       "      <td>1.005038e+00</td>\n",
       "    </tr>\n",
       "    <tr>\n",
       "      <th>min</th>\n",
       "      <td>-1.721350e+00</td>\n",
       "      <td>-1.557823e+00</td>\n",
       "      <td>-1.422378e+00</td>\n",
       "      <td>-1.330147e+00</td>\n",
       "    </tr>\n",
       "    <tr>\n",
       "      <th>25%</th>\n",
       "      <td>-8.732083e-01</td>\n",
       "      <td>-8.775510e-01</td>\n",
       "      <td>-5.047146e-01</td>\n",
       "      <td>-6.337349e-01</td>\n",
       "    </tr>\n",
       "    <tr>\n",
       "      <th>50%</th>\n",
       "      <td>-4.520066e-02</td>\n",
       "      <td>-1.972789e-01</td>\n",
       "      <td>-5.047146e-01</td>\n",
       "      <td>6.267707e-02</td>\n",
       "    </tr>\n",
       "    <tr>\n",
       "      <th>75%</th>\n",
       "      <td>8.557924e-01</td>\n",
       "      <td>1.163265e+00</td>\n",
       "      <td>1.330611e+00</td>\n",
       "      <td>7.590890e-01</td>\n",
       "    </tr>\n",
       "    <tr>\n",
       "      <th>max</th>\n",
       "      <td>1.802087e+00</td>\n",
       "      <td>1.503401e+00</td>\n",
       "      <td>1.330611e+00</td>\n",
       "      <td>1.455501e+00</td>\n",
       "    </tr>\n",
       "  </tbody>\n",
       "</table>\n",
       "</div>"
      ],
      "text/plain": [
       "       CaseDuration  WitnessCount     CrimeType  PreviousRulings\n",
       "count  1.000000e+02  1.000000e+02  1.000000e+02     1.000000e+02\n",
       "mean  -8.715251e-17 -4.218847e-17  1.465494e-16     9.367507e-17\n",
       "std    1.005038e+00  1.005038e+00  1.005038e+00     1.005038e+00\n",
       "min   -1.721350e+00 -1.557823e+00 -1.422378e+00    -1.330147e+00\n",
       "25%   -8.732083e-01 -8.775510e-01 -5.047146e-01    -6.337349e-01\n",
       "50%   -4.520066e-02 -1.972789e-01 -5.047146e-01     6.267707e-02\n",
       "75%    8.557924e-01  1.163265e+00  1.330611e+00     7.590890e-01\n",
       "max    1.802087e+00  1.503401e+00  1.330611e+00     1.455501e+00"
      ]
     },
     "execution_count": 28,
     "metadata": {},
     "output_type": "execute_result"
    }
   ],
   "source": [
    "X.describe()"
   ]
  },
  {
   "cell_type": "markdown",
   "id": "89367cad",
   "metadata": {},
   "source": [
    "# Splitting the data into Training data and Test data"
   ]
  },
  {
   "cell_type": "code",
   "execution_count": 29,
   "id": "5c6c8564",
   "metadata": {},
   "outputs": [
    {
     "name": "stdout",
     "output_type": "stream",
     "text": [
      "X data= (100, 4) (80, 4) (20, 4) \n",
      "\n",
      "y data= (100,) (80,) (20,)\n"
     ]
    }
   ],
   "source": [
    "from sklearn.model_selection import train_test_split\n",
    "X_train,X_test,y_train,y_test = train_test_split(X,y,test_size =0.2,random_state = 14)\n",
    "print(\"X data=\",X.shape, X_train.shape,X_test.shape,\"\\n\")\n",
    "print(\"y data=\",y.shape,y_train.shape,y_test.shape)"
   ]
  },
  {
   "cell_type": "markdown",
   "id": "2d2e90f5",
   "metadata": {},
   "source": [
    "# Handling Imbalanced Data:"
   ]
  },
  {
   "cell_type": "code",
   "execution_count": 30,
   "id": "f3861479",
   "metadata": {},
   "outputs": [],
   "source": [
    "from imblearn.over_sampling import SMOTE\n",
    "\n",
    "# Apply SMOTE to the training set only\n",
    "smote = SMOTE(random_state=14)\n",
    "X_train ,y_train = smote.fit_resample(X_train, y_train)"
   ]
  },
  {
   "cell_type": "markdown",
   "id": "a3c56b86",
   "metadata": {},
   "source": [
    "# Build the Machine Learning models\n",
    "# Build the Logistic regression Algorithm"
   ]
  },
  {
   "cell_type": "code",
   "execution_count": 31,
   "id": "65be1e4e",
   "metadata": {},
   "outputs": [
    {
     "name": "stdout",
     "output_type": "stream",
     "text": [
      "Train Accuracy 54.65116279069767\n",
      "Test Accuracy 45.0 \n",
      "\n",
      "confusion_matrix:- \n",
      " [[4 7]\n",
      " [4 5]] \n",
      "\n",
      "classification_report:- \n",
      "               precision    recall  f1-score   support\n",
      "\n",
      "           0       0.50      0.36      0.42        11\n",
      "           1       0.42      0.56      0.48         9\n",
      "\n",
      "    accuracy                           0.45        20\n",
      "   macro avg       0.46      0.46      0.45        20\n",
      "weighted avg       0.46      0.45      0.45        20\n",
      "\n"
     ]
    }
   ],
   "source": [
    "from sklearn.linear_model import LogisticRegression\n",
    "LR = LogisticRegression()\n",
    "LR.fit(X_train,y_train)\n",
    "y_train_pred = LR.predict(X_train)\n",
    "y_test_pred = LR.predict(X_test)\n",
    "# Model Evaluation\n",
    "\n",
    "from sklearn.metrics import accuracy_score, confusion_matrix, classification_report\n",
    "print(\"Train Accuracy\",accuracy_score(y_train, y_train_pred)*100)\n",
    "print(\"Test Accuracy\",accuracy_score(y_test, y_test_pred)*100,'\\n')\n",
    "print(\"confusion_matrix:-\",\"\\n\",confusion_matrix(y_test, y_test_pred),\"\\n\")\n",
    "print(\"classification_report:-\",\"\\n\",classification_report(y_test, y_test_pred))"
   ]
  },
  {
   "cell_type": "markdown",
   "id": "1c8cad10",
   "metadata": {},
   "source": [
    "# DecisionTree Algorithm"
   ]
  },
  {
   "cell_type": "code",
   "execution_count": 32,
   "id": "c5719f58",
   "metadata": {},
   "outputs": [
    {
     "name": "stdout",
     "output_type": "stream",
     "text": [
      "Train Accuracy:- 100.0 \n",
      "\n",
      "Test Accuracy:- 70.0 \n",
      "\n",
      "confusion_matrix:- \n",
      " [[5 6]\n",
      " [0 9]] \n",
      "\n",
      "classification_report:- \n",
      "               precision    recall  f1-score   support\n",
      "\n",
      "           0       1.00      0.45      0.62        11\n",
      "           1       0.60      1.00      0.75         9\n",
      "\n",
      "    accuracy                           0.70        20\n",
      "   macro avg       0.80      0.73      0.69        20\n",
      "weighted avg       0.82      0.70      0.68        20\n",
      "\n"
     ]
    }
   ],
   "source": [
    "from sklearn.tree import DecisionTreeClassifier\n",
    "DM = DecisionTreeClassifier()\n",
    "DM.fit(X_train,y_train)\n",
    "y_train_pred = DM.predict(X_train)\n",
    "y_test_pred = DM.predict(X_test)\n",
    "print(\"Train Accuracy:-\",accuracy_score(y_train, y_train_pred)*100,'\\n')\n",
    "print(\"Test Accuracy:-\",accuracy_score(y_test, y_test_pred)*100,\"\\n\")\n",
    "print(\"confusion_matrix:-\",\"\\n\",confusion_matrix(y_test, y_test_pred),\"\\n\")\n",
    "print(\"classification_report:-\",\"\\n\",classification_report(y_test, y_test_pred))"
   ]
  },
  {
   "cell_type": "markdown",
   "id": "30281f0a",
   "metadata": {},
   "source": [
    "# RandomForest model"
   ]
  },
  {
   "cell_type": "code",
   "execution_count": 33,
   "id": "d046738c",
   "metadata": {},
   "outputs": [
    {
     "name": "stdout",
     "output_type": "stream",
     "text": [
      "Train Accuracy:- 100.0 \n",
      "\n",
      "Test Accuracy:- 50.0 \n",
      "\n",
      "confusion_matrix:- \n",
      " [[5 6]\n",
      " [4 5]] \n",
      "\n",
      "classification_report:- \n",
      "               precision    recall  f1-score   support\n",
      "\n",
      "           0       0.56      0.45      0.50        11\n",
      "           1       0.45      0.56      0.50         9\n",
      "\n",
      "    accuracy                           0.50        20\n",
      "   macro avg       0.51      0.51      0.50        20\n",
      "weighted avg       0.51      0.50      0.50        20\n",
      "\n"
     ]
    }
   ],
   "source": [
    "from sklearn.ensemble import RandomForestClassifier\n",
    "RF = RandomForestClassifier()\n",
    "RF.fit(X_train,y_train)\n",
    "y_train_pred = RF.predict(X_train)\n",
    "y_test_pred = RF.predict(X_test)\n",
    "print(\"Train Accuracy:-\",accuracy_score(y_train, y_train_pred)*100,'\\n')\n",
    "print(\"Test Accuracy:-\",accuracy_score(y_test, y_test_pred)*100,\"\\n\")\n",
    "print(\"confusion_matrix:-\",\"\\n\",confusion_matrix(y_test, y_test_pred),\"\\n\")\n",
    "print(\"classification_report:-\",\"\\n\",classification_report(y_test, y_test_pred))"
   ]
  },
  {
   "cell_type": "markdown",
   "id": "ec272c7f",
   "metadata": {},
   "source": [
    "# K-Nearest Neighbors (KNN)"
   ]
  },
  {
   "cell_type": "code",
   "execution_count": 34,
   "id": "f18fa98d",
   "metadata": {},
   "outputs": [
    {
     "name": "stdout",
     "output_type": "stream",
     "text": [
      "Train Accuracy:- 73.25581395348837 \n",
      "\n",
      "Test Accuracy:- 60.0 \n",
      "\n",
      "confusion_matrix:- \n",
      " [[8 3]\n",
      " [5 4]] \n",
      "\n",
      "classification_report:- \n",
      "               precision    recall  f1-score   support\n",
      "\n",
      "           0       0.62      0.73      0.67        11\n",
      "           1       0.57      0.44      0.50         9\n",
      "\n",
      "    accuracy                           0.60        20\n",
      "   macro avg       0.59      0.59      0.58        20\n",
      "weighted avg       0.60      0.60      0.59        20\n",
      "\n"
     ]
    }
   ],
   "source": [
    "from sklearn.neighbors import KNeighborsClassifier\n",
    "KNN = KNeighborsClassifier()\n",
    "KNN.fit(X_train, y_train)\n",
    "y_train_pred = KNN.predict(X_train)\n",
    "y_test_pred = KNN.predict(X_test)\n",
    "print(\"Train Accuracy:-\",accuracy_score(y_train, y_train_pred)*100,'\\n')\n",
    "print(\"Test Accuracy:-\",accuracy_score(y_test, y_test_pred)*100,\"\\n\")\n",
    "print(\"confusion_matrix:-\",\"\\n\",confusion_matrix(y_test, y_test_pred),\"\\n\")\n",
    "print(\"classification_report:-\",\"\\n\",classification_report(y_test, y_test_pred))"
   ]
  },
  {
   "cell_type": "markdown",
   "id": "a6987dbe",
   "metadata": {},
   "source": [
    "# Naive Bayes classifier"
   ]
  },
  {
   "cell_type": "code",
   "execution_count": 35,
   "id": "b42d1e06",
   "metadata": {},
   "outputs": [
    {
     "name": "stdout",
     "output_type": "stream",
     "text": [
      "Train Accuracy:- 58.139534883720934 \n",
      "\n",
      "Test Accuracy:- 45.0 \n",
      "\n",
      "confusion_matrix:- \n",
      " [[4 7]\n",
      " [4 5]] \n",
      "\n",
      "classification_report:- \n",
      "               precision    recall  f1-score   support\n",
      "\n",
      "           0       0.50      0.36      0.42        11\n",
      "           1       0.42      0.56      0.48         9\n",
      "\n",
      "    accuracy                           0.45        20\n",
      "   macro avg       0.46      0.46      0.45        20\n",
      "weighted avg       0.46      0.45      0.45        20\n",
      "\n"
     ]
    }
   ],
   "source": [
    "from sklearn.naive_bayes import GaussianNB\n",
    "\n",
    "# Create a Naive Bayes classifier\n",
    "NaiveBayes = GaussianNB()\n",
    "\n",
    "# Train the Naive Bayes classifier on the training data\n",
    "NaiveBayes.fit(X_train, y_train)\n",
    "\n",
    "# Make predictions on the training and testing data\n",
    "y_train_pred = NaiveBayes.predict(X_train)\n",
    "y_test_pred = NaiveBayes.predict(X_test)\n",
    "print(\"Train Accuracy:-\",accuracy_score(y_train, y_train_pred)*100,'\\n')\n",
    "print(\"Test Accuracy:-\",accuracy_score(y_test, y_test_pred)*100,\"\\n\")\n",
    "print(\"confusion_matrix:-\",\"\\n\",confusion_matrix(y_test, y_test_pred),\"\\n\")\n",
    "print(\"classification_report:-\",\"\\n\",classification_report(y_test, y_test_pred))"
   ]
  },
  {
   "cell_type": "markdown",
   "id": "9bfa9cc1",
   "metadata": {},
   "source": [
    "# SVM(Support Vector Machine)"
   ]
  },
  {
   "cell_type": "code",
   "execution_count": 36,
   "id": "11158fa5",
   "metadata": {},
   "outputs": [
    {
     "name": "stdout",
     "output_type": "stream",
     "text": [
      "Train Accuracy:- 72.09302325581395 \n",
      "\n",
      "Test Accuracy:- 40.0 \n",
      "\n",
      "confusion_matrix:- \n",
      " [[5 6]\n",
      " [6 3]] \n",
      "\n",
      "classification_report:- \n",
      "               precision    recall  f1-score   support\n",
      "\n",
      "           0       0.45      0.45      0.45        11\n",
      "           1       0.33      0.33      0.33         9\n",
      "\n",
      "    accuracy                           0.40        20\n",
      "   macro avg       0.39      0.39      0.39        20\n",
      "weighted avg       0.40      0.40      0.40        20\n",
      "\n"
     ]
    }
   ],
   "source": [
    "from sklearn.svm import SVC\n",
    "\n",
    "# Create an SVM classifier\n",
    "SVM = SVC()\n",
    "\n",
    "# Train the SVM classifier on the training data\n",
    "SVM.fit(X_train, y_train)\n",
    "y_train_pred = SVM.predict(X_train)\n",
    "y_test_pred = SVM.predict(X_test)\n",
    "print(\"Train Accuracy:-\",accuracy_score(y_train, y_train_pred)*100,'\\n')\n",
    "print(\"Test Accuracy:-\",accuracy_score(y_test, y_test_pred)*100,\"\\n\")\n",
    "print(\"confusion_matrix:-\",\"\\n\",confusion_matrix(y_test, y_test_pred),\"\\n\")\n",
    "print(\"classification_report:-\",\"\\n\",classification_report(y_test, y_test_pred))"
   ]
  },
  {
   "cell_type": "markdown",
   "id": "8ade3ef3",
   "metadata": {},
   "source": [
    "# kernels = Linear , RBF(Radial Basis Function), Poly, Sigmoid"
   ]
  },
  {
   "cell_type": "code",
   "execution_count": 37,
   "id": "a9eedbd0",
   "metadata": {},
   "outputs": [
    {
     "name": "stdout",
     "output_type": "stream",
     "text": [
      "Kernel: linear\n",
      "Train Accuracy: 58.139534883720934\n",
      "Test Accuracy: 45.0\n",
      "Confusion Matrix:\n",
      " [[4 7]\n",
      " [4 5]]\n",
      "Classification Report:\n",
      "               precision    recall  f1-score   support\n",
      "\n",
      "           0       0.50      0.36      0.42        11\n",
      "           1       0.42      0.56      0.48         9\n",
      "\n",
      "    accuracy                           0.45        20\n",
      "   macro avg       0.46      0.46      0.45        20\n",
      "weighted avg       0.46      0.45      0.45        20\n",
      "\n",
      "\n",
      "\n",
      "Kernel: rbf\n",
      "Train Accuracy: 72.09302325581395\n",
      "Test Accuracy: 40.0\n",
      "Confusion Matrix:\n",
      " [[5 6]\n",
      " [6 3]]\n",
      "Classification Report:\n",
      "               precision    recall  f1-score   support\n",
      "\n",
      "           0       0.45      0.45      0.45        11\n",
      "           1       0.33      0.33      0.33         9\n",
      "\n",
      "    accuracy                           0.40        20\n",
      "   macro avg       0.39      0.39      0.39        20\n",
      "weighted avg       0.40      0.40      0.40        20\n",
      "\n",
      "\n",
      "\n",
      "Kernel: poly\n",
      "Train Accuracy: 76.74418604651163\n",
      "Test Accuracy: 30.0\n",
      "Confusion Matrix:\n",
      " [[4 7]\n",
      " [7 2]]\n",
      "Classification Report:\n",
      "               precision    recall  f1-score   support\n",
      "\n",
      "           0       0.36      0.36      0.36        11\n",
      "           1       0.22      0.22      0.22         9\n",
      "\n",
      "    accuracy                           0.30        20\n",
      "   macro avg       0.29      0.29      0.29        20\n",
      "weighted avg       0.30      0.30      0.30        20\n",
      "\n",
      "\n",
      "\n",
      "Kernel: sigmoid\n",
      "Train Accuracy: 47.674418604651166\n",
      "Test Accuracy: 35.0\n",
      "Confusion Matrix:\n",
      " [[3 8]\n",
      " [5 4]]\n",
      "Classification Report:\n",
      "               precision    recall  f1-score   support\n",
      "\n",
      "           0       0.38      0.27      0.32        11\n",
      "           1       0.33      0.44      0.38         9\n",
      "\n",
      "    accuracy                           0.35        20\n",
      "   macro avg       0.35      0.36      0.35        20\n",
      "weighted avg       0.36      0.35      0.35        20\n",
      "\n",
      "\n",
      "\n"
     ]
    }
   ],
   "source": [
    "# List of kernel names\n",
    "kernel_names = ['linear', 'rbf', 'poly', 'sigmoid']\n",
    "\n",
    "# Create SVM classifiers for different kernels in a single line\n",
    "SVM_classifiers = {kernel: SVC(kernel=kernel).fit(X_train, y_train) for kernel in kernel_names}\n",
    "\n",
    "# Evaluate and print results for each kernel\n",
    "for kernel, SVM in SVM_classifiers.items():\n",
    "    y_train_pred = SVM.predict(X_train)\n",
    "    y_test_pred = SVM.predict(X_test)\n",
    "    print(f\"Kernel: {kernel}\")\n",
    "    print(\"Train Accuracy:\", accuracy_score(y_train, y_train_pred) * 100)\n",
    "    print(\"Test Accuracy:\", accuracy_score(y_test, y_test_pred) * 100)\n",
    "    print(\"Confusion Matrix:\\n\", confusion_matrix(y_test, y_test_pred))\n",
    "    print(\"Classification Report:\\n\", classification_report(y_test, y_test_pred))\n",
    "    print(\"\\n\")"
   ]
  },
  {
   "cell_type": "markdown",
   "id": "66e60df3",
   "metadata": {},
   "source": [
    "# AdaBoostClassifier, GradientBoostingClassifier"
   ]
  },
  {
   "cell_type": "code",
   "execution_count": 61,
   "id": "fe35cfce",
   "metadata": {},
   "outputs": [
    {
     "name": "stdout",
     "output_type": "stream",
     "text": [
      "Classifier: AdaBoost\n",
      "Train Accuracy: 89.53488372093024\n",
      "Test Accuracy: 55.00000000000001\n",
      "Confusion Matrix:\n",
      " [[6 5]\n",
      " [4 5]]\n",
      "Classification Report:\n",
      "               precision    recall  f1-score   support\n",
      "\n",
      "           0       0.60      0.55      0.57        11\n",
      "           1       0.50      0.56      0.53         9\n",
      "\n",
      "    accuracy                           0.55        20\n",
      "   macro avg       0.55      0.55      0.55        20\n",
      "weighted avg       0.55      0.55      0.55        20\n",
      "\n",
      "\n",
      "\n",
      "Classifier: GradientBoosting\n",
      "Train Accuracy: 100.0\n",
      "Test Accuracy: 75.0\n",
      "Confusion Matrix:\n",
      " [[7 4]\n",
      " [1 8]]\n",
      "Classification Report:\n",
      "               precision    recall  f1-score   support\n",
      "\n",
      "           0       0.88      0.64      0.74        11\n",
      "           1       0.67      0.89      0.76         9\n",
      "\n",
      "    accuracy                           0.75        20\n",
      "   macro avg       0.77      0.76      0.75        20\n",
      "weighted avg       0.78      0.75      0.75        20\n",
      "\n",
      "\n",
      "\n"
     ]
    }
   ],
   "source": [
    "from sklearn.ensemble import AdaBoostClassifier, GradientBoostingClassifier\n",
    "from xgboost import XGBClassifier\n",
    "\n",
    "# Create classifiers for different algorithms in a single line\n",
    "classifiers = {\n",
    "    'AdaBoost': AdaBoostClassifier().fit(X_train, y_train),\n",
    "    'GradientBoosting': GradientBoostingClassifier().fit(X_train, y_train)\n",
    "}\n",
    "\n",
    "# Evaluate and print results for each classifier\n",
    "for classifier_name, classifier in classifiers.items():\n",
    "    y_train_pred = classifier.predict(X_train)\n",
    "    y_test_pred = classifier.predict(X_test)\n",
    "    print(f\"Classifier: {classifier_name}\")\n",
    "    print(\"Train Accuracy:\", accuracy_score(y_train, y_train_pred) * 100)\n",
    "    print(\"Test Accuracy:\", accuracy_score(y_test, y_test_pred) * 100)\n",
    "    print(\"Confusion Matrix:\\n\", confusion_matrix(y_test, y_test_pred))\n",
    "    print(\"Classification Report:\\n\", classification_report(y_test, y_test_pred))\n",
    "    print(\"\\n\")"
   ]
  },
  {
   "cell_type": "markdown",
   "id": "b02c033b",
   "metadata": {},
   "source": [
    "# (XGB)Extreme Gradient Boosting"
   ]
  },
  {
   "cell_type": "code",
   "execution_count": 62,
   "id": "70ef483e",
   "metadata": {},
   "outputs": [
    {
     "name": "stdout",
     "output_type": "stream",
     "text": [
      "Train Accuracy:- 100.0 \n",
      "\n",
      "Test Accuracy:- 60.0 \n",
      "\n",
      "confusion_matrix:- \n",
      " [[5 6]\n",
      " [2 7]] \n",
      "\n",
      "classification_report:- \n",
      "               precision    recall  f1-score   support\n",
      "\n",
      "           0       0.71      0.45      0.56        11\n",
      "           1       0.54      0.78      0.64         9\n",
      "\n",
      "    accuracy                           0.60        20\n",
      "   macro avg       0.63      0.62      0.60        20\n",
      "weighted avg       0.64      0.60      0.59        20\n",
      "\n"
     ]
    }
   ],
   "source": [
    "from xgboost import XGBClassifier\n",
    "XGB=XGBClassifier()\n",
    "XGB.fit(X_train, y_train)\n",
    "y_train_pred = XGB.predict(X_train)\n",
    "y_test_pred = XGB.predict(X_test)\n",
    "print(\"Train Accuracy:-\",accuracy_score(y_train, y_train_pred)*100,'\\n')\n",
    "print(\"Test Accuracy:-\",accuracy_score(y_test, y_test_pred)*100,\"\\n\")\n",
    "print(\"confusion_matrix:-\",\"\\n\",confusion_matrix(y_test, y_test_pred),\"\\n\")\n",
    "print(\"classification_report:-\",\"\\n\",classification_report(y_test, y_test_pred))"
   ]
  },
  {
   "cell_type": "markdown",
   "id": "f59e4866",
   "metadata": {},
   "source": [
    "# Taking the next step to determine the best model's performance:\n",
    "# Feature Selection Technique"
   ]
  },
  {
   "cell_type": "code",
   "execution_count": 40,
   "id": "d5c371ee",
   "metadata": {},
   "outputs": [
    {
     "data": {
      "text/html": [
       "<style>#sk-container-id-1 {color: black;}#sk-container-id-1 pre{padding: 0;}#sk-container-id-1 div.sk-toggleable {background-color: white;}#sk-container-id-1 label.sk-toggleable__label {cursor: pointer;display: block;width: 100%;margin-bottom: 0;padding: 0.3em;box-sizing: border-box;text-align: center;}#sk-container-id-1 label.sk-toggleable__label-arrow:before {content: \"▸\";float: left;margin-right: 0.25em;color: #696969;}#sk-container-id-1 label.sk-toggleable__label-arrow:hover:before {color: black;}#sk-container-id-1 div.sk-estimator:hover label.sk-toggleable__label-arrow:before {color: black;}#sk-container-id-1 div.sk-toggleable__content {max-height: 0;max-width: 0;overflow: hidden;text-align: left;background-color: #f0f8ff;}#sk-container-id-1 div.sk-toggleable__content pre {margin: 0.2em;color: black;border-radius: 0.25em;background-color: #f0f8ff;}#sk-container-id-1 input.sk-toggleable__control:checked~div.sk-toggleable__content {max-height: 200px;max-width: 100%;overflow: auto;}#sk-container-id-1 input.sk-toggleable__control:checked~label.sk-toggleable__label-arrow:before {content: \"▾\";}#sk-container-id-1 div.sk-estimator input.sk-toggleable__control:checked~label.sk-toggleable__label {background-color: #d4ebff;}#sk-container-id-1 div.sk-label input.sk-toggleable__control:checked~label.sk-toggleable__label {background-color: #d4ebff;}#sk-container-id-1 input.sk-hidden--visually {border: 0;clip: rect(1px 1px 1px 1px);clip: rect(1px, 1px, 1px, 1px);height: 1px;margin: -1px;overflow: hidden;padding: 0;position: absolute;width: 1px;}#sk-container-id-1 div.sk-estimator {font-family: monospace;background-color: #f0f8ff;border: 1px dotted black;border-radius: 0.25em;box-sizing: border-box;margin-bottom: 0.5em;}#sk-container-id-1 div.sk-estimator:hover {background-color: #d4ebff;}#sk-container-id-1 div.sk-parallel-item::after {content: \"\";width: 100%;border-bottom: 1px solid gray;flex-grow: 1;}#sk-container-id-1 div.sk-label:hover label.sk-toggleable__label {background-color: #d4ebff;}#sk-container-id-1 div.sk-serial::before {content: \"\";position: absolute;border-left: 1px solid gray;box-sizing: border-box;top: 0;bottom: 0;left: 50%;z-index: 0;}#sk-container-id-1 div.sk-serial {display: flex;flex-direction: column;align-items: center;background-color: white;padding-right: 0.2em;padding-left: 0.2em;position: relative;}#sk-container-id-1 div.sk-item {position: relative;z-index: 1;}#sk-container-id-1 div.sk-parallel {display: flex;align-items: stretch;justify-content: center;background-color: white;position: relative;}#sk-container-id-1 div.sk-item::before, #sk-container-id-1 div.sk-parallel-item::before {content: \"\";position: absolute;border-left: 1px solid gray;box-sizing: border-box;top: 0;bottom: 0;left: 50%;z-index: -1;}#sk-container-id-1 div.sk-parallel-item {display: flex;flex-direction: column;z-index: 1;position: relative;background-color: white;}#sk-container-id-1 div.sk-parallel-item:first-child::after {align-self: flex-end;width: 50%;}#sk-container-id-1 div.sk-parallel-item:last-child::after {align-self: flex-start;width: 50%;}#sk-container-id-1 div.sk-parallel-item:only-child::after {width: 0;}#sk-container-id-1 div.sk-dashed-wrapped {border: 1px dashed gray;margin: 0 0.4em 0.5em 0.4em;box-sizing: border-box;padding-bottom: 0.4em;background-color: white;}#sk-container-id-1 div.sk-label label {font-family: monospace;font-weight: bold;display: inline-block;line-height: 1.2em;}#sk-container-id-1 div.sk-label-container {text-align: center;}#sk-container-id-1 div.sk-container {/* jupyter's `normalize.less` sets `[hidden] { display: none; }` but bootstrap.min.css set `[hidden] { display: none !important; }` so we also need the `!important` here to be able to override the default hidden behavior on the sphinx rendered scikit-learn.org. See: https://github.com/scikit-learn/scikit-learn/issues/21755 */display: inline-block !important;position: relative;}#sk-container-id-1 div.sk-text-repr-fallback {display: none;}</style><div id=\"sk-container-id-1\" class=\"sk-top-container\"><div class=\"sk-text-repr-fallback\"><pre>ExtraTreesRegressor()</pre><b>In a Jupyter environment, please rerun this cell to show the HTML representation or trust the notebook. <br />On GitHub, the HTML representation is unable to render, please try loading this page with nbviewer.org.</b></div><div class=\"sk-container\" hidden><div class=\"sk-item\"><div class=\"sk-estimator sk-toggleable\"><input class=\"sk-toggleable__control sk-hidden--visually\" id=\"sk-estimator-id-1\" type=\"checkbox\" checked><label for=\"sk-estimator-id-1\" class=\"sk-toggleable__label sk-toggleable__label-arrow\">ExtraTreesRegressor</label><div class=\"sk-toggleable__content\"><pre>ExtraTreesRegressor()</pre></div></div></div></div></div>"
      ],
      "text/plain": [
       "ExtraTreesRegressor()"
      ]
     },
     "execution_count": 40,
     "metadata": {},
     "output_type": "execute_result"
    }
   ],
   "source": [
    "# let me import Extra tree regressor\n",
    "\n",
    "from sklearn.ensemble import ExtraTreesRegressor\n",
    "\n",
    "selection = ExtraTreesRegressor()\n",
    "selection.fit(X,y)"
   ]
  },
  {
   "cell_type": "code",
   "execution_count": 41,
   "id": "df8225dd",
   "metadata": {},
   "outputs": [
    {
     "name": "stdout",
     "output_type": "stream",
     "text": [
      "[0.41009456 0.32581656 0.11544097 0.14864791]\n"
     ]
    }
   ],
   "source": [
    "print(selection.feature_importances_)"
   ]
  },
  {
   "cell_type": "code",
   "execution_count": 42,
   "id": "6c04ca85",
   "metadata": {},
   "outputs": [],
   "source": [
    "# let me plot feature importances\n",
    "\n",
    "feat_importances  =  pd.Series(selection.feature_importances_,index = X.columns)"
   ]
  },
  {
   "cell_type": "code",
   "execution_count": 43,
   "id": "bdc17f60",
   "metadata": {},
   "outputs": [
    {
     "data": {
      "text/plain": [
       "<Axes: >"
      ]
     },
     "execution_count": 43,
     "metadata": {},
     "output_type": "execute_result"
    },
    {
     "data": {
      "image/png": "[encoded data removed]",
      "text/plain": [
       "<Figure size 640x480 with 1 Axes>"
      ]
     },
     "metadata": {},
     "output_type": "display_data"
    }
   ],
   "source": [
    "feat_importances.sort_values(ascending=False).plot(kind='bar')"
   ]
  },
  {
   "cell_type": "markdown",
   "id": "17c4cf1f",
   "metadata": {},
   "source": [
    "# we don't need to remove any column because it was just 4 columns"
   ]
  },
  {
   "cell_type": "markdown",
   "id": "3473610d",
   "metadata": {},
   "source": [
    "# hyperparameters"
   ]
  },
  {
   "cell_type": "code",
   "execution_count": 48,
   "id": "226c9cd0",
   "metadata": {},
   "outputs": [],
   "source": [
    "# Number of trees in random Forest\n",
    "criterion = [\"gini\", \"entropy\", \"log_loss\"]\n",
    "# Number of features to consider at every split\n",
    "max_features = [\"auto\", \"sqrt\", \"log2\"]\n",
    "# The depth of the tree max_depth\n",
    "max_depth = [i for i in range(5,50,6)]\n",
    "# Min samples required to split the node\n",
    "min_sample_split = [2,5,10,15,50]\n",
    "# Min no of samples required to each leaf to split  ---- Pruning\n",
    "min_samples_leaf = [1,2,5,10]\n",
    "\n",
    "decetion_grid = {'criterion':criterion,\n",
    "              'max_features':max_features,\n",
    "              'max_depth':max_depth,\n",
    "              'min_samples_split':min_sample_split,\n",
    "              'min_samples_leaf':min_samples_leaf}"
   ]
  },
  {
   "cell_type": "code",
   "execution_count": 51,
   "id": "434fee4a",
   "metadata": {},
   "outputs": [
    {
     "name": "stderr",
     "output_type": "stream",
     "text": [
      "C:\\Users\\mdine\\anaconda3\\lib\\site-packages\\sklearn\\model_selection\\_validation.py:425: FitFailedWarning: \n",
      "20 fits failed out of a total of 40.\n",
      "The score on these train-test partitions for these parameters will be set to nan.\n",
      "If these failures are not expected, you can try to debug them by setting error_score='raise'.\n",
      "\n",
      "Below are more details about the failures:\n",
      "--------------------------------------------------------------------------------\n",
      "20 fits failed with the following error:\n",
      "Traceback (most recent call last):\n",
      "  File \"C:\\Users\\mdine\\anaconda3\\lib\\site-packages\\sklearn\\model_selection\\_validation.py\", line 729, in _fit_and_score\n",
      "    estimator.fit(X_train, y_train, **fit_params)\n",
      "  File \"C:\\Users\\mdine\\anaconda3\\lib\\site-packages\\sklearn\\base.py\", line 1145, in wrapper\n",
      "    estimator._validate_params()\n",
      "  File \"C:\\Users\\mdine\\anaconda3\\lib\\site-packages\\sklearn\\base.py\", line 638, in _validate_params\n",
      "    validate_parameter_constraints(\n",
      "  File \"C:\\Users\\mdine\\anaconda3\\lib\\site-packages\\sklearn\\utils\\_param_validation.py\", line 95, in validate_parameter_constraints\n",
      "    raise InvalidParameterError(\n",
      "sklearn.utils._param_validation.InvalidParameterError: The 'max_features' parameter of DecisionTreeClassifier must be an int in the range [1, inf), a float in the range (0.0, 1.0], a str among {'log2', 'sqrt'} or None. Got 'auto' instead.\n",
      "\n",
      "  warnings.warn(some_fits_failed_message, FitFailedWarning)\n",
      "C:\\Users\\mdine\\anaconda3\\lib\\site-packages\\sklearn\\model_selection\\_search.py:979: UserWarning: One or more of the test scores are non-finite: [0.58008658        nan        nan 0.47727273 0.64015152        nan\n",
      "        nan 0.58062771 0.53571429        nan]\n",
      "  warnings.warn(\n"
     ]
    },
    {
     "data": {
      "text/html": [
       "<style>#sk-container-id-2 {color: black;}#sk-container-id-2 pre{padding: 0;}#sk-container-id-2 div.sk-toggleable {background-color: white;}#sk-container-id-2 label.sk-toggleable__label {cursor: pointer;display: block;width: 100%;margin-bottom: 0;padding: 0.3em;box-sizing: border-box;text-align: center;}#sk-container-id-2 label.sk-toggleable__label-arrow:before {content: \"▸\";float: left;margin-right: 0.25em;color: #696969;}#sk-container-id-2 label.sk-toggleable__label-arrow:hover:before {color: black;}#sk-container-id-2 div.sk-estimator:hover label.sk-toggleable__label-arrow:before {color: black;}#sk-container-id-2 div.sk-toggleable__content {max-height: 0;max-width: 0;overflow: hidden;text-align: left;background-color: #f0f8ff;}#sk-container-id-2 div.sk-toggleable__content pre {margin: 0.2em;color: black;border-radius: 0.25em;background-color: #f0f8ff;}#sk-container-id-2 input.sk-toggleable__control:checked~div.sk-toggleable__content {max-height: 200px;max-width: 100%;overflow: auto;}#sk-container-id-2 input.sk-toggleable__control:checked~label.sk-toggleable__label-arrow:before {content: \"▾\";}#sk-container-id-2 div.sk-estimator input.sk-toggleable__control:checked~label.sk-toggleable__label {background-color: #d4ebff;}#sk-container-id-2 div.sk-label input.sk-toggleable__control:checked~label.sk-toggleable__label {background-color: #d4ebff;}#sk-container-id-2 input.sk-hidden--visually {border: 0;clip: rect(1px 1px 1px 1px);clip: rect(1px, 1px, 1px, 1px);height: 1px;margin: -1px;overflow: hidden;padding: 0;position: absolute;width: 1px;}#sk-container-id-2 div.sk-estimator {font-family: monospace;background-color: #f0f8ff;border: 1px dotted black;border-radius: 0.25em;box-sizing: border-box;margin-bottom: 0.5em;}#sk-container-id-2 div.sk-estimator:hover {background-color: #d4ebff;}#sk-container-id-2 div.sk-parallel-item::after {content: \"\";width: 100%;border-bottom: 1px solid gray;flex-grow: 1;}#sk-container-id-2 div.sk-label:hover label.sk-toggleable__label {background-color: #d4ebff;}#sk-container-id-2 div.sk-serial::before {content: \"\";position: absolute;border-left: 1px solid gray;box-sizing: border-box;top: 0;bottom: 0;left: 50%;z-index: 0;}#sk-container-id-2 div.sk-serial {display: flex;flex-direction: column;align-items: center;background-color: white;padding-right: 0.2em;padding-left: 0.2em;position: relative;}#sk-container-id-2 div.sk-item {position: relative;z-index: 1;}#sk-container-id-2 div.sk-parallel {display: flex;align-items: stretch;justify-content: center;background-color: white;position: relative;}#sk-container-id-2 div.sk-item::before, #sk-container-id-2 div.sk-parallel-item::before {content: \"\";position: absolute;border-left: 1px solid gray;box-sizing: border-box;top: 0;bottom: 0;left: 50%;z-index: -1;}#sk-container-id-2 div.sk-parallel-item {display: flex;flex-direction: column;z-index: 1;position: relative;background-color: white;}#sk-container-id-2 div.sk-parallel-item:first-child::after {align-self: flex-end;width: 50%;}#sk-container-id-2 div.sk-parallel-item:last-child::after {align-self: flex-start;width: 50%;}#sk-container-id-2 div.sk-parallel-item:only-child::after {width: 0;}#sk-container-id-2 div.sk-dashed-wrapped {border: 1px dashed gray;margin: 0 0.4em 0.5em 0.4em;box-sizing: border-box;padding-bottom: 0.4em;background-color: white;}#sk-container-id-2 div.sk-label label {font-family: monospace;font-weight: bold;display: inline-block;line-height: 1.2em;}#sk-container-id-2 div.sk-label-container {text-align: center;}#sk-container-id-2 div.sk-container {/* jupyter's `normalize.less` sets `[hidden] { display: none; }` but bootstrap.min.css set `[hidden] { display: none !important; }` so we also need the `!important` here to be able to override the default hidden behavior on the sphinx rendered scikit-learn.org. See: https://github.com/scikit-learn/scikit-learn/issues/21755 */display: inline-block !important;position: relative;}#sk-container-id-2 div.sk-text-repr-fallback {display: none;}</style><div id=\"sk-container-id-2\" class=\"sk-top-container\"><div class=\"sk-text-repr-fallback\"><pre>RandomizedSearchCV(cv=4, estimator=DecisionTreeClassifier(),\n",
       "                   param_distributions={&#x27;criterion&#x27;: [&#x27;gini&#x27;, &#x27;entropy&#x27;,\n",
       "                                                      &#x27;log_loss&#x27;],\n",
       "                                        &#x27;max_depth&#x27;: [5, 11, 17, 23, 29, 35, 41,\n",
       "                                                      47],\n",
       "                                        &#x27;max_features&#x27;: [&#x27;auto&#x27;, &#x27;sqrt&#x27;,\n",
       "                                                         &#x27;log2&#x27;],\n",
       "                                        &#x27;min_samples_leaf&#x27;: [1, 2, 5, 10],\n",
       "                                        &#x27;min_samples_split&#x27;: [2, 5, 10, 15,\n",
       "                                                              50]},\n",
       "                   random_state=0)</pre><b>In a Jupyter environment, please rerun this cell to show the HTML representation or trust the notebook. <br />On GitHub, the HTML representation is unable to render, please try loading this page with nbviewer.org.</b></div><div class=\"sk-container\" hidden><div class=\"sk-item sk-dashed-wrapped\"><div class=\"sk-label-container\"><div class=\"sk-label sk-toggleable\"><input class=\"sk-toggleable__control sk-hidden--visually\" id=\"sk-estimator-id-2\" type=\"checkbox\" ><label for=\"sk-estimator-id-2\" class=\"sk-toggleable__label sk-toggleable__label-arrow\">RandomizedSearchCV</label><div class=\"sk-toggleable__content\"><pre>RandomizedSearchCV(cv=4, estimator=DecisionTreeClassifier(),\n",
       "                   param_distributions={&#x27;criterion&#x27;: [&#x27;gini&#x27;, &#x27;entropy&#x27;,\n",
       "                                                      &#x27;log_loss&#x27;],\n",
       "                                        &#x27;max_depth&#x27;: [5, 11, 17, 23, 29, 35, 41,\n",
       "                                                      47],\n",
       "                                        &#x27;max_features&#x27;: [&#x27;auto&#x27;, &#x27;sqrt&#x27;,\n",
       "                                                         &#x27;log2&#x27;],\n",
       "                                        &#x27;min_samples_leaf&#x27;: [1, 2, 5, 10],\n",
       "                                        &#x27;min_samples_split&#x27;: [2, 5, 10, 15,\n",
       "                                                              50]},\n",
       "                   random_state=0)</pre></div></div></div><div class=\"sk-parallel\"><div class=\"sk-parallel-item\"><div class=\"sk-item\"><div class=\"sk-label-container\"><div class=\"sk-label sk-toggleable\"><input class=\"sk-toggleable__control sk-hidden--visually\" id=\"sk-estimator-id-3\" type=\"checkbox\" ><label for=\"sk-estimator-id-3\" class=\"sk-toggleable__label sk-toggleable__label-arrow\">estimator: DecisionTreeClassifier</label><div class=\"sk-toggleable__content\"><pre>DecisionTreeClassifier()</pre></div></div></div><div class=\"sk-serial\"><div class=\"sk-item\"><div class=\"sk-estimator sk-toggleable\"><input class=\"sk-toggleable__control sk-hidden--visually\" id=\"sk-estimator-id-4\" type=\"checkbox\" ><label for=\"sk-estimator-id-4\" class=\"sk-toggleable__label sk-toggleable__label-arrow\">DecisionTreeClassifier</label><div class=\"sk-toggleable__content\"><pre>DecisionTreeClassifier()</pre></div></div></div></div></div></div></div></div></div></div>"
      ],
      "text/plain": [
       "RandomizedSearchCV(cv=4, estimator=DecisionTreeClassifier(),\n",
       "                   param_distributions={'criterion': ['gini', 'entropy',\n",
       "                                                      'log_loss'],\n",
       "                                        'max_depth': [5, 11, 17, 23, 29, 35, 41,\n",
       "                                                      47],\n",
       "                                        'max_features': ['auto', 'sqrt',\n",
       "                                                         'log2'],\n",
       "                                        'min_samples_leaf': [1, 2, 5, 10],\n",
       "                                        'min_samples_split': [2, 5, 10, 15,\n",
       "                                                              50]},\n",
       "                   random_state=0)"
      ]
     },
     "execution_count": 51,
     "metadata": {},
     "output_type": "execute_result"
    }
   ],
   "source": [
    "from sklearn.model_selection import RandomizedSearchCV\n",
    "\n",
    "rf_model = RandomizedSearchCV( DM ,param_distributions = decetion_grid,cv=4,random_state = 0)\n",
    "rf_model.fit(X_train,y_train)"
   ]
  },
  {
   "cell_type": "code",
   "execution_count": 52,
   "id": "6c19ea8a",
   "metadata": {},
   "outputs": [
    {
     "data": {
      "text/plain": [
       "{'min_samples_split': 15,\n",
       " 'min_samples_leaf': 1,\n",
       " 'max_features': 'log2',\n",
       " 'max_depth': 29,\n",
       " 'criterion': 'entropy'}"
      ]
     },
     "execution_count": 52,
     "metadata": {},
     "output_type": "execute_result"
    }
   ],
   "source": [
    "rf_model.best_params_"
   ]
  },
  {
   "cell_type": "code",
   "execution_count": 53,
   "id": "b878cfa9",
   "metadata": {},
   "outputs": [
    {
     "name": "stdout",
     "output_type": "stream",
     "text": [
      "Train Accuracy:- 82.55813953488372 \n",
      "\n",
      "Test Accuracy:- 55.00000000000001 \n",
      "\n",
      "confusion_matrix:- \n",
      " [[5 6]\n",
      " [3 6]] \n",
      "\n",
      "classification_report:- \n",
      "               precision    recall  f1-score   support\n",
      "\n",
      "           0       0.62      0.45      0.53        11\n",
      "           1       0.50      0.67      0.57         9\n",
      "\n",
      "    accuracy                           0.55        20\n",
      "   macro avg       0.56      0.56      0.55        20\n",
      "weighted avg       0.57      0.55      0.55        20\n",
      "\n"
     ]
    }
   ],
   "source": [
    "DM = DecisionTreeClassifier(criterion='entropy',min_samples_split= 15,min_samples_leaf= 1,max_features= 'log2',max_depth= 29)\n",
    "DM.fit(X_train,y_train)\n",
    "y_train_pred = DM.predict(X_train)\n",
    "y_test_pred = DM.predict(X_test)\n",
    "print(\"Train Accuracy:-\",accuracy_score(y_train, y_train_pred)*100,'\\n')\n",
    "print(\"Test Accuracy:-\",accuracy_score(y_test, y_test_pred)*100,\"\\n\")\n",
    "print(\"confusion_matrix:-\",\"\\n\",confusion_matrix(y_test, y_test_pred),\"\\n\")\n",
    "print(\"classification_report:-\",\"\\n\",classification_report(y_test, y_test_pred))"
   ]
  },
  {
   "cell_type": "markdown",
   "id": "35e05cfe",
   "metadata": {},
   "source": [
    "# GradientBoostingClassifier Tuning"
   ]
  },
  {
   "cell_type": "code",
   "execution_count": 63,
   "id": "affa46a9",
   "metadata": {},
   "outputs": [],
   "source": [
    "random_grid = {\n",
    "    'n_estimators': [i for i in range(100,500,100)],\n",
    "    'learning_rate': [0.01, 0.1, 0.2],\n",
    "    'max_depth': [i for i in range(5,50,6)],\n",
    "    'subsample': [0.8, 0.9, 1.0]\n",
    "}\n"
   ]
  },
  {
   "cell_type": "code",
   "execution_count": 64,
   "id": "f7a88985",
   "metadata": {},
   "outputs": [],
   "source": [
    "from sklearn.model_selection import RandomizedSearchCV\n",
    "\n",
    "rf_model = RandomizedSearchCV(estimator = GradientBoostingClassifier(),param_distributions = random_grid,cv=4,random_state = 0)"
   ]
  },
  {
   "cell_type": "code",
   "execution_count": 65,
   "id": "bda9c1a1",
   "metadata": {},
   "outputs": [
    {
     "data": {
      "text/html": [
       "<style>#sk-container-id-3 {color: black;}#sk-container-id-3 pre{padding: 0;}#sk-container-id-3 div.sk-toggleable {background-color: white;}#sk-container-id-3 label.sk-toggleable__label {cursor: pointer;display: block;width: 100%;margin-bottom: 0;padding: 0.3em;box-sizing: border-box;text-align: center;}#sk-container-id-3 label.sk-toggleable__label-arrow:before {content: \"▸\";float: left;margin-right: 0.25em;color: #696969;}#sk-container-id-3 label.sk-toggleable__label-arrow:hover:before {color: black;}#sk-container-id-3 div.sk-estimator:hover label.sk-toggleable__label-arrow:before {color: black;}#sk-container-id-3 div.sk-toggleable__content {max-height: 0;max-width: 0;overflow: hidden;text-align: left;background-color: #f0f8ff;}#sk-container-id-3 div.sk-toggleable__content pre {margin: 0.2em;color: black;border-radius: 0.25em;background-color: #f0f8ff;}#sk-container-id-3 input.sk-toggleable__control:checked~div.sk-toggleable__content {max-height: 200px;max-width: 100%;overflow: auto;}#sk-container-id-3 input.sk-toggleable__control:checked~label.sk-toggleable__label-arrow:before {content: \"▾\";}#sk-container-id-3 div.sk-estimator input.sk-toggleable__control:checked~label.sk-toggleable__label {background-color: #d4ebff;}#sk-container-id-3 div.sk-label input.sk-toggleable__control:checked~label.sk-toggleable__label {background-color: #d4ebff;}#sk-container-id-3 input.sk-hidden--visually {border: 0;clip: rect(1px 1px 1px 1px);clip: rect(1px, 1px, 1px, 1px);height: 1px;margin: -1px;overflow: hidden;padding: 0;position: absolute;width: 1px;}#sk-container-id-3 div.sk-estimator {font-family: monospace;background-color: #f0f8ff;border: 1px dotted black;border-radius: 0.25em;box-sizing: border-box;margin-bottom: 0.5em;}#sk-container-id-3 div.sk-estimator:hover {background-color: #d4ebff;}#sk-container-id-3 div.sk-parallel-item::after {content: \"\";width: 100%;border-bottom: 1px solid gray;flex-grow: 1;}#sk-container-id-3 div.sk-label:hover label.sk-toggleable__label {background-color: #d4ebff;}#sk-container-id-3 div.sk-serial::before {content: \"\";position: absolute;border-left: 1px solid gray;box-sizing: border-box;top: 0;bottom: 0;left: 50%;z-index: 0;}#sk-container-id-3 div.sk-serial {display: flex;flex-direction: column;align-items: center;background-color: white;padding-right: 0.2em;padding-left: 0.2em;position: relative;}#sk-container-id-3 div.sk-item {position: relative;z-index: 1;}#sk-container-id-3 div.sk-parallel {display: flex;align-items: stretch;justify-content: center;background-color: white;position: relative;}#sk-container-id-3 div.sk-item::before, #sk-container-id-3 div.sk-parallel-item::before {content: \"\";position: absolute;border-left: 1px solid gray;box-sizing: border-box;top: 0;bottom: 0;left: 50%;z-index: -1;}#sk-container-id-3 div.sk-parallel-item {display: flex;flex-direction: column;z-index: 1;position: relative;background-color: white;}#sk-container-id-3 div.sk-parallel-item:first-child::after {align-self: flex-end;width: 50%;}#sk-container-id-3 div.sk-parallel-item:last-child::after {align-self: flex-start;width: 50%;}#sk-container-id-3 div.sk-parallel-item:only-child::after {width: 0;}#sk-container-id-3 div.sk-dashed-wrapped {border: 1px dashed gray;margin: 0 0.4em 0.5em 0.4em;box-sizing: border-box;padding-bottom: 0.4em;background-color: white;}#sk-container-id-3 div.sk-label label {font-family: monospace;font-weight: bold;display: inline-block;line-height: 1.2em;}#sk-container-id-3 div.sk-label-container {text-align: center;}#sk-container-id-3 div.sk-container {/* jupyter's `normalize.less` sets `[hidden] { display: none; }` but bootstrap.min.css set `[hidden] { display: none !important; }` so we also need the `!important` here to be able to override the default hidden behavior on the sphinx rendered scikit-learn.org. See: https://github.com/scikit-learn/scikit-learn/issues/21755 */display: inline-block !important;position: relative;}#sk-container-id-3 div.sk-text-repr-fallback {display: none;}</style><div id=\"sk-container-id-3\" class=\"sk-top-container\"><div class=\"sk-text-repr-fallback\"><pre>RandomizedSearchCV(cv=4, estimator=GradientBoostingClassifier(),\n",
       "                   param_distributions={&#x27;learning_rate&#x27;: [0.01, 0.1, 0.2],\n",
       "                                        &#x27;max_depth&#x27;: [5, 11, 17, 23, 29, 35, 41,\n",
       "                                                      47],\n",
       "                                        &#x27;n_estimators&#x27;: [100, 200, 300, 400],\n",
       "                                        &#x27;subsample&#x27;: [0.8, 0.9, 1.0]},\n",
       "                   random_state=0)</pre><b>In a Jupyter environment, please rerun this cell to show the HTML representation or trust the notebook. <br />On GitHub, the HTML representation is unable to render, please try loading this page with nbviewer.org.</b></div><div class=\"sk-container\" hidden><div class=\"sk-item sk-dashed-wrapped\"><div class=\"sk-label-container\"><div class=\"sk-label sk-toggleable\"><input class=\"sk-toggleable__control sk-hidden--visually\" id=\"sk-estimator-id-5\" type=\"checkbox\" ><label for=\"sk-estimator-id-5\" class=\"sk-toggleable__label sk-toggleable__label-arrow\">RandomizedSearchCV</label><div class=\"sk-toggleable__content\"><pre>RandomizedSearchCV(cv=4, estimator=GradientBoostingClassifier(),\n",
       "                   param_distributions={&#x27;learning_rate&#x27;: [0.01, 0.1, 0.2],\n",
       "                                        &#x27;max_depth&#x27;: [5, 11, 17, 23, 29, 35, 41,\n",
       "                                                      47],\n",
       "                                        &#x27;n_estimators&#x27;: [100, 200, 300, 400],\n",
       "                                        &#x27;subsample&#x27;: [0.8, 0.9, 1.0]},\n",
       "                   random_state=0)</pre></div></div></div><div class=\"sk-parallel\"><div class=\"sk-parallel-item\"><div class=\"sk-item\"><div class=\"sk-label-container\"><div class=\"sk-label sk-toggleable\"><input class=\"sk-toggleable__control sk-hidden--visually\" id=\"sk-estimator-id-6\" type=\"checkbox\" ><label for=\"sk-estimator-id-6\" class=\"sk-toggleable__label sk-toggleable__label-arrow\">estimator: GradientBoostingClassifier</label><div class=\"sk-toggleable__content\"><pre>GradientBoostingClassifier()</pre></div></div></div><div class=\"sk-serial\"><div class=\"sk-item\"><div class=\"sk-estimator sk-toggleable\"><input class=\"sk-toggleable__control sk-hidden--visually\" id=\"sk-estimator-id-7\" type=\"checkbox\" ><label for=\"sk-estimator-id-7\" class=\"sk-toggleable__label sk-toggleable__label-arrow\">GradientBoostingClassifier</label><div class=\"sk-toggleable__content\"><pre>GradientBoostingClassifier()</pre></div></div></div></div></div></div></div></div></div></div>"
      ],
      "text/plain": [
       "RandomizedSearchCV(cv=4, estimator=GradientBoostingClassifier(),\n",
       "                   param_distributions={'learning_rate': [0.01, 0.1, 0.2],\n",
       "                                        'max_depth': [5, 11, 17, 23, 29, 35, 41,\n",
       "                                                      47],\n",
       "                                        'n_estimators': [100, 200, 300, 400],\n",
       "                                        'subsample': [0.8, 0.9, 1.0]},\n",
       "                   random_state=0)"
      ]
     },
     "execution_count": 65,
     "metadata": {},
     "output_type": "execute_result"
    }
   ],
   "source": [
    "rf_model.fit(X_train,y_train)"
   ]
  },
  {
   "cell_type": "code",
   "execution_count": 66,
   "id": "815788c1",
   "metadata": {},
   "outputs": [
    {
     "data": {
      "text/plain": [
       "{'subsample': 0.9, 'n_estimators': 300, 'max_depth': 29, 'learning_rate': 0.01}"
      ]
     },
     "execution_count": 66,
     "metadata": {},
     "output_type": "execute_result"
    }
   ],
   "source": [
    "rf_model.best_params_"
   ]
  },
  {
   "cell_type": "code",
   "execution_count": 67,
   "id": "1307aeae",
   "metadata": {},
   "outputs": [
    {
     "name": "stdout",
     "output_type": "stream",
     "text": [
      "Train Accuracy:- 100.0 \n",
      "\n",
      "Test Accuracy:- 60.0 \n",
      "\n",
      "confusion_matrix:- \n",
      " [[5 6]\n",
      " [2 7]] \n",
      "\n",
      "classification_report:- \n",
      "               precision    recall  f1-score   support\n",
      "\n",
      "           0       0.71      0.45      0.56        11\n",
      "           1       0.54      0.78      0.64         9\n",
      "\n",
      "    accuracy                           0.60        20\n",
      "   macro avg       0.63      0.62      0.60        20\n",
      "weighted avg       0.64      0.60      0.59        20\n",
      "\n"
     ]
    }
   ],
   "source": [
    "GGC=GradientBoostingClassifier(n_estimators= 300,subsample= 0.9,max_depth= 29,learning_rate= 0.01)\n",
    "GGC.fit(X_train, y_train)\n",
    "y_train_pred = XGB.predict(X_train)\n",
    "y_test_pred = XGB.predict(X_test)\n",
    "print(\"Train Accuracy:-\",accuracy_score(y_train, y_train_pred)*100,'\\n')\n",
    "print(\"Test Accuracy:-\",accuracy_score(y_test, y_test_pred)*100,\"\\n\")\n",
    "print(\"confusion_matrix:-\",\"\\n\",confusion_matrix(y_test, y_test_pred),\"\\n\")\n",
    "print(\"classification_report:-\",\"\\n\",classification_report(y_test, y_test_pred))"
   ]
  },
  {
   "cell_type": "markdown",
   "id": "8040d5e6",
   "metadata": {},
   "source": [
    "**I have received commendable accolades for my proficiency in utilizing the GradientBoostingClassifier, showcasing my adeptness in leveraging advanced machine learning techniques to achieve successful outcomes.**"
   ]
  }
 ],
 "metadata": {
  "kernelspec": {
   "display_name": "Python 3 (ipykernel)",
   "language": "python",
   "name": "python3"
  },
  "language_info": {
   "codemirror_mode": {
    "name": "ipython",
    "version": 3
   },
   "file_extension": ".py",
   "mimetype": "text/x-python",
   "name": "python",
   "nbconvert_exporter": "python",
   "pygments_lexer": "ipython3",
   "version": "3.10.9"
  }
 },
 "nbformat": 4,
 "nbformat_minor": 5
}
