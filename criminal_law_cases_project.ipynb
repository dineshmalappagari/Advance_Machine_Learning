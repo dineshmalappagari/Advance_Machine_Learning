{
 "cells": [
  {
   "cell_type": "markdown",
   "id": "ff835552",
   "metadata": {},
   "source": [
    "# 1. Importing the Necessary Libraries"
   ]
  },
  {
   "cell_type": "code",
   "execution_count": 1,
   "id": "10de0d6d",
   "metadata": {},
   "outputs": [],
   "source": [
    "import pandas as pd\n",
    "import numpy as np #NumPy can be used to perform a wide variety of mathematical operations on arrays\n",
    "import matplotlib.pyplot as plt\n",
    "import seaborn as sns"
   ]
  },
  {
   "cell_type": "code",
   "execution_count": 2,
   "id": "d5169bb2",
   "metadata": {},
   "outputs": [],
   "source": [
    "data=pd.read_csv(r\"C:\\Users\\mdine\\Downloads\\criminal_law_cases_dataset.csv\")"
   ]
  },
  {
   "cell_type": "code",
   "execution_count": 3,
   "id": "43477f53",
   "metadata": {},
   "outputs": [
    {
     "data": {
      "text/html": [
       "<div>\n",
       "<style scoped>\n",
       "    .dataframe tbody tr th:only-of-type {\n",
       "        vertical-align: middle;\n",
       "    }\n",
       "\n",
       "    .dataframe tbody tr th {\n",
       "        vertical-align: top;\n",
       "    }\n",
       "\n",
       "    .dataframe thead th {\n",
       "        text-align: right;\n",
       "    }\n",
       "</style>\n",
       "<table border=\"1\" class=\"dataframe\">\n",
       "  <thead>\n",
       "    <tr style=\"text-align: right;\">\n",
       "      <th></th>\n",
       "      <th>CaseID</th>\n",
       "      <th>CrimeType</th>\n",
       "      <th>CaseDate</th>\n",
       "      <th>Verdict</th>\n",
       "      <th>ReformID</th>\n",
       "      <th>ReformDate</th>\n",
       "    </tr>\n",
       "  </thead>\n",
       "  <tbody>\n",
       "    <tr>\n",
       "      <th>0</th>\n",
       "      <td>43374</td>\n",
       "      <td>Theft</td>\n",
       "      <td>2010-07-21</td>\n",
       "      <td>Not Guilty</td>\n",
       "      <td>807</td>\n",
       "      <td>2010-06-28</td>\n",
       "    </tr>\n",
       "    <tr>\n",
       "      <th>1</th>\n",
       "      <td>17788</td>\n",
       "      <td>Drug-related</td>\n",
       "      <td>2010-07-21</td>\n",
       "      <td>Not Guilty</td>\n",
       "      <td>695</td>\n",
       "      <td>2010-01-06</td>\n",
       "    </tr>\n",
       "    <tr>\n",
       "      <th>2</th>\n",
       "      <td>24281</td>\n",
       "      <td>Drug-related</td>\n",
       "      <td>2010-08-22</td>\n",
       "      <td>Not Guilty</td>\n",
       "      <td>576</td>\n",
       "      <td>2010-09-12</td>\n",
       "    </tr>\n",
       "    <tr>\n",
       "      <th>3</th>\n",
       "      <td>19774</td>\n",
       "      <td>Theft</td>\n",
       "      <td>2010-09-20</td>\n",
       "      <td>Guilty</td>\n",
       "      <td>189</td>\n",
       "      <td>2010-11-20</td>\n",
       "    </tr>\n",
       "    <tr>\n",
       "      <th>4</th>\n",
       "      <td>78219</td>\n",
       "      <td>Drug-related</td>\n",
       "      <td>2010-01-20</td>\n",
       "      <td>Guilty</td>\n",
       "      <td>818</td>\n",
       "      <td>2010-01-20</td>\n",
       "    </tr>\n",
       "  </tbody>\n",
       "</table>\n",
       "</div>"
      ],
      "text/plain": [
       "   CaseID     CrimeType    CaseDate     Verdict  ReformID  ReformDate\n",
       "0   43374         Theft  2010-07-21  Not Guilty       807  2010-06-28\n",
       "1   17788  Drug-related  2010-07-21  Not Guilty       695  2010-01-06\n",
       "2   24281  Drug-related  2010-08-22  Not Guilty       576  2010-09-12\n",
       "3   19774         Theft  2010-09-20      Guilty       189  2010-11-20\n",
       "4   78219  Drug-related  2010-01-20      Guilty       818  2010-01-20"
      ]
     },
     "execution_count": 3,
     "metadata": {},
     "output_type": "execute_result"
    }
   ],
   "source": [
    "data.head()"
   ]
  },
  {
   "cell_type": "code",
   "execution_count": 4,
   "id": "d3bd2fc3",
   "metadata": {},
   "outputs": [
    {
     "data": {
      "text/html": [
       "<div>\n",
       "<style scoped>\n",
       "    .dataframe tbody tr th:only-of-type {\n",
       "        vertical-align: middle;\n",
       "    }\n",
       "\n",
       "    .dataframe tbody tr th {\n",
       "        vertical-align: top;\n",
       "    }\n",
       "\n",
       "    .dataframe thead th {\n",
       "        text-align: right;\n",
       "    }\n",
       "</style>\n",
       "<table border=\"1\" class=\"dataframe\">\n",
       "  <thead>\n",
       "    <tr style=\"text-align: right;\">\n",
       "      <th></th>\n",
       "      <th>CaseID</th>\n",
       "      <th>CrimeType</th>\n",
       "      <th>CaseDate</th>\n",
       "      <th>Verdict</th>\n",
       "      <th>ReformID</th>\n",
       "      <th>ReformDate</th>\n",
       "    </tr>\n",
       "  </thead>\n",
       "  <tbody>\n",
       "    <tr>\n",
       "      <th>544</th>\n",
       "      <td>69456</td>\n",
       "      <td>Theft</td>\n",
       "      <td>2020-03-24</td>\n",
       "      <td>Guilty</td>\n",
       "      <td>936</td>\n",
       "      <td>2020-06-15</td>\n",
       "    </tr>\n",
       "    <tr>\n",
       "      <th>545</th>\n",
       "      <td>43814</td>\n",
       "      <td>Drug-related</td>\n",
       "      <td>2020-04-13</td>\n",
       "      <td>Not Guilty</td>\n",
       "      <td>267</td>\n",
       "      <td>2020-01-26</td>\n",
       "    </tr>\n",
       "    <tr>\n",
       "      <th>546</th>\n",
       "      <td>66660</td>\n",
       "      <td>Theft</td>\n",
       "      <td>2020-11-06</td>\n",
       "      <td>Guilty</td>\n",
       "      <td>444</td>\n",
       "      <td>2020-12-22</td>\n",
       "    </tr>\n",
       "    <tr>\n",
       "      <th>547</th>\n",
       "      <td>87236</td>\n",
       "      <td>Assault</td>\n",
       "      <td>2020-12-22</td>\n",
       "      <td>Not Guilty</td>\n",
       "      <td>321</td>\n",
       "      <td>2020-10-23</td>\n",
       "    </tr>\n",
       "    <tr>\n",
       "      <th>548</th>\n",
       "      <td>31336</td>\n",
       "      <td>Drug-related</td>\n",
       "      <td>2020-05-27</td>\n",
       "      <td>Not Guilty</td>\n",
       "      <td>284</td>\n",
       "      <td>2020-02-21</td>\n",
       "    </tr>\n",
       "  </tbody>\n",
       "</table>\n",
       "</div>"
      ],
      "text/plain": [
       "     CaseID     CrimeType    CaseDate     Verdict  ReformID  ReformDate\n",
       "544   69456         Theft  2020-03-24      Guilty       936  2020-06-15\n",
       "545   43814  Drug-related  2020-04-13  Not Guilty       267  2020-01-26\n",
       "546   66660         Theft  2020-11-06      Guilty       444  2020-12-22\n",
       "547   87236       Assault  2020-12-22  Not Guilty       321  2020-10-23\n",
       "548   31336  Drug-related  2020-05-27  Not Guilty       284  2020-02-21"
      ]
     },
     "execution_count": 4,
     "metadata": {},
     "output_type": "execute_result"
    }
   ],
   "source": [
    "data.tail()"
   ]
  },
  {
   "cell_type": "code",
   "execution_count": 5,
   "id": "1f3d10ae",
   "metadata": {},
   "outputs": [
    {
     "data": {
      "text/plain": [
       "(549, 6)"
      ]
     },
     "execution_count": 5,
     "metadata": {},
     "output_type": "execute_result"
    }
   ],
   "source": [
    "data.shape"
   ]
  },
  {
   "cell_type": "code",
   "execution_count": 6,
   "id": "023c1368",
   "metadata": {},
   "outputs": [
    {
     "name": "stdout",
     "output_type": "stream",
     "text": [
      "<class 'pandas.core.frame.DataFrame'>\n",
      "RangeIndex: 549 entries, 0 to 548\n",
      "Data columns (total 6 columns):\n",
      " #   Column      Non-Null Count  Dtype \n",
      "---  ------      --------------  ----- \n",
      " 0   CaseID      549 non-null    int64 \n",
      " 1   CrimeType   549 non-null    object\n",
      " 2   CaseDate    549 non-null    object\n",
      " 3   Verdict     549 non-null    object\n",
      " 4   ReformID    549 non-null    int64 \n",
      " 5   ReformDate  549 non-null    object\n",
      "dtypes: int64(2), object(4)\n",
      "memory usage: 25.9+ KB\n"
     ]
    }
   ],
   "source": [
    "data.info()"
   ]
  },
  {
   "cell_type": "code",
   "execution_count": 7,
   "id": "ecb7f7fd",
   "metadata": {},
   "outputs": [
    {
     "data": {
      "text/plain": [
       "0"
      ]
     },
     "execution_count": 7,
     "metadata": {},
     "output_type": "execute_result"
    }
   ],
   "source": [
    "data.duplicated().sum()"
   ]
  },
  {
   "cell_type": "code",
   "execution_count": 8,
   "id": "fb82cc7a",
   "metadata": {},
   "outputs": [
    {
     "data": {
      "text/plain": [
       "CaseID        0\n",
       "CrimeType     0\n",
       "CaseDate      0\n",
       "Verdict       0\n",
       "ReformID      0\n",
       "ReformDate    0\n",
       "dtype: int64"
      ]
     },
     "execution_count": 8,
     "metadata": {},
     "output_type": "execute_result"
    }
   ],
   "source": [
    "data.isnull().sum()"
   ]
  },
  {
   "cell_type": "code",
   "execution_count": 9,
   "id": "8549860c",
   "metadata": {},
   "outputs": [
    {
     "data": {
      "text/html": [
       "<div>\n",
       "<style scoped>\n",
       "    .dataframe tbody tr th:only-of-type {\n",
       "        vertical-align: middle;\n",
       "    }\n",
       "\n",
       "    .dataframe tbody tr th {\n",
       "        vertical-align: top;\n",
       "    }\n",
       "\n",
       "    .dataframe thead th {\n",
       "        text-align: right;\n",
       "    }\n",
       "</style>\n",
       "<table border=\"1\" class=\"dataframe\">\n",
       "  <thead>\n",
       "    <tr style=\"text-align: right;\">\n",
       "      <th></th>\n",
       "      <th>CaseID</th>\n",
       "      <th>ReformID</th>\n",
       "    </tr>\n",
       "  </thead>\n",
       "  <tbody>\n",
       "    <tr>\n",
       "      <th>count</th>\n",
       "      <td>549.000000</td>\n",
       "      <td>549.000000</td>\n",
       "    </tr>\n",
       "    <tr>\n",
       "      <th>mean</th>\n",
       "      <td>55231.883424</td>\n",
       "      <td>569.016393</td>\n",
       "    </tr>\n",
       "    <tr>\n",
       "      <th>std</th>\n",
       "      <td>26824.980185</td>\n",
       "      <td>253.742372</td>\n",
       "    </tr>\n",
       "    <tr>\n",
       "      <th>min</th>\n",
       "      <td>10043.000000</td>\n",
       "      <td>100.000000</td>\n",
       "    </tr>\n",
       "    <tr>\n",
       "      <th>25%</th>\n",
       "      <td>30978.000000</td>\n",
       "      <td>356.000000</td>\n",
       "    </tr>\n",
       "    <tr>\n",
       "      <th>50%</th>\n",
       "      <td>55387.000000</td>\n",
       "      <td>578.000000</td>\n",
       "    </tr>\n",
       "    <tr>\n",
       "      <th>75%</th>\n",
       "      <td>79728.000000</td>\n",
       "      <td>790.000000</td>\n",
       "    </tr>\n",
       "    <tr>\n",
       "      <th>max</th>\n",
       "      <td>99834.000000</td>\n",
       "      <td>997.000000</td>\n",
       "    </tr>\n",
       "  </tbody>\n",
       "</table>\n",
       "</div>"
      ],
      "text/plain": [
       "             CaseID    ReformID\n",
       "count    549.000000  549.000000\n",
       "mean   55231.883424  569.016393\n",
       "std    26824.980185  253.742372\n",
       "min    10043.000000  100.000000\n",
       "25%    30978.000000  356.000000\n",
       "50%    55387.000000  578.000000\n",
       "75%    79728.000000  790.000000\n",
       "max    99834.000000  997.000000"
      ]
     },
     "execution_count": 9,
     "metadata": {},
     "output_type": "execute_result"
    }
   ],
   "source": [
    "data.describe()"
   ]
  },
  {
   "cell_type": "code",
   "execution_count": 10,
   "id": "964e1f9c",
   "metadata": {},
   "outputs": [],
   "source": [
    "# Assuming 'CaseDate' is a column in your DataFrame\n",
    "data['CaseDate'] = pd.to_datetime(data['CaseDate'])  # Convert 'CaseDate' to datetime format\n",
    "\n",
    "# Split 'CaseDate' into separate columns for year, month, and day\n",
    "data['CaseDate(Year)'] = data['CaseDate'].dt.year\n",
    "data['CaseDate(Month)'] = data['CaseDate'].dt.month\n",
    "data['CaseDate(Day)'] = data['CaseDate'].dt.day\n",
    "\n",
    "# Assuming 'CaseDate' is a column in your DataFrame\n",
    "data['ReformDate'] = pd.to_datetime(data['ReformDate'])  # Convert 'CaseDate' to datetime format\n",
    "\n",
    "# Split 'CaseDate' into separate columns for year, month, and day\n",
    "data['ReformDate(Year)'] = data['ReformDate'].dt.year\n",
    "data['ReformDate(Month)'] = data['ReformDate'].dt.month\n",
    "data['ReformDate(Day)'] = data['ReformDate'].dt.day"
   ]
  },
  {
   "cell_type": "code",
   "execution_count": 13,
   "id": "753f3265",
   "metadata": {},
   "outputs": [],
   "source": [
    "data.drop(['ReformDate','CaseDate'],axis=1,inplace=True)"
   ]
  },
  {
   "cell_type": "code",
   "execution_count": 14,
   "id": "0f3be6b6",
   "metadata": {},
   "outputs": [
    {
     "data": {
      "text/html": [
       "<div>\n",
       "<style scoped>\n",
       "    .dataframe tbody tr th:only-of-type {\n",
       "        vertical-align: middle;\n",
       "    }\n",
       "\n",
       "    .dataframe tbody tr th {\n",
       "        vertical-align: top;\n",
       "    }\n",
       "\n",
       "    .dataframe thead th {\n",
       "        text-align: right;\n",
       "    }\n",
       "</style>\n",
       "<table border=\"1\" class=\"dataframe\">\n",
       "  <thead>\n",
       "    <tr style=\"text-align: right;\">\n",
       "      <th></th>\n",
       "      <th>CaseID</th>\n",
       "      <th>CrimeType</th>\n",
       "      <th>Verdict</th>\n",
       "      <th>ReformID</th>\n",
       "      <th>CaseDate(Year)</th>\n",
       "      <th>CaseDate(Month)</th>\n",
       "      <th>CaseDate(Day)</th>\n",
       "      <th>ReformDate(Year)</th>\n",
       "      <th>ReformDate(Month)</th>\n",
       "      <th>ReformDate(Day)</th>\n",
       "    </tr>\n",
       "  </thead>\n",
       "  <tbody>\n",
       "    <tr>\n",
       "      <th>0</th>\n",
       "      <td>43374</td>\n",
       "      <td>Theft</td>\n",
       "      <td>Not Guilty</td>\n",
       "      <td>807</td>\n",
       "      <td>2010</td>\n",
       "      <td>7</td>\n",
       "      <td>21</td>\n",
       "      <td>2010</td>\n",
       "      <td>6</td>\n",
       "      <td>28</td>\n",
       "    </tr>\n",
       "    <tr>\n",
       "      <th>1</th>\n",
       "      <td>17788</td>\n",
       "      <td>Drug-related</td>\n",
       "      <td>Not Guilty</td>\n",
       "      <td>695</td>\n",
       "      <td>2010</td>\n",
       "      <td>7</td>\n",
       "      <td>21</td>\n",
       "      <td>2010</td>\n",
       "      <td>1</td>\n",
       "      <td>6</td>\n",
       "    </tr>\n",
       "    <tr>\n",
       "      <th>2</th>\n",
       "      <td>24281</td>\n",
       "      <td>Drug-related</td>\n",
       "      <td>Not Guilty</td>\n",
       "      <td>576</td>\n",
       "      <td>2010</td>\n",
       "      <td>8</td>\n",
       "      <td>22</td>\n",
       "      <td>2010</td>\n",
       "      <td>9</td>\n",
       "      <td>12</td>\n",
       "    </tr>\n",
       "    <tr>\n",
       "      <th>3</th>\n",
       "      <td>19774</td>\n",
       "      <td>Theft</td>\n",
       "      <td>Guilty</td>\n",
       "      <td>189</td>\n",
       "      <td>2010</td>\n",
       "      <td>9</td>\n",
       "      <td>20</td>\n",
       "      <td>2010</td>\n",
       "      <td>11</td>\n",
       "      <td>20</td>\n",
       "    </tr>\n",
       "    <tr>\n",
       "      <th>4</th>\n",
       "      <td>78219</td>\n",
       "      <td>Drug-related</td>\n",
       "      <td>Guilty</td>\n",
       "      <td>818</td>\n",
       "      <td>2010</td>\n",
       "      <td>1</td>\n",
       "      <td>20</td>\n",
       "      <td>2010</td>\n",
       "      <td>1</td>\n",
       "      <td>20</td>\n",
       "    </tr>\n",
       "    <tr>\n",
       "      <th>...</th>\n",
       "      <td>...</td>\n",
       "      <td>...</td>\n",
       "      <td>...</td>\n",
       "      <td>...</td>\n",
       "      <td>...</td>\n",
       "      <td>...</td>\n",
       "      <td>...</td>\n",
       "      <td>...</td>\n",
       "      <td>...</td>\n",
       "      <td>...</td>\n",
       "    </tr>\n",
       "    <tr>\n",
       "      <th>544</th>\n",
       "      <td>69456</td>\n",
       "      <td>Theft</td>\n",
       "      <td>Guilty</td>\n",
       "      <td>936</td>\n",
       "      <td>2020</td>\n",
       "      <td>3</td>\n",
       "      <td>24</td>\n",
       "      <td>2020</td>\n",
       "      <td>6</td>\n",
       "      <td>15</td>\n",
       "    </tr>\n",
       "    <tr>\n",
       "      <th>545</th>\n",
       "      <td>43814</td>\n",
       "      <td>Drug-related</td>\n",
       "      <td>Not Guilty</td>\n",
       "      <td>267</td>\n",
       "      <td>2020</td>\n",
       "      <td>4</td>\n",
       "      <td>13</td>\n",
       "      <td>2020</td>\n",
       "      <td>1</td>\n",
       "      <td>26</td>\n",
       "    </tr>\n",
       "    <tr>\n",
       "      <th>546</th>\n",
       "      <td>66660</td>\n",
       "      <td>Theft</td>\n",
       "      <td>Guilty</td>\n",
       "      <td>444</td>\n",
       "      <td>2020</td>\n",
       "      <td>11</td>\n",
       "      <td>6</td>\n",
       "      <td>2020</td>\n",
       "      <td>12</td>\n",
       "      <td>22</td>\n",
       "    </tr>\n",
       "    <tr>\n",
       "      <th>547</th>\n",
       "      <td>87236</td>\n",
       "      <td>Assault</td>\n",
       "      <td>Not Guilty</td>\n",
       "      <td>321</td>\n",
       "      <td>2020</td>\n",
       "      <td>12</td>\n",
       "      <td>22</td>\n",
       "      <td>2020</td>\n",
       "      <td>10</td>\n",
       "      <td>23</td>\n",
       "    </tr>\n",
       "    <tr>\n",
       "      <th>548</th>\n",
       "      <td>31336</td>\n",
       "      <td>Drug-related</td>\n",
       "      <td>Not Guilty</td>\n",
       "      <td>284</td>\n",
       "      <td>2020</td>\n",
       "      <td>5</td>\n",
       "      <td>27</td>\n",
       "      <td>2020</td>\n",
       "      <td>2</td>\n",
       "      <td>21</td>\n",
       "    </tr>\n",
       "  </tbody>\n",
       "</table>\n",
       "<p>549 rows × 10 columns</p>\n",
       "</div>"
      ],
      "text/plain": [
       "     CaseID     CrimeType     Verdict  ReformID  CaseDate(Year)  \\\n",
       "0     43374         Theft  Not Guilty       807            2010   \n",
       "1     17788  Drug-related  Not Guilty       695            2010   \n",
       "2     24281  Drug-related  Not Guilty       576            2010   \n",
       "3     19774         Theft      Guilty       189            2010   \n",
       "4     78219  Drug-related      Guilty       818            2010   \n",
       "..      ...           ...         ...       ...             ...   \n",
       "544   69456         Theft      Guilty       936            2020   \n",
       "545   43814  Drug-related  Not Guilty       267            2020   \n",
       "546   66660         Theft      Guilty       444            2020   \n",
       "547   87236       Assault  Not Guilty       321            2020   \n",
       "548   31336  Drug-related  Not Guilty       284            2020   \n",
       "\n",
       "     CaseDate(Month)  CaseDate(Day)  ReformDate(Year)  ReformDate(Month)  \\\n",
       "0                  7             21              2010                  6   \n",
       "1                  7             21              2010                  1   \n",
       "2                  8             22              2010                  9   \n",
       "3                  9             20              2010                 11   \n",
       "4                  1             20              2010                  1   \n",
       "..               ...            ...               ...                ...   \n",
       "544                3             24              2020                  6   \n",
       "545                4             13              2020                  1   \n",
       "546               11              6              2020                 12   \n",
       "547               12             22              2020                 10   \n",
       "548                5             27              2020                  2   \n",
       "\n",
       "     ReformDate(Day)  \n",
       "0                 28  \n",
       "1                  6  \n",
       "2                 12  \n",
       "3                 20  \n",
       "4                 20  \n",
       "..               ...  \n",
       "544               15  \n",
       "545               26  \n",
       "546               22  \n",
       "547               23  \n",
       "548               21  \n",
       "\n",
       "[549 rows x 10 columns]"
      ]
     },
     "execution_count": 14,
     "metadata": {},
     "output_type": "execute_result"
    }
   ],
   "source": [
    "data"
   ]
  },
  {
   "cell_type": "code",
   "execution_count": 15,
   "id": "1c452567",
   "metadata": {},
   "outputs": [
    {
     "name": "stdout",
     "output_type": "stream",
     "text": [
      "Value counts for column 'CaseID':\n",
      "43374    1\n",
      "34619    1\n",
      "24231    1\n",
      "10163    1\n",
      "10259    1\n",
      "        ..\n",
      "75198    1\n",
      "21111    1\n",
      "24809    1\n",
      "36952    1\n",
      "31336    1\n",
      "Name: CaseID, Length: 549, dtype: int64\n",
      "\n",
      "\n",
      "Value counts for column 'CrimeType':\n",
      "Drug-related    141\n",
      "Theft           140\n",
      "Assault         137\n",
      "Fraud           131\n",
      "Name: CrimeType, dtype: int64\n",
      "\n",
      "\n",
      "Value counts for column 'Verdict':\n",
      "Not Guilty    286\n",
      "Guilty        263\n",
      "Name: Verdict, dtype: int64\n",
      "\n",
      "\n",
      "Value counts for column 'ReformID':\n",
      "810    4\n",
      "884    4\n",
      "683    3\n",
      "214    3\n",
      "142    3\n",
      "      ..\n",
      "467    1\n",
      "250    1\n",
      "360    1\n",
      "560    1\n",
      "284    1\n",
      "Name: ReformID, Length: 412, dtype: int64\n",
      "\n",
      "\n",
      "Value counts for column 'CaseDate(Year)':\n",
      "2010    50\n",
      "2011    50\n",
      "2012    50\n",
      "2013    50\n",
      "2014    50\n",
      "2015    50\n",
      "2016    50\n",
      "2017    50\n",
      "2018    50\n",
      "2020    50\n",
      "2019    49\n",
      "Name: CaseDate(Year), dtype: int64\n",
      "\n",
      "\n",
      "Value counts for column 'CaseDate(Month)':\n",
      "9     53\n",
      "12    52\n",
      "6     51\n",
      "5     48\n",
      "11    46\n",
      "4     46\n",
      "2     44\n",
      "10    44\n",
      "8     43\n",
      "3     43\n",
      "7     40\n",
      "1     39\n",
      "Name: CaseDate(Month), dtype: int64\n",
      "\n",
      "\n",
      "Value counts for column 'CaseDate(Day)':\n",
      "5     33\n",
      "18    25\n",
      "12    25\n",
      "7     23\n",
      "24    22\n",
      "9     22\n",
      "14    22\n",
      "6     22\n",
      "23    21\n",
      "26    21\n",
      "20    20\n",
      "4     20\n",
      "11    20\n",
      "27    20\n",
      "8     19\n",
      "2     19\n",
      "21    19\n",
      "16    19\n",
      "22    18\n",
      "15    17\n",
      "10    17\n",
      "28    16\n",
      "13    16\n",
      "17    16\n",
      "3     16\n",
      "25    15\n",
      "1     14\n",
      "19    12\n",
      "Name: CaseDate(Day), dtype: int64\n",
      "\n",
      "\n",
      "Value counts for column 'ReformDate(Year)':\n",
      "2010    50\n",
      "2011    50\n",
      "2012    50\n",
      "2013    50\n",
      "2014    50\n",
      "2015    50\n",
      "2016    50\n",
      "2017    50\n",
      "2018    50\n",
      "2020    50\n",
      "2019    49\n",
      "Name: ReformDate(Year), dtype: int64\n",
      "\n",
      "\n",
      "Value counts for column 'ReformDate(Month)':\n",
      "6     61\n",
      "11    51\n",
      "12    51\n",
      "9     46\n",
      "4     46\n",
      "3     46\n",
      "2     45\n",
      "1     44\n",
      "10    43\n",
      "7     40\n",
      "5     38\n",
      "8     38\n",
      "Name: ReformDate(Month), dtype: int64\n",
      "\n",
      "\n",
      "Value counts for column 'ReformDate(Day)':\n",
      "20    28\n",
      "6     28\n",
      "12    25\n",
      "16    25\n",
      "28    24\n",
      "8     24\n",
      "11    24\n",
      "17    23\n",
      "21    21\n",
      "5     21\n",
      "3     21\n",
      "4     21\n",
      "22    20\n",
      "7     20\n",
      "27    20\n",
      "10    20\n",
      "15    19\n",
      "18    18\n",
      "1     17\n",
      "24    17\n",
      "19    17\n",
      "26    15\n",
      "25    15\n",
      "9     15\n",
      "23    15\n",
      "2     14\n",
      "13    13\n",
      "14     9\n",
      "Name: ReformDate(Day), dtype: int64\n",
      "\n",
      "\n"
     ]
    }
   ],
   "source": [
    "for column in data.columns:\n",
    "    print(f\"Value counts for column '{column}':\")\n",
    "    print(data[column].value_counts())\n",
    "    print(\"\\n\")"
   ]
  },
  {
   "cell_type": "markdown",
   "id": "a90111ff",
   "metadata": {},
   "source": [
    "# Now will Seprate all Numerical and categorical data"
   ]
  },
  {
   "cell_type": "code",
   "execution_count": 16,
   "id": "f4d6ffdc",
   "metadata": {},
   "outputs": [
    {
     "data": {
      "text/html": [
       "<div>\n",
       "<style scoped>\n",
       "    .dataframe tbody tr th:only-of-type {\n",
       "        vertical-align: middle;\n",
       "    }\n",
       "\n",
       "    .dataframe tbody tr th {\n",
       "        vertical-align: top;\n",
       "    }\n",
       "\n",
       "    .dataframe thead th {\n",
       "        text-align: right;\n",
       "    }\n",
       "</style>\n",
       "<table border=\"1\" class=\"dataframe\">\n",
       "  <thead>\n",
       "    <tr style=\"text-align: right;\">\n",
       "      <th></th>\n",
       "      <th>CaseID</th>\n",
       "      <th>ReformID</th>\n",
       "      <th>CaseDate(Year)</th>\n",
       "      <th>CaseDate(Month)</th>\n",
       "      <th>CaseDate(Day)</th>\n",
       "      <th>ReformDate(Year)</th>\n",
       "      <th>ReformDate(Month)</th>\n",
       "      <th>ReformDate(Day)</th>\n",
       "    </tr>\n",
       "  </thead>\n",
       "  <tbody>\n",
       "    <tr>\n",
       "      <th>0</th>\n",
       "      <td>43374</td>\n",
       "      <td>807</td>\n",
       "      <td>2010</td>\n",
       "      <td>7</td>\n",
       "      <td>21</td>\n",
       "      <td>2010</td>\n",
       "      <td>6</td>\n",
       "      <td>28</td>\n",
       "    </tr>\n",
       "    <tr>\n",
       "      <th>1</th>\n",
       "      <td>17788</td>\n",
       "      <td>695</td>\n",
       "      <td>2010</td>\n",
       "      <td>7</td>\n",
       "      <td>21</td>\n",
       "      <td>2010</td>\n",
       "      <td>1</td>\n",
       "      <td>6</td>\n",
       "    </tr>\n",
       "    <tr>\n",
       "      <th>2</th>\n",
       "      <td>24281</td>\n",
       "      <td>576</td>\n",
       "      <td>2010</td>\n",
       "      <td>8</td>\n",
       "      <td>22</td>\n",
       "      <td>2010</td>\n",
       "      <td>9</td>\n",
       "      <td>12</td>\n",
       "    </tr>\n",
       "  </tbody>\n",
       "</table>\n",
       "</div>"
      ],
      "text/plain": [
       "   CaseID  ReformID  CaseDate(Year)  CaseDate(Month)  CaseDate(Day)  \\\n",
       "0   43374       807            2010                7             21   \n",
       "1   17788       695            2010                7             21   \n",
       "2   24281       576            2010                8             22   \n",
       "\n",
       "   ReformDate(Year)  ReformDate(Month)  ReformDate(Day)  \n",
       "0              2010                  6               28  \n",
       "1              2010                  1                6  \n",
       "2              2010                  9               12  "
      ]
     },
     "execution_count": 16,
     "metadata": {},
     "output_type": "execute_result"
    }
   ],
   "source": [
    "num_data=data.select_dtypes(exclude='object')\n",
    "num_data.head(3)"
   ]
  },
  {
   "cell_type": "code",
   "execution_count": 17,
   "id": "971e2700",
   "metadata": {},
   "outputs": [
    {
     "data": {
      "text/html": [
       "<div>\n",
       "<style scoped>\n",
       "    .dataframe tbody tr th:only-of-type {\n",
       "        vertical-align: middle;\n",
       "    }\n",
       "\n",
       "    .dataframe tbody tr th {\n",
       "        vertical-align: top;\n",
       "    }\n",
       "\n",
       "    .dataframe thead th {\n",
       "        text-align: right;\n",
       "    }\n",
       "</style>\n",
       "<table border=\"1\" class=\"dataframe\">\n",
       "  <thead>\n",
       "    <tr style=\"text-align: right;\">\n",
       "      <th></th>\n",
       "      <th>CrimeType</th>\n",
       "      <th>Verdict</th>\n",
       "    </tr>\n",
       "  </thead>\n",
       "  <tbody>\n",
       "    <tr>\n",
       "      <th>0</th>\n",
       "      <td>Theft</td>\n",
       "      <td>Not Guilty</td>\n",
       "    </tr>\n",
       "    <tr>\n",
       "      <th>1</th>\n",
       "      <td>Drug-related</td>\n",
       "      <td>Not Guilty</td>\n",
       "    </tr>\n",
       "    <tr>\n",
       "      <th>2</th>\n",
       "      <td>Drug-related</td>\n",
       "      <td>Not Guilty</td>\n",
       "    </tr>\n",
       "  </tbody>\n",
       "</table>\n",
       "</div>"
      ],
      "text/plain": [
       "      CrimeType     Verdict\n",
       "0         Theft  Not Guilty\n",
       "1  Drug-related  Not Guilty\n",
       "2  Drug-related  Not Guilty"
      ]
     },
     "execution_count": 17,
     "metadata": {},
     "output_type": "execute_result"
    }
   ],
   "source": [
    "cat_data=data.select_dtypes(include='object')\n",
    "cat_data.head(3)"
   ]
  },
  {
   "cell_type": "code",
   "execution_count": 18,
   "id": "95b7eb87",
   "metadata": {},
   "outputs": [
    {
     "name": "stdout",
     "output_type": "stream",
     "text": [
      "CaseID\n"
     ]
    },
    {
     "data": {
      "image/png": "[encoded data removed]",
      "text/plain": [
       "<Figure size 640x480 with 1 Axes>"
      ]
     },
     "metadata": {},
     "output_type": "display_data"
    },
    {
     "name": "stderr",
     "output_type": "stream",
     "text": [
      "C:\\Users\\mdine\\AppData\\Local\\Temp\\ipykernel_26140\\1092467759.py:5: UserWarning: \n",
      "\n",
      "`distplot` is a deprecated function and will be removed in seaborn v0.14.0.\n",
      "\n",
      "Please adapt your code to use either `displot` (a figure-level function with\n",
      "similar flexibility) or `histplot` (an axes-level function for histograms).\n",
      "\n",
      "For a guide to updating your code to use the new functions, please see\n",
      "https://gist.github.com/mwaskom/de44147ed2974457ad6372750bbe5751\n",
      "\n",
      "  sns.distplot(data[i])\n"
     ]
    },
    {
     "data": {
      "image/png": "[encoded data removed]",
      "text/plain": [
       "<Figure size 640x480 with 1 Axes>"
      ]
     },
     "metadata": {},
     "output_type": "display_data"
    },
    {
     "name": "stdout",
     "output_type": "stream",
     "text": [
      "ReformID\n"
     ]
    },
    {
     "data": {
      "image/png": "[encoded data removed]",
      "text/plain": [
       "<Figure size 640x480 with 1 Axes>"
      ]
     },
     "metadata": {},
     "output_type": "display_data"
    },
    {
     "name": "stderr",
     "output_type": "stream",
     "text": [
      "C:\\Users\\mdine\\AppData\\Local\\Temp\\ipykernel_26140\\1092467759.py:5: UserWarning: \n",
      "\n",
      "`distplot` is a deprecated function and will be removed in seaborn v0.14.0.\n",
      "\n",
      "Please adapt your code to use either `displot` (a figure-level function with\n",
      "similar flexibility) or `histplot` (an axes-level function for histograms).\n",
      "\n",
      "For a guide to updating your code to use the new functions, please see\n",
      "https://gist.github.com/mwaskom/de44147ed2974457ad6372750bbe5751\n",
      "\n",
      "  sns.distplot(data[i])\n"
     ]
    },
    {
     "data": {
      "image/png": "[encoded data removed]",
      "text/plain": [
       "<Figure size 640x480 with 1 Axes>"
      ]
     },
     "metadata": {},
     "output_type": "display_data"
    },
    {
     "name": "stdout",
     "output_type": "stream",
     "text": [
      "CaseDate(Year)\n"
     ]
    },
    {
     "data": {
      "image/png": "[encoded data removed]",
      "text/plain": [
       "<Figure size 640x480 with 1 Axes>"
      ]
     },
     "metadata": {},
     "output_type": "display_data"
    },
    {
     "name": "stderr",
     "output_type": "stream",
     "text": [
      "C:\\Users\\mdine\\AppData\\Local\\Temp\\ipykernel_26140\\1092467759.py:5: UserWarning: \n",
      "\n",
      "`distplot` is a deprecated function and will be removed in seaborn v0.14.0.\n",
      "\n",
      "Please adapt your code to use either `displot` (a figure-level function with\n",
      "similar flexibility) or `histplot` (an axes-level function for histograms).\n",
      "\n",
      "For a guide to updating your code to use the new functions, please see\n",
      "https://gist.github.com/mwaskom/de44147ed2974457ad6372750bbe5751\n",
      "\n",
      "  sns.distplot(data[i])\n"
     ]
    },
    {
     "data": {
      "image/png": "[encoded data removed]",
      "text/plain": [
       "<Figure size 640x480 with 1 Axes>"
      ]
     },
     "metadata": {},
     "output_type": "display_data"
    },
    {
     "name": "stdout",
     "output_type": "stream",
     "text": [
      "CaseDate(Month)\n"
     ]
    },
    {
     "data": {
      "image/png": "[encoded data removed]",
      "text/plain": [
       "<Figure size 640x480 with 1 Axes>"
      ]
     },
     "metadata": {},
     "output_type": "display_data"
    },
    {
     "name": "stderr",
     "output_type": "stream",
     "text": [
      "C:\\Users\\mdine\\AppData\\Local\\Temp\\ipykernel_26140\\1092467759.py:5: UserWarning: \n",
      "\n",
      "`distplot` is a deprecated function and will be removed in seaborn v0.14.0.\n",
      "\n",
      "Please adapt your code to use either `displot` (a figure-level function with\n",
      "similar flexibility) or `histplot` (an axes-level function for histograms).\n",
      "\n",
      "For a guide to updating your code to use the new functions, please see\n",
      "https://gist.github.com/mwaskom/de44147ed2974457ad6372750bbe5751\n",
      "\n",
      "  sns.distplot(data[i])\n"
     ]
    },
    {
     "data": {
      "image/png": "[encoded data removed]",
      "text/plain": [
       "<Figure size 640x480 with 1 Axes>"
      ]
     },
     "metadata": {},
     "output_type": "display_data"
    },
    {
     "name": "stdout",
     "output_type": "stream",
     "text": [
      "CaseDate(Day)\n"
     ]
    },
    {
     "data": {
      "image/png": "[encoded data removed]",
      "text/plain": [
       "<Figure size 640x480 with 1 Axes>"
      ]
     },
     "metadata": {},
     "output_type": "display_data"
    },
    {
     "name": "stderr",
     "output_type": "stream",
     "text": [
      "C:\\Users\\mdine\\AppData\\Local\\Temp\\ipykernel_26140\\1092467759.py:5: UserWarning: \n",
      "\n",
      "`distplot` is a deprecated function and will be removed in seaborn v0.14.0.\n",
      "\n",
      "Please adapt your code to use either `displot` (a figure-level function with\n",
      "similar flexibility) or `histplot` (an axes-level function for histograms).\n",
      "\n",
      "For a guide to updating your code to use the new functions, please see\n",
      "https://gist.github.com/mwaskom/de44147ed2974457ad6372750bbe5751\n",
      "\n",
      "  sns.distplot(data[i])\n"
     ]
    },
    {
     "data": {
      "image/png": "[encoded data removed]",
      "text/plain": [
       "<Figure size 640x480 with 1 Axes>"
      ]
     },
     "metadata": {},
     "output_type": "display_data"
    },
    {
     "name": "stdout",
     "output_type": "stream",
     "text": [
      "ReformDate(Year)\n"
     ]
    },
    {
     "data": {
      "image/png": "[encoded data removed]",
      "text/plain": [
       "<Figure size 640x480 with 1 Axes>"
      ]
     },
     "metadata": {},
     "output_type": "display_data"
    },
    {
     "name": "stderr",
     "output_type": "stream",
     "text": [
      "C:\\Users\\mdine\\AppData\\Local\\Temp\\ipykernel_26140\\1092467759.py:5: UserWarning: \n",
      "\n",
      "`distplot` is a deprecated function and will be removed in seaborn v0.14.0.\n",
      "\n",
      "Please adapt your code to use either `displot` (a figure-level function with\n",
      "similar flexibility) or `histplot` (an axes-level function for histograms).\n",
      "\n",
      "For a guide to updating your code to use the new functions, please see\n",
      "https://gist.github.com/mwaskom/de44147ed2974457ad6372750bbe5751\n",
      "\n",
      "  sns.distplot(data[i])\n"
     ]
    },
    {
     "data": {
      "image/png": "[encoded data removed]",
      "text/plain": [
       "<Figure size 640x480 with 1 Axes>"
      ]
     },
     "metadata": {},
     "output_type": "display_data"
    },
    {
     "name": "stdout",
     "output_type": "stream",
     "text": [
      "ReformDate(Month)\n"
     ]
    },
    {
     "data": {
      "image/png": "[encoded data removed]",
      "text/plain": [
       "<Figure size 640x480 with 1 Axes>"
      ]
     },
     "metadata": {},
     "output_type": "display_data"
    },
    {
     "name": "stderr",
     "output_type": "stream",
     "text": [
      "C:\\Users\\mdine\\AppData\\Local\\Temp\\ipykernel_26140\\1092467759.py:5: UserWarning: \n",
      "\n",
      "`distplot` is a deprecated function and will be removed in seaborn v0.14.0.\n",
      "\n",
      "Please adapt your code to use either `displot` (a figure-level function with\n",
      "similar flexibility) or `histplot` (an axes-level function for histograms).\n",
      "\n",
      "For a guide to updating your code to use the new functions, please see\n",
      "https://gist.github.com/mwaskom/de44147ed2974457ad6372750bbe5751\n",
      "\n",
      "  sns.distplot(data[i])\n"
     ]
    },
    {
     "data": {
      "image/png": "[encoded data removed]",
      "text/plain": [
       "<Figure size 640x480 with 1 Axes>"
      ]
     },
     "metadata": {},
     "output_type": "display_data"
    },
    {
     "name": "stdout",
     "output_type": "stream",
     "text": [
      "ReformDate(Day)\n"
     ]
    },
    {
     "data": {
      "image/png": "[encoded data removed]",
      "text/plain": [
       "<Figure size 640x480 with 1 Axes>"
      ]
     },
     "metadata": {},
     "output_type": "display_data"
    },
    {
     "name": "stderr",
     "output_type": "stream",
     "text": [
      "C:\\Users\\mdine\\AppData\\Local\\Temp\\ipykernel_26140\\1092467759.py:5: UserWarning: \n",
      "\n",
      "`distplot` is a deprecated function and will be removed in seaborn v0.14.0.\n",
      "\n",
      "Please adapt your code to use either `displot` (a figure-level function with\n",
      "similar flexibility) or `histplot` (an axes-level function for histograms).\n",
      "\n",
      "For a guide to updating your code to use the new functions, please see\n",
      "https://gist.github.com/mwaskom/de44147ed2974457ad6372750bbe5751\n",
      "\n",
      "  sns.distplot(data[i])\n"
     ]
    },
    {
     "data": {
      "image/png": "[encoded data removed]",
      "text/plain": [
       "<Figure size 640x480 with 1 Axes>"
      ]
     },
     "metadata": {},
     "output_type": "display_data"
    }
   ],
   "source": [
    "for i in num_data:\n",
    "    print(i)\n",
    "    sns.boxplot(data[i])\n",
    "    plt.show()\n",
    "    sns.distplot(data[i])\n",
    "    plt.show()"
   ]
  },
  {
   "cell_type": "code",
   "execution_count": 19,
   "id": "b9104f4b",
   "metadata": {},
   "outputs": [
    {
     "name": "stdout",
     "output_type": "stream",
     "text": [
      "CrimeType\n",
      "['Theft' 'Drug-related' 'Assault' 'Fraud']\n",
      "Number of unique values = 4\n"
     ]
    },
    {
     "data": {
      "image/png": "[encoded data removed]",
      "text/plain": [
       "<Figure size 640x480 with 1 Axes>"
      ]
     },
     "metadata": {},
     "output_type": "display_data"
    },
    {
     "name": "stdout",
     "output_type": "stream",
     "text": [
      "Verdict\n",
      "['Not Guilty' 'Guilty']\n",
      "Number of unique values = 2\n"
     ]
    },
    {
     "data": {
      "image/png": "[encoded data removed]",
      "text/plain": [
       "<Figure size 640x480 with 1 Axes>"
      ]
     },
     "metadata": {},
     "output_type": "display_data"
    }
   ],
   "source": [
    "for i in cat_data:\n",
    "    print(i)\n",
    "    print(data[i].unique())\n",
    "    print('Number of unique values =', data[i].nunique())\n",
    "    sns.countplot(data=data, x=i)  # Specify 'x' as the categorical variable.\n",
    "    plt.xticks(rotation=45)  # Rotate x-axis labels for better readability if needed.\n",
    "    plt.show()"
   ]
  },
  {
   "cell_type": "code",
   "execution_count": 20,
   "id": "8f179cfc",
   "metadata": {},
   "outputs": [
    {
     "name": "stdout",
     "output_type": "stream",
     "text": [
      "CrimeType\n",
      "['Theft' 'Drug-related' 'Assault' 'Fraud']\n",
      "Number of unique values = 4\n"
     ]
    },
    {
     "data": {
      "image/png": "[encoded data removed]",
      "text/plain": [
       "<Figure size 1000x600 with 1 Axes>"
      ]
     },
     "metadata": {},
     "output_type": "display_data"
    },
    {
     "name": "stdout",
     "output_type": "stream",
     "text": [
      "Verdict\n",
      "['Not Guilty' 'Guilty']\n",
      "Number of unique values = 2\n"
     ]
    },
    {
     "data": {
      "image/png": "[encoded data removed]",
      "text/plain": [
       "<Figure size 1000x600 with 1 Axes>"
      ]
     },
     "metadata": {},
     "output_type": "display_data"
    }
   ],
   "source": [
    "for i in cat_data:\n",
    "    print(i)\n",
    "    print(data[i].unique())\n",
    "    print('Number of unique values =', data[i].nunique())\n",
    "\n",
    "    plt.figure(figsize=(10, 6))\n",
    "    sns.countplot(data=data, x=i, hue='Verdict')\n",
    "    plt.title(f'Countplot for {i} with Verdict')\n",
    "    plt.xticks(rotation=45)\n",
    "    plt.show()"
   ]
  },
  {
   "cell_type": "markdown",
   "id": "3e259f1f",
   "metadata": {},
   "source": [
    "# Insights:\n",
    "\n",
    "**1) The dataset exhibits a normal distribution, and no outliers were identified during the analysis, indicating a relatively balanced and consistent distribution of data points.**\n",
    "\n",
    "**2) The distribution of crime types, including 'Theft,' 'Drug-related,' 'Assault,' and 'Fraud,' reveals a uniform registration pattern, with no significant variations in the occurrence of each crime, suggesting a well-distributed dataset.**\n",
    "\n",
    "**3) In the Verdict column, the frequency of 'Not Guilty' verdicts surpasses that of 'Guilty,' indicating a prevailing trend towards acquittals in the analyzed criminal cases.**"
   ]
  },
  {
   "cell_type": "code",
   "execution_count": 21,
   "id": "d79699d8",
   "metadata": {},
   "outputs": [
    {
     "name": "stderr",
     "output_type": "stream",
     "text": [
      "C:\\Users\\mdine\\AppData\\Local\\Temp\\ipykernel_26140\\2627137660.py:1: FutureWarning: The default value of numeric_only in DataFrame.corr is deprecated. In a future version, it will default to False. Select only valid columns or specify the value of numeric_only to silence this warning.\n",
      "  data.corr()\n"
     ]
    },
    {
     "data": {
      "text/html": [
       "<div>\n",
       "<style scoped>\n",
       "    .dataframe tbody tr th:only-of-type {\n",
       "        vertical-align: middle;\n",
       "    }\n",
       "\n",
       "    .dataframe tbody tr th {\n",
       "        vertical-align: top;\n",
       "    }\n",
       "\n",
       "    .dataframe thead th {\n",
       "        text-align: right;\n",
       "    }\n",
       "</style>\n",
       "<table border=\"1\" class=\"dataframe\">\n",
       "  <thead>\n",
       "    <tr style=\"text-align: right;\">\n",
       "      <th></th>\n",
       "      <th>CaseID</th>\n",
       "      <th>ReformID</th>\n",
       "      <th>CaseDate(Year)</th>\n",
       "      <th>CaseDate(Month)</th>\n",
       "      <th>CaseDate(Day)</th>\n",
       "      <th>ReformDate(Year)</th>\n",
       "      <th>ReformDate(Month)</th>\n",
       "      <th>ReformDate(Day)</th>\n",
       "    </tr>\n",
       "  </thead>\n",
       "  <tbody>\n",
       "    <tr>\n",
       "      <th>CaseID</th>\n",
       "      <td>1.000000</td>\n",
       "      <td>0.064863</td>\n",
       "      <td>0.068678</td>\n",
       "      <td>0.079806</td>\n",
       "      <td>-0.031924</td>\n",
       "      <td>0.068678</td>\n",
       "      <td>-0.067839</td>\n",
       "      <td>-0.021774</td>\n",
       "    </tr>\n",
       "    <tr>\n",
       "      <th>ReformID</th>\n",
       "      <td>0.064863</td>\n",
       "      <td>1.000000</td>\n",
       "      <td>0.059446</td>\n",
       "      <td>-0.015246</td>\n",
       "      <td>-0.044237</td>\n",
       "      <td>0.059446</td>\n",
       "      <td>-0.070634</td>\n",
       "      <td>0.068889</td>\n",
       "    </tr>\n",
       "    <tr>\n",
       "      <th>CaseDate(Year)</th>\n",
       "      <td>0.068678</td>\n",
       "      <td>0.059446</td>\n",
       "      <td>1.000000</td>\n",
       "      <td>0.057174</td>\n",
       "      <td>-0.016096</td>\n",
       "      <td>1.000000</td>\n",
       "      <td>-0.064238</td>\n",
       "      <td>-0.107720</td>\n",
       "    </tr>\n",
       "    <tr>\n",
       "      <th>CaseDate(Month)</th>\n",
       "      <td>0.079806</td>\n",
       "      <td>-0.015246</td>\n",
       "      <td>0.057174</td>\n",
       "      <td>1.000000</td>\n",
       "      <td>0.054185</td>\n",
       "      <td>0.057174</td>\n",
       "      <td>0.054777</td>\n",
       "      <td>0.090656</td>\n",
       "    </tr>\n",
       "    <tr>\n",
       "      <th>CaseDate(Day)</th>\n",
       "      <td>-0.031924</td>\n",
       "      <td>-0.044237</td>\n",
       "      <td>-0.016096</td>\n",
       "      <td>0.054185</td>\n",
       "      <td>1.000000</td>\n",
       "      <td>-0.016096</td>\n",
       "      <td>0.055945</td>\n",
       "      <td>-0.091100</td>\n",
       "    </tr>\n",
       "    <tr>\n",
       "      <th>ReformDate(Year)</th>\n",
       "      <td>0.068678</td>\n",
       "      <td>0.059446</td>\n",
       "      <td>1.000000</td>\n",
       "      <td>0.057174</td>\n",
       "      <td>-0.016096</td>\n",
       "      <td>1.000000</td>\n",
       "      <td>-0.064238</td>\n",
       "      <td>-0.107720</td>\n",
       "    </tr>\n",
       "    <tr>\n",
       "      <th>ReformDate(Month)</th>\n",
       "      <td>-0.067839</td>\n",
       "      <td>-0.070634</td>\n",
       "      <td>-0.064238</td>\n",
       "      <td>0.054777</td>\n",
       "      <td>0.055945</td>\n",
       "      <td>-0.064238</td>\n",
       "      <td>1.000000</td>\n",
       "      <td>0.066612</td>\n",
       "    </tr>\n",
       "    <tr>\n",
       "      <th>ReformDate(Day)</th>\n",
       "      <td>-0.021774</td>\n",
       "      <td>0.068889</td>\n",
       "      <td>-0.107720</td>\n",
       "      <td>0.090656</td>\n",
       "      <td>-0.091100</td>\n",
       "      <td>-0.107720</td>\n",
       "      <td>0.066612</td>\n",
       "      <td>1.000000</td>\n",
       "    </tr>\n",
       "  </tbody>\n",
       "</table>\n",
       "</div>"
      ],
      "text/plain": [
       "                     CaseID  ReformID  CaseDate(Year)  CaseDate(Month)  \\\n",
       "CaseID             1.000000  0.064863        0.068678         0.079806   \n",
       "ReformID           0.064863  1.000000        0.059446        -0.015246   \n",
       "CaseDate(Year)     0.068678  0.059446        1.000000         0.057174   \n",
       "CaseDate(Month)    0.079806 -0.015246        0.057174         1.000000   \n",
       "CaseDate(Day)     -0.031924 -0.044237       -0.016096         0.054185   \n",
       "ReformDate(Year)   0.068678  0.059446        1.000000         0.057174   \n",
       "ReformDate(Month) -0.067839 -0.070634       -0.064238         0.054777   \n",
       "ReformDate(Day)   -0.021774  0.068889       -0.107720         0.090656   \n",
       "\n",
       "                   CaseDate(Day)  ReformDate(Year)  ReformDate(Month)  \\\n",
       "CaseID                 -0.031924          0.068678          -0.067839   \n",
       "ReformID               -0.044237          0.059446          -0.070634   \n",
       "CaseDate(Year)         -0.016096          1.000000          -0.064238   \n",
       "CaseDate(Month)         0.054185          0.057174           0.054777   \n",
       "CaseDate(Day)           1.000000         -0.016096           0.055945   \n",
       "ReformDate(Year)       -0.016096          1.000000          -0.064238   \n",
       "ReformDate(Month)       0.055945         -0.064238           1.000000   \n",
       "ReformDate(Day)        -0.091100         -0.107720           0.066612   \n",
       "\n",
       "                   ReformDate(Day)  \n",
       "CaseID                   -0.021774  \n",
       "ReformID                  0.068889  \n",
       "CaseDate(Year)           -0.107720  \n",
       "CaseDate(Month)           0.090656  \n",
       "CaseDate(Day)            -0.091100  \n",
       "ReformDate(Year)         -0.107720  \n",
       "ReformDate(Month)         0.066612  \n",
       "ReformDate(Day)           1.000000  "
      ]
     },
     "execution_count": 21,
     "metadata": {},
     "output_type": "execute_result"
    }
   ],
   "source": [
    "data.corr()"
   ]
  },
  {
   "cell_type": "code",
   "execution_count": 22,
   "id": "20b07c05",
   "metadata": {},
   "outputs": [
    {
     "name": "stderr",
     "output_type": "stream",
     "text": [
      "C:\\Users\\mdine\\AppData\\Local\\Temp\\ipykernel_26140\\2026356764.py:2: FutureWarning: The default value of numeric_only in DataFrame.corr is deprecated. In a future version, it will default to False. Select only valid columns or specify the value of numeric_only to silence this warning.\n",
      "  correlation_matrix = data.corr()\n"
     ]
    },
    {
     "data": {
      "image/png": "[encoded data removed]",
      "text/plain": [
       "<Figure size 1000x1200 with 2 Axes>"
      ]
     },
     "metadata": {},
     "output_type": "display_data"
    }
   ],
   "source": [
    "# Sample correlation matrix\n",
    "correlation_matrix = data.corr()\n",
    "\n",
    "# Create a heatmap of the correlation matrix\n",
    "plt.figure(figsize=(10, 12))\n",
    "sns.heatmap(correlation_matrix, cmap='coolwarm', annot=True, fmt=\".2f\")  # 'annot' displays the correlation values, 'fmt' formats the annotation\n",
    "\n",
    "# Add labels and title\n",
    "plt.xlabel('X-Axis Label')\n",
    "plt.ylabel('Y-Axis Label')\n",
    "plt.title('Correlation Heatmap')\n",
    "\n",
    "# Display the plot\n",
    "plt.show()"
   ]
  },
  {
   "cell_type": "markdown",
   "id": "c91c948c",
   "metadata": {},
   "source": [
    "# One-hot encoding"
   ]
  },
  {
   "cell_type": "code",
   "execution_count": 24,
   "id": "5044053c",
   "metadata": {},
   "outputs": [],
   "source": [
    "data.replace({'Not Guilty':0,'Guilty':1},inplace=True)"
   ]
  },
  {
   "cell_type": "code",
   "execution_count": 27,
   "id": "b704e748",
   "metadata": {},
   "outputs": [
    {
     "data": {
      "text/plain": [
       "CaseID                int64\n",
       "CrimeType            object\n",
       "Verdict               int64\n",
       "ReformID              int64\n",
       "CaseDate(Year)        int64\n",
       "CaseDate(Month)       int64\n",
       "CaseDate(Day)         int64\n",
       "ReformDate(Year)      int64\n",
       "ReformDate(Month)     int64\n",
       "ReformDate(Day)       int64\n",
       "dtype: object"
      ]
     },
     "execution_count": 27,
     "metadata": {},
     "output_type": "execute_result"
    }
   ],
   "source": [
    "data.dtypes"
   ]
  },
  {
   "cell_type": "code",
   "execution_count": 28,
   "id": "a4c0a607",
   "metadata": {},
   "outputs": [],
   "source": [
    "data=pd.get_dummies(data)"
   ]
  },
  {
   "cell_type": "code",
   "execution_count": 29,
   "id": "2e4d7c22",
   "metadata": {},
   "outputs": [
    {
     "data": {
      "text/html": [
       "<div>\n",
       "<style scoped>\n",
       "    .dataframe tbody tr th:only-of-type {\n",
       "        vertical-align: middle;\n",
       "    }\n",
       "\n",
       "    .dataframe tbody tr th {\n",
       "        vertical-align: top;\n",
       "    }\n",
       "\n",
       "    .dataframe thead th {\n",
       "        text-align: right;\n",
       "    }\n",
       "</style>\n",
       "<table border=\"1\" class=\"dataframe\">\n",
       "  <thead>\n",
       "    <tr style=\"text-align: right;\">\n",
       "      <th></th>\n",
       "      <th>CaseID</th>\n",
       "      <th>Verdict</th>\n",
       "      <th>ReformID</th>\n",
       "      <th>CaseDate(Year)</th>\n",
       "      <th>CaseDate(Month)</th>\n",
       "      <th>CaseDate(Day)</th>\n",
       "      <th>ReformDate(Year)</th>\n",
       "      <th>ReformDate(Month)</th>\n",
       "      <th>ReformDate(Day)</th>\n",
       "      <th>CrimeType_Assault</th>\n",
       "      <th>CrimeType_Drug-related</th>\n",
       "      <th>CrimeType_Fraud</th>\n",
       "      <th>CrimeType_Theft</th>\n",
       "    </tr>\n",
       "  </thead>\n",
       "  <tbody>\n",
       "    <tr>\n",
       "      <th>0</th>\n",
       "      <td>43374</td>\n",
       "      <td>0</td>\n",
       "      <td>807</td>\n",
       "      <td>2010</td>\n",
       "      <td>7</td>\n",
       "      <td>21</td>\n",
       "      <td>2010</td>\n",
       "      <td>6</td>\n",
       "      <td>28</td>\n",
       "      <td>0</td>\n",
       "      <td>0</td>\n",
       "      <td>0</td>\n",
       "      <td>1</td>\n",
       "    </tr>\n",
       "    <tr>\n",
       "      <th>1</th>\n",
       "      <td>17788</td>\n",
       "      <td>0</td>\n",
       "      <td>695</td>\n",
       "      <td>2010</td>\n",
       "      <td>7</td>\n",
       "      <td>21</td>\n",
       "      <td>2010</td>\n",
       "      <td>1</td>\n",
       "      <td>6</td>\n",
       "      <td>0</td>\n",
       "      <td>1</td>\n",
       "      <td>0</td>\n",
       "      <td>0</td>\n",
       "    </tr>\n",
       "    <tr>\n",
       "      <th>2</th>\n",
       "      <td>24281</td>\n",
       "      <td>0</td>\n",
       "      <td>576</td>\n",
       "      <td>2010</td>\n",
       "      <td>8</td>\n",
       "      <td>22</td>\n",
       "      <td>2010</td>\n",
       "      <td>9</td>\n",
       "      <td>12</td>\n",
       "      <td>0</td>\n",
       "      <td>1</td>\n",
       "      <td>0</td>\n",
       "      <td>0</td>\n",
       "    </tr>\n",
       "    <tr>\n",
       "      <th>3</th>\n",
       "      <td>19774</td>\n",
       "      <td>1</td>\n",
       "      <td>189</td>\n",
       "      <td>2010</td>\n",
       "      <td>9</td>\n",
       "      <td>20</td>\n",
       "      <td>2010</td>\n",
       "      <td>11</td>\n",
       "      <td>20</td>\n",
       "      <td>0</td>\n",
       "      <td>0</td>\n",
       "      <td>0</td>\n",
       "      <td>1</td>\n",
       "    </tr>\n",
       "    <tr>\n",
       "      <th>4</th>\n",
       "      <td>78219</td>\n",
       "      <td>1</td>\n",
       "      <td>818</td>\n",
       "      <td>2010</td>\n",
       "      <td>1</td>\n",
       "      <td>20</td>\n",
       "      <td>2010</td>\n",
       "      <td>1</td>\n",
       "      <td>20</td>\n",
       "      <td>0</td>\n",
       "      <td>1</td>\n",
       "      <td>0</td>\n",
       "      <td>0</td>\n",
       "    </tr>\n",
       "    <tr>\n",
       "      <th>...</th>\n",
       "      <td>...</td>\n",
       "      <td>...</td>\n",
       "      <td>...</td>\n",
       "      <td>...</td>\n",
       "      <td>...</td>\n",
       "      <td>...</td>\n",
       "      <td>...</td>\n",
       "      <td>...</td>\n",
       "      <td>...</td>\n",
       "      <td>...</td>\n",
       "      <td>...</td>\n",
       "      <td>...</td>\n",
       "      <td>...</td>\n",
       "    </tr>\n",
       "    <tr>\n",
       "      <th>544</th>\n",
       "      <td>69456</td>\n",
       "      <td>1</td>\n",
       "      <td>936</td>\n",
       "      <td>2020</td>\n",
       "      <td>3</td>\n",
       "      <td>24</td>\n",
       "      <td>2020</td>\n",
       "      <td>6</td>\n",
       "      <td>15</td>\n",
       "      <td>0</td>\n",
       "      <td>0</td>\n",
       "      <td>0</td>\n",
       "      <td>1</td>\n",
       "    </tr>\n",
       "    <tr>\n",
       "      <th>545</th>\n",
       "      <td>43814</td>\n",
       "      <td>0</td>\n",
       "      <td>267</td>\n",
       "      <td>2020</td>\n",
       "      <td>4</td>\n",
       "      <td>13</td>\n",
       "      <td>2020</td>\n",
       "      <td>1</td>\n",
       "      <td>26</td>\n",
       "      <td>0</td>\n",
       "      <td>1</td>\n",
       "      <td>0</td>\n",
       "      <td>0</td>\n",
       "    </tr>\n",
       "    <tr>\n",
       "      <th>546</th>\n",
       "      <td>66660</td>\n",
       "      <td>1</td>\n",
       "      <td>444</td>\n",
       "      <td>2020</td>\n",
       "      <td>11</td>\n",
       "      <td>6</td>\n",
       "      <td>2020</td>\n",
       "      <td>12</td>\n",
       "      <td>22</td>\n",
       "      <td>0</td>\n",
       "      <td>0</td>\n",
       "      <td>0</td>\n",
       "      <td>1</td>\n",
       "    </tr>\n",
       "    <tr>\n",
       "      <th>547</th>\n",
       "      <td>87236</td>\n",
       "      <td>0</td>\n",
       "      <td>321</td>\n",
       "      <td>2020</td>\n",
       "      <td>12</td>\n",
       "      <td>22</td>\n",
       "      <td>2020</td>\n",
       "      <td>10</td>\n",
       "      <td>23</td>\n",
       "      <td>1</td>\n",
       "      <td>0</td>\n",
       "      <td>0</td>\n",
       "      <td>0</td>\n",
       "    </tr>\n",
       "    <tr>\n",
       "      <th>548</th>\n",
       "      <td>31336</td>\n",
       "      <td>0</td>\n",
       "      <td>284</td>\n",
       "      <td>2020</td>\n",
       "      <td>5</td>\n",
       "      <td>27</td>\n",
       "      <td>2020</td>\n",
       "      <td>2</td>\n",
       "      <td>21</td>\n",
       "      <td>0</td>\n",
       "      <td>1</td>\n",
       "      <td>0</td>\n",
       "      <td>0</td>\n",
       "    </tr>\n",
       "  </tbody>\n",
       "</table>\n",
       "<p>549 rows × 13 columns</p>\n",
       "</div>"
      ],
      "text/plain": [
       "     CaseID  Verdict  ReformID  CaseDate(Year)  CaseDate(Month)  \\\n",
       "0     43374        0       807            2010                7   \n",
       "1     17788        0       695            2010                7   \n",
       "2     24281        0       576            2010                8   \n",
       "3     19774        1       189            2010                9   \n",
       "4     78219        1       818            2010                1   \n",
       "..      ...      ...       ...             ...              ...   \n",
       "544   69456        1       936            2020                3   \n",
       "545   43814        0       267            2020                4   \n",
       "546   66660        1       444            2020               11   \n",
       "547   87236        0       321            2020               12   \n",
       "548   31336        0       284            2020                5   \n",
       "\n",
       "     CaseDate(Day)  ReformDate(Year)  ReformDate(Month)  ReformDate(Day)  \\\n",
       "0               21              2010                  6               28   \n",
       "1               21              2010                  1                6   \n",
       "2               22              2010                  9               12   \n",
       "3               20              2010                 11               20   \n",
       "4               20              2010                  1               20   \n",
       "..             ...               ...                ...              ...   \n",
       "544             24              2020                  6               15   \n",
       "545             13              2020                  1               26   \n",
       "546              6              2020                 12               22   \n",
       "547             22              2020                 10               23   \n",
       "548             27              2020                  2               21   \n",
       "\n",
       "     CrimeType_Assault  CrimeType_Drug-related  CrimeType_Fraud  \\\n",
       "0                    0                       0                0   \n",
       "1                    0                       1                0   \n",
       "2                    0                       1                0   \n",
       "3                    0                       0                0   \n",
       "4                    0                       1                0   \n",
       "..                 ...                     ...              ...   \n",
       "544                  0                       0                0   \n",
       "545                  0                       1                0   \n",
       "546                  0                       0                0   \n",
       "547                  1                       0                0   \n",
       "548                  0                       1                0   \n",
       "\n",
       "     CrimeType_Theft  \n",
       "0                  1  \n",
       "1                  0  \n",
       "2                  0  \n",
       "3                  1  \n",
       "4                  0  \n",
       "..               ...  \n",
       "544                1  \n",
       "545                0  \n",
       "546                1  \n",
       "547                0  \n",
       "548                0  \n",
       "\n",
       "[549 rows x 13 columns]"
      ]
     },
     "execution_count": 29,
     "metadata": {},
     "output_type": "execute_result"
    }
   ],
   "source": [
    "data"
   ]
  },
  {
   "cell_type": "markdown",
   "id": "ed9bfdaf",
   "metadata": {},
   "source": [
    "# Data Splitting:"
   ]
  },
  {
   "cell_type": "code",
   "execution_count": 30,
   "id": "3f168f75",
   "metadata": {},
   "outputs": [],
   "source": [
    "# Separate object for target feature\n",
    "y= data['Verdict']\n",
    "\n",
    "# Separate object for Predictors\n",
    "X = data.drop('Verdict',axis=1)"
   ]
  },
  {
   "cell_type": "code",
   "execution_count": 31,
   "id": "def767d9",
   "metadata": {},
   "outputs": [
    {
     "name": "stdout",
     "output_type": "stream",
     "text": [
      "Independent Features shape = (549, 12), Dependent Features Shape = (549,)\n"
     ]
    }
   ],
   "source": [
    "print(f'Independent Features shape = {X.shape}, Dependent Features Shape = {y.shape}')"
   ]
  },
  {
   "cell_type": "code",
   "execution_count": 32,
   "id": "627b3444",
   "metadata": {},
   "outputs": [
    {
     "data": {
      "text/html": [
       "<div>\n",
       "<style scoped>\n",
       "    .dataframe tbody tr th:only-of-type {\n",
       "        vertical-align: middle;\n",
       "    }\n",
       "\n",
       "    .dataframe tbody tr th {\n",
       "        vertical-align: top;\n",
       "    }\n",
       "\n",
       "    .dataframe thead th {\n",
       "        text-align: right;\n",
       "    }\n",
       "</style>\n",
       "<table border=\"1\" class=\"dataframe\">\n",
       "  <thead>\n",
       "    <tr style=\"text-align: right;\">\n",
       "      <th></th>\n",
       "      <th>CaseID</th>\n",
       "      <th>ReformID</th>\n",
       "      <th>CaseDate(Year)</th>\n",
       "      <th>CaseDate(Month)</th>\n",
       "      <th>CaseDate(Day)</th>\n",
       "      <th>ReformDate(Year)</th>\n",
       "      <th>ReformDate(Month)</th>\n",
       "      <th>ReformDate(Day)</th>\n",
       "      <th>CrimeType_Assault</th>\n",
       "      <th>CrimeType_Drug-related</th>\n",
       "      <th>CrimeType_Fraud</th>\n",
       "      <th>CrimeType_Theft</th>\n",
       "    </tr>\n",
       "  </thead>\n",
       "  <tbody>\n",
       "    <tr>\n",
       "      <th>count</th>\n",
       "      <td>549.000000</td>\n",
       "      <td>549.000000</td>\n",
       "      <td>549.000000</td>\n",
       "      <td>549.000000</td>\n",
       "      <td>549.000000</td>\n",
       "      <td>549.000000</td>\n",
       "      <td>549.000000</td>\n",
       "      <td>549.000000</td>\n",
       "      <td>549.000000</td>\n",
       "      <td>549.000000</td>\n",
       "      <td>549.000000</td>\n",
       "      <td>549.000000</td>\n",
       "    </tr>\n",
       "    <tr>\n",
       "      <th>mean</th>\n",
       "      <td>55231.883424</td>\n",
       "      <td>569.016393</td>\n",
       "      <td>2014.992714</td>\n",
       "      <td>6.661202</td>\n",
       "      <td>14.240437</td>\n",
       "      <td>2014.992714</td>\n",
       "      <td>6.581056</td>\n",
       "      <td>14.362477</td>\n",
       "      <td>0.249545</td>\n",
       "      <td>0.256831</td>\n",
       "      <td>0.238616</td>\n",
       "      <td>0.255009</td>\n",
       "    </tr>\n",
       "    <tr>\n",
       "      <th>std</th>\n",
       "      <td>26824.980185</td>\n",
       "      <td>253.742372</td>\n",
       "      <td>3.163423</td>\n",
       "      <td>3.436861</td>\n",
       "      <td>7.993184</td>\n",
       "      <td>3.163423</td>\n",
       "      <td>3.490248</td>\n",
       "      <td>8.008762</td>\n",
       "      <td>0.433144</td>\n",
       "      <td>0.437284</td>\n",
       "      <td>0.426626</td>\n",
       "      <td>0.436264</td>\n",
       "    </tr>\n",
       "    <tr>\n",
       "      <th>min</th>\n",
       "      <td>10043.000000</td>\n",
       "      <td>100.000000</td>\n",
       "      <td>2010.000000</td>\n",
       "      <td>1.000000</td>\n",
       "      <td>1.000000</td>\n",
       "      <td>2010.000000</td>\n",
       "      <td>1.000000</td>\n",
       "      <td>1.000000</td>\n",
       "      <td>0.000000</td>\n",
       "      <td>0.000000</td>\n",
       "      <td>0.000000</td>\n",
       "      <td>0.000000</td>\n",
       "    </tr>\n",
       "    <tr>\n",
       "      <th>25%</th>\n",
       "      <td>30978.000000</td>\n",
       "      <td>356.000000</td>\n",
       "      <td>2012.000000</td>\n",
       "      <td>4.000000</td>\n",
       "      <td>7.000000</td>\n",
       "      <td>2012.000000</td>\n",
       "      <td>4.000000</td>\n",
       "      <td>7.000000</td>\n",
       "      <td>0.000000</td>\n",
       "      <td>0.000000</td>\n",
       "      <td>0.000000</td>\n",
       "      <td>0.000000</td>\n",
       "    </tr>\n",
       "    <tr>\n",
       "      <th>50%</th>\n",
       "      <td>55387.000000</td>\n",
       "      <td>578.000000</td>\n",
       "      <td>2015.000000</td>\n",
       "      <td>7.000000</td>\n",
       "      <td>14.000000</td>\n",
       "      <td>2015.000000</td>\n",
       "      <td>6.000000</td>\n",
       "      <td>15.000000</td>\n",
       "      <td>0.000000</td>\n",
       "      <td>0.000000</td>\n",
       "      <td>0.000000</td>\n",
       "      <td>0.000000</td>\n",
       "    </tr>\n",
       "    <tr>\n",
       "      <th>75%</th>\n",
       "      <td>79728.000000</td>\n",
       "      <td>790.000000</td>\n",
       "      <td>2018.000000</td>\n",
       "      <td>10.000000</td>\n",
       "      <td>21.000000</td>\n",
       "      <td>2018.000000</td>\n",
       "      <td>10.000000</td>\n",
       "      <td>21.000000</td>\n",
       "      <td>0.000000</td>\n",
       "      <td>1.000000</td>\n",
       "      <td>0.000000</td>\n",
       "      <td>1.000000</td>\n",
       "    </tr>\n",
       "    <tr>\n",
       "      <th>max</th>\n",
       "      <td>99834.000000</td>\n",
       "      <td>997.000000</td>\n",
       "      <td>2020.000000</td>\n",
       "      <td>12.000000</td>\n",
       "      <td>28.000000</td>\n",
       "      <td>2020.000000</td>\n",
       "      <td>12.000000</td>\n",
       "      <td>28.000000</td>\n",
       "      <td>1.000000</td>\n",
       "      <td>1.000000</td>\n",
       "      <td>1.000000</td>\n",
       "      <td>1.000000</td>\n",
       "    </tr>\n",
       "  </tbody>\n",
       "</table>\n",
       "</div>"
      ],
      "text/plain": [
       "             CaseID    ReformID  CaseDate(Year)  CaseDate(Month)  \\\n",
       "count    549.000000  549.000000      549.000000       549.000000   \n",
       "mean   55231.883424  569.016393     2014.992714         6.661202   \n",
       "std    26824.980185  253.742372        3.163423         3.436861   \n",
       "min    10043.000000  100.000000     2010.000000         1.000000   \n",
       "25%    30978.000000  356.000000     2012.000000         4.000000   \n",
       "50%    55387.000000  578.000000     2015.000000         7.000000   \n",
       "75%    79728.000000  790.000000     2018.000000        10.000000   \n",
       "max    99834.000000  997.000000     2020.000000        12.000000   \n",
       "\n",
       "       CaseDate(Day)  ReformDate(Year)  ReformDate(Month)  ReformDate(Day)  \\\n",
       "count     549.000000        549.000000         549.000000       549.000000   \n",
       "mean       14.240437       2014.992714           6.581056        14.362477   \n",
       "std         7.993184          3.163423           3.490248         8.008762   \n",
       "min         1.000000       2010.000000           1.000000         1.000000   \n",
       "25%         7.000000       2012.000000           4.000000         7.000000   \n",
       "50%        14.000000       2015.000000           6.000000        15.000000   \n",
       "75%        21.000000       2018.000000          10.000000        21.000000   \n",
       "max        28.000000       2020.000000          12.000000        28.000000   \n",
       "\n",
       "       CrimeType_Assault  CrimeType_Drug-related  CrimeType_Fraud  \\\n",
       "count         549.000000              549.000000       549.000000   \n",
       "mean            0.249545                0.256831         0.238616   \n",
       "std             0.433144                0.437284         0.426626   \n",
       "min             0.000000                0.000000         0.000000   \n",
       "25%             0.000000                0.000000         0.000000   \n",
       "50%             0.000000                0.000000         0.000000   \n",
       "75%             0.000000                1.000000         0.000000   \n",
       "max             1.000000                1.000000         1.000000   \n",
       "\n",
       "       CrimeType_Theft  \n",
       "count       549.000000  \n",
       "mean          0.255009  \n",
       "std           0.436264  \n",
       "min           0.000000  \n",
       "25%           0.000000  \n",
       "50%           0.000000  \n",
       "75%           1.000000  \n",
       "max           1.000000  "
      ]
     },
     "execution_count": 32,
     "metadata": {},
     "output_type": "execute_result"
    }
   ],
   "source": [
    "X.describe()"
   ]
  },
  {
   "cell_type": "code",
   "execution_count": 33,
   "id": "5f480f29",
   "metadata": {},
   "outputs": [
    {
     "data": {
      "text/plain": [
       "0    286\n",
       "1    263\n",
       "Name: Verdict, dtype: int64"
      ]
     },
     "execution_count": 33,
     "metadata": {},
     "output_type": "execute_result"
    }
   ],
   "source": [
    "y.value_counts()"
   ]
  },
  {
   "cell_type": "markdown",
   "id": "de62ee1a",
   "metadata": {},
   "source": [
    "# StandardScaler"
   ]
  },
  {
   "cell_type": "code",
   "execution_count": 34,
   "id": "80e90d8b",
   "metadata": {},
   "outputs": [],
   "source": [
    "from sklearn.preprocessing import StandardScaler\n",
    "sc=StandardScaler()\n",
    "scaled=sc.fit_transform(X)\n",
    "X=pd.DataFrame(scaled,columns=X.columns)"
   ]
  },
  {
   "cell_type": "code",
   "execution_count": 35,
   "id": "5393a74c",
   "metadata": {},
   "outputs": [
    {
     "data": {
      "text/html": [
       "<div>\n",
       "<style scoped>\n",
       "    .dataframe tbody tr th:only-of-type {\n",
       "        vertical-align: middle;\n",
       "    }\n",
       "\n",
       "    .dataframe tbody tr th {\n",
       "        vertical-align: top;\n",
       "    }\n",
       "\n",
       "    .dataframe thead th {\n",
       "        text-align: right;\n",
       "    }\n",
       "</style>\n",
       "<table border=\"1\" class=\"dataframe\">\n",
       "  <thead>\n",
       "    <tr style=\"text-align: right;\">\n",
       "      <th></th>\n",
       "      <th>CaseID</th>\n",
       "      <th>ReformID</th>\n",
       "      <th>CaseDate(Year)</th>\n",
       "      <th>CaseDate(Month)</th>\n",
       "      <th>CaseDate(Day)</th>\n",
       "      <th>ReformDate(Year)</th>\n",
       "      <th>ReformDate(Month)</th>\n",
       "      <th>ReformDate(Day)</th>\n",
       "      <th>CrimeType_Assault</th>\n",
       "      <th>CrimeType_Drug-related</th>\n",
       "      <th>CrimeType_Fraud</th>\n",
       "      <th>CrimeType_Theft</th>\n",
       "    </tr>\n",
       "  </thead>\n",
       "  <tbody>\n",
       "    <tr>\n",
       "      <th>count</th>\n",
       "      <td>5.490000e+02</td>\n",
       "      <td>5.490000e+02</td>\n",
       "      <td>5.490000e+02</td>\n",
       "      <td>5.490000e+02</td>\n",
       "      <td>5.490000e+02</td>\n",
       "      <td>5.490000e+02</td>\n",
       "      <td>5.490000e+02</td>\n",
       "      <td>5.490000e+02</td>\n",
       "      <td>5.490000e+02</td>\n",
       "      <td>5.490000e+02</td>\n",
       "      <td>5.490000e+02</td>\n",
       "      <td>5.490000e+02</td>\n",
       "    </tr>\n",
       "    <tr>\n",
       "      <th>mean</th>\n",
       "      <td>3.235623e-17</td>\n",
       "      <td>-1.294249e-16</td>\n",
       "      <td>2.065622e-14</td>\n",
       "      <td>-2.588498e-17</td>\n",
       "      <td>6.147683e-17</td>\n",
       "      <td>2.065622e-14</td>\n",
       "      <td>9.706868e-17</td>\n",
       "      <td>6.471245e-17</td>\n",
       "      <td>-7.927276e-17</td>\n",
       "      <td>-6.471245e-18</td>\n",
       "      <td>-6.147683e-17</td>\n",
       "      <td>-3.235623e-17</td>\n",
       "    </tr>\n",
       "    <tr>\n",
       "      <th>std</th>\n",
       "      <td>1.000912e+00</td>\n",
       "      <td>1.000912e+00</td>\n",
       "      <td>1.000912e+00</td>\n",
       "      <td>1.000912e+00</td>\n",
       "      <td>1.000912e+00</td>\n",
       "      <td>1.000912e+00</td>\n",
       "      <td>1.000912e+00</td>\n",
       "      <td>1.000912e+00</td>\n",
       "      <td>1.000912e+00</td>\n",
       "      <td>1.000912e+00</td>\n",
       "      <td>1.000912e+00</td>\n",
       "      <td>1.000912e+00</td>\n",
       "    </tr>\n",
       "    <tr>\n",
       "      <th>min</th>\n",
       "      <td>-1.686119e+00</td>\n",
       "      <td>-1.850082e+00</td>\n",
       "      <td>-1.579702e+00</td>\n",
       "      <td>-1.648704e+00</td>\n",
       "      <td>-1.657977e+00</td>\n",
       "      <td>-1.579702e+00</td>\n",
       "      <td>-1.600501e+00</td>\n",
       "      <td>-1.670004e+00</td>\n",
       "      <td>-5.766492e-01</td>\n",
       "      <td>-5.878675e-01</td>\n",
       "      <td>-5.598188e-01</td>\n",
       "      <td>-5.850626e-01</td>\n",
       "    </tr>\n",
       "    <tr>\n",
       "      <th>25%</th>\n",
       "      <td>-9.049775e-01</td>\n",
       "      <td>-8.402643e-01</td>\n",
       "      <td>-9.468994e-01</td>\n",
       "      <td>-7.750180e-01</td>\n",
       "      <td>-9.066525e-01</td>\n",
       "      <td>-9.468994e-01</td>\n",
       "      <td>-7.401796e-01</td>\n",
       "      <td>-9.201412e-01</td>\n",
       "      <td>-5.766492e-01</td>\n",
       "      <td>-5.878675e-01</td>\n",
       "      <td>-5.598188e-01</td>\n",
       "      <td>-5.850626e-01</td>\n",
       "    </tr>\n",
       "    <tr>\n",
       "      <th>50%</th>\n",
       "      <td>5.787816e-03</td>\n",
       "      <td>3.543673e-02</td>\n",
       "      <td>2.305294e-03</td>\n",
       "      <td>9.866759e-02</td>\n",
       "      <td>-3.010771e-02</td>\n",
       "      <td>2.305294e-03</td>\n",
       "      <td>-1.666318e-01</td>\n",
       "      <td>7.967576e-02</td>\n",
       "      <td>-5.766492e-01</td>\n",
       "      <td>-5.878675e-01</td>\n",
       "      <td>-5.598188e-01</td>\n",
       "      <td>-5.850626e-01</td>\n",
       "    </tr>\n",
       "    <tr>\n",
       "      <th>75%</th>\n",
       "      <td>9.140158e-01</td>\n",
       "      <td>8.716918e-01</td>\n",
       "      <td>9.515099e-01</td>\n",
       "      <td>9.723532e-01</td>\n",
       "      <td>8.464371e-01</td>\n",
       "      <td>9.515099e-01</td>\n",
       "      <td>9.804638e-01</td>\n",
       "      <td>8.295385e-01</td>\n",
       "      <td>-5.766492e-01</td>\n",
       "      <td>1.701063e+00</td>\n",
       "      <td>-5.598188e-01</td>\n",
       "      <td>1.709219e+00</td>\n",
       "    </tr>\n",
       "    <tr>\n",
       "      <th>max</th>\n",
       "      <td>1.664225e+00</td>\n",
       "      <td>1.688224e+00</td>\n",
       "      <td>1.584313e+00</td>\n",
       "      <td>1.554810e+00</td>\n",
       "      <td>1.722982e+00</td>\n",
       "      <td>1.584313e+00</td>\n",
       "      <td>1.554012e+00</td>\n",
       "      <td>1.704378e+00</td>\n",
       "      <td>1.734157e+00</td>\n",
       "      <td>1.701063e+00</td>\n",
       "      <td>1.786292e+00</td>\n",
       "      <td>1.709219e+00</td>\n",
       "    </tr>\n",
       "  </tbody>\n",
       "</table>\n",
       "</div>"
      ],
      "text/plain": [
       "             CaseID      ReformID  CaseDate(Year)  CaseDate(Month)  \\\n",
       "count  5.490000e+02  5.490000e+02    5.490000e+02     5.490000e+02   \n",
       "mean   3.235623e-17 -1.294249e-16    2.065622e-14    -2.588498e-17   \n",
       "std    1.000912e+00  1.000912e+00    1.000912e+00     1.000912e+00   \n",
       "min   -1.686119e+00 -1.850082e+00   -1.579702e+00    -1.648704e+00   \n",
       "25%   -9.049775e-01 -8.402643e-01   -9.468994e-01    -7.750180e-01   \n",
       "50%    5.787816e-03  3.543673e-02    2.305294e-03     9.866759e-02   \n",
       "75%    9.140158e-01  8.716918e-01    9.515099e-01     9.723532e-01   \n",
       "max    1.664225e+00  1.688224e+00    1.584313e+00     1.554810e+00   \n",
       "\n",
       "       CaseDate(Day)  ReformDate(Year)  ReformDate(Month)  ReformDate(Day)  \\\n",
       "count   5.490000e+02      5.490000e+02       5.490000e+02     5.490000e+02   \n",
       "mean    6.147683e-17      2.065622e-14       9.706868e-17     6.471245e-17   \n",
       "std     1.000912e+00      1.000912e+00       1.000912e+00     1.000912e+00   \n",
       "min    -1.657977e+00     -1.579702e+00      -1.600501e+00    -1.670004e+00   \n",
       "25%    -9.066525e-01     -9.468994e-01      -7.401796e-01    -9.201412e-01   \n",
       "50%    -3.010771e-02      2.305294e-03      -1.666318e-01     7.967576e-02   \n",
       "75%     8.464371e-01      9.515099e-01       9.804638e-01     8.295385e-01   \n",
       "max     1.722982e+00      1.584313e+00       1.554012e+00     1.704378e+00   \n",
       "\n",
       "       CrimeType_Assault  CrimeType_Drug-related  CrimeType_Fraud  \\\n",
       "count       5.490000e+02            5.490000e+02     5.490000e+02   \n",
       "mean       -7.927276e-17           -6.471245e-18    -6.147683e-17   \n",
       "std         1.000912e+00            1.000912e+00     1.000912e+00   \n",
       "min        -5.766492e-01           -5.878675e-01    -5.598188e-01   \n",
       "25%        -5.766492e-01           -5.878675e-01    -5.598188e-01   \n",
       "50%        -5.766492e-01           -5.878675e-01    -5.598188e-01   \n",
       "75%        -5.766492e-01            1.701063e+00    -5.598188e-01   \n",
       "max         1.734157e+00            1.701063e+00     1.786292e+00   \n",
       "\n",
       "       CrimeType_Theft  \n",
       "count     5.490000e+02  \n",
       "mean     -3.235623e-17  \n",
       "std       1.000912e+00  \n",
       "min      -5.850626e-01  \n",
       "25%      -5.850626e-01  \n",
       "50%      -5.850626e-01  \n",
       "75%       1.709219e+00  \n",
       "max       1.709219e+00  "
      ]
     },
     "execution_count": 35,
     "metadata": {},
     "output_type": "execute_result"
    }
   ],
   "source": [
    "X.describe()"
   ]
  },
  {
   "cell_type": "markdown",
   "id": "78811d1a",
   "metadata": {},
   "source": [
    "# Splitting the data into Training data and Test data"
   ]
  },
  {
   "cell_type": "code",
   "execution_count": 36,
   "id": "5c6c8564",
   "metadata": {},
   "outputs": [
    {
     "name": "stdout",
     "output_type": "stream",
     "text": [
      "X data= (549, 12) (439, 12) (110, 12) \n",
      "\n",
      "y data= (549,) (439,) (110,)\n"
     ]
    }
   ],
   "source": [
    "from sklearn.model_selection import train_test_split\n",
    "X_train,X_test,y_train,y_test = train_test_split(X,y,test_size =0.2,random_state = 14)\n",
    "print(\"X data=\",X.shape, X_train.shape,X_test.shape,\"\\n\")\n",
    "print(\"y data=\",y.shape,y_train.shape,y_test.shape)"
   ]
  },
  {
   "cell_type": "markdown",
   "id": "0f813363",
   "metadata": {},
   "source": [
    "# Handling Imbalanced Data:"
   ]
  },
  {
   "cell_type": "code",
   "execution_count": 37,
   "id": "24617722",
   "metadata": {},
   "outputs": [],
   "source": [
    "from imblearn.over_sampling import SMOTE\n",
    "\n",
    "# Apply SMOTE to the training set only\n",
    "smote = SMOTE(random_state=14)\n",
    "X_train ,y_train = smote.fit_resample(X_train, y_train)"
   ]
  },
  {
   "cell_type": "markdown",
   "id": "74dcc4ea",
   "metadata": {},
   "source": [
    "# Build the Machine Learning models\n",
    "# Build the Logistic regression Algorithm"
   ]
  },
  {
   "cell_type": "code",
   "execution_count": 38,
   "id": "9b0f3995",
   "metadata": {},
   "outputs": [
    {
     "name": "stdout",
     "output_type": "stream",
     "text": [
      "Train Accuracy 54.58515283842795\n",
      "Test Accuracy 45.45454545454545 \n",
      "\n",
      "confusion_matrix:- \n",
      " [[28 29]\n",
      " [31 22]] \n",
      "\n",
      "classification_report:- \n",
      "               precision    recall  f1-score   support\n",
      "\n",
      "           0       0.47      0.49      0.48        57\n",
      "           1       0.43      0.42      0.42        53\n",
      "\n",
      "    accuracy                           0.45       110\n",
      "   macro avg       0.45      0.45      0.45       110\n",
      "weighted avg       0.45      0.45      0.45       110\n",
      "\n"
     ]
    }
   ],
   "source": [
    "from sklearn.linear_model import LogisticRegression\n",
    "LR = LogisticRegression()\n",
    "LR.fit(X_train,y_train)\n",
    "y_train_pred = LR.predict(X_train)\n",
    "y_test_pred = LR.predict(X_test)\n",
    "# Model Evaluation\n",
    "\n",
    "from sklearn.metrics import accuracy_score, confusion_matrix, classification_report\n",
    "print(\"Train Accuracy\",accuracy_score(y_train, y_train_pred)*100)\n",
    "print(\"Test Accuracy\",accuracy_score(y_test, y_test_pred)*100,'\\n')\n",
    "print(\"confusion_matrix:-\",\"\\n\",confusion_matrix(y_test, y_test_pred),\"\\n\")\n",
    "print(\"classification_report:-\",\"\\n\",classification_report(y_test, y_test_pred))"
   ]
  },
  {
   "cell_type": "markdown",
   "id": "a58db40b",
   "metadata": {},
   "source": [
    "# DecisionTree Algorithm"
   ]
  },
  {
   "cell_type": "code",
   "execution_count": 39,
   "id": "64d1f13c",
   "metadata": {},
   "outputs": [
    {
     "name": "stdout",
     "output_type": "stream",
     "text": [
      "Train Accuracy:- 100.0 \n",
      "\n",
      "Test Accuracy:- 50.90909090909091 \n",
      "\n",
      "confusion_matrix:- \n",
      " [[31 26]\n",
      " [28 25]] \n",
      "\n",
      "classification_report:- \n",
      "               precision    recall  f1-score   support\n",
      "\n",
      "           0       0.53      0.54      0.53        57\n",
      "           1       0.49      0.47      0.48        53\n",
      "\n",
      "    accuracy                           0.51       110\n",
      "   macro avg       0.51      0.51      0.51       110\n",
      "weighted avg       0.51      0.51      0.51       110\n",
      "\n"
     ]
    }
   ],
   "source": [
    "from sklearn.tree import DecisionTreeClassifier\n",
    "DM = DecisionTreeClassifier()\n",
    "DM.fit(X_train,y_train)\n",
    "y_train_pred = DM.predict(X_train)\n",
    "y_test_pred = DM.predict(X_test)\n",
    "print(\"Train Accuracy:-\",accuracy_score(y_train, y_train_pred)*100,'\\n')\n",
    "print(\"Test Accuracy:-\",accuracy_score(y_test, y_test_pred)*100,\"\\n\")\n",
    "print(\"confusion_matrix:-\",\"\\n\",confusion_matrix(y_test, y_test_pred),\"\\n\")\n",
    "print(\"classification_report:-\",\"\\n\",classification_report(y_test, y_test_pred))"
   ]
  },
  {
   "cell_type": "markdown",
   "id": "7171effd",
   "metadata": {},
   "source": [
    "# RandomForest model"
   ]
  },
  {
   "cell_type": "code",
   "execution_count": 40,
   "id": "9ddbe4be",
   "metadata": {},
   "outputs": [
    {
     "name": "stdout",
     "output_type": "stream",
     "text": [
      "Train Accuracy:- 100.0 \n",
      "\n",
      "Test Accuracy:- 53.63636363636364 \n",
      "\n",
      "confusion_matrix:- \n",
      " [[30 27]\n",
      " [24 29]] \n",
      "\n",
      "classification_report:- \n",
      "               precision    recall  f1-score   support\n",
      "\n",
      "           0       0.56      0.53      0.54        57\n",
      "           1       0.52      0.55      0.53        53\n",
      "\n",
      "    accuracy                           0.54       110\n",
      "   macro avg       0.54      0.54      0.54       110\n",
      "weighted avg       0.54      0.54      0.54       110\n",
      "\n"
     ]
    }
   ],
   "source": [
    "from sklearn.ensemble import RandomForestClassifier\n",
    "RF = RandomForestClassifier()\n",
    "RF.fit(X_train,y_train)\n",
    "y_train_pred = RF.predict(X_train)\n",
    "y_test_pred = RF.predict(X_test)\n",
    "print(\"Train Accuracy:-\",accuracy_score(y_train, y_train_pred)*100,'\\n')\n",
    "print(\"Test Accuracy:-\",accuracy_score(y_test, y_test_pred)*100,\"\\n\")\n",
    "print(\"confusion_matrix:-\",\"\\n\",confusion_matrix(y_test, y_test_pred),\"\\n\")\n",
    "print(\"classification_report:-\",\"\\n\",classification_report(y_test, y_test_pred))"
   ]
  },
  {
   "cell_type": "markdown",
   "id": "290ff66a",
   "metadata": {},
   "source": [
    "# K-Nearest Neighbors (KNN)"
   ]
  },
  {
   "cell_type": "code",
   "execution_count": 41,
   "id": "6b6f9da9",
   "metadata": {},
   "outputs": [
    {
     "name": "stdout",
     "output_type": "stream",
     "text": [
      "Train Accuracy:- 68.3406113537118 \n",
      "\n",
      "Test Accuracy:- 52.72727272727272 \n",
      "\n",
      "confusion_matrix:- \n",
      " [[25 32]\n",
      " [20 33]] \n",
      "\n",
      "classification_report:- \n",
      "               precision    recall  f1-score   support\n",
      "\n",
      "           0       0.56      0.44      0.49        57\n",
      "           1       0.51      0.62      0.56        53\n",
      "\n",
      "    accuracy                           0.53       110\n",
      "   macro avg       0.53      0.53      0.52       110\n",
      "weighted avg       0.53      0.53      0.52       110\n",
      "\n"
     ]
    }
   ],
   "source": [
    "from sklearn.neighbors import KNeighborsClassifier\n",
    "KNN = KNeighborsClassifier()\n",
    "KNN.fit(X_train, y_train)\n",
    "y_train_pred = KNN.predict(X_train)\n",
    "y_test_pred = KNN.predict(X_test)\n",
    "print(\"Train Accuracy:-\",accuracy_score(y_train, y_train_pred)*100,'\\n')\n",
    "print(\"Test Accuracy:-\",accuracy_score(y_test, y_test_pred)*100,\"\\n\")\n",
    "print(\"confusion_matrix:-\",\"\\n\",confusion_matrix(y_test, y_test_pred),\"\\n\")\n",
    "print(\"classification_report:-\",\"\\n\",classification_report(y_test, y_test_pred))"
   ]
  },
  {
   "cell_type": "markdown",
   "id": "44abc58d",
   "metadata": {},
   "source": [
    "# Naive Bayes classifier"
   ]
  },
  {
   "cell_type": "code",
   "execution_count": 42,
   "id": "3dd4ef0e",
   "metadata": {},
   "outputs": [
    {
     "name": "stdout",
     "output_type": "stream",
     "text": [
      "Train Accuracy:- 54.14847161572053 \n",
      "\n",
      "Test Accuracy:- 40.0 \n",
      "\n",
      "confusion_matrix:- \n",
      " [[24 33]\n",
      " [33 20]] \n",
      "\n",
      "classification_report:- \n",
      "               precision    recall  f1-score   support\n",
      "\n",
      "           0       0.42      0.42      0.42        57\n",
      "           1       0.38      0.38      0.38        53\n",
      "\n",
      "    accuracy                           0.40       110\n",
      "   macro avg       0.40      0.40      0.40       110\n",
      "weighted avg       0.40      0.40      0.40       110\n",
      "\n"
     ]
    }
   ],
   "source": [
    "from sklearn.naive_bayes import GaussianNB\n",
    "\n",
    "# Create a Naive Bayes classifier\n",
    "NaiveBayes = GaussianNB()\n",
    "\n",
    "# Train the Naive Bayes classifier on the training data\n",
    "NaiveBayes.fit(X_train, y_train)\n",
    "\n",
    "# Make predictions on the training and testing data\n",
    "y_train_pred = NaiveBayes.predict(X_train)\n",
    "y_test_pred = NaiveBayes.predict(X_test)\n",
    "print(\"Train Accuracy:-\",accuracy_score(y_train, y_train_pred)*100,'\\n')\n",
    "print(\"Test Accuracy:-\",accuracy_score(y_test, y_test_pred)*100,\"\\n\")\n",
    "print(\"confusion_matrix:-\",\"\\n\",confusion_matrix(y_test, y_test_pred),\"\\n\")\n",
    "print(\"classification_report:-\",\"\\n\",classification_report(y_test, y_test_pred))"
   ]
  },
  {
   "cell_type": "markdown",
   "id": "9c07561e",
   "metadata": {},
   "source": [
    "# SVM(Support Vector Machine)"
   ]
  },
  {
   "cell_type": "code",
   "execution_count": 43,
   "id": "44b4e698",
   "metadata": {},
   "outputs": [
    {
     "name": "stdout",
     "output_type": "stream",
     "text": [
      "Train Accuracy:- 71.39737991266377 \n",
      "\n",
      "Test Accuracy:- 52.72727272727272 \n",
      "\n",
      "confusion_matrix:- \n",
      " [[37 20]\n",
      " [32 21]] \n",
      "\n",
      "classification_report:- \n",
      "               precision    recall  f1-score   support\n",
      "\n",
      "           0       0.54      0.65      0.59        57\n",
      "           1       0.51      0.40      0.45        53\n",
      "\n",
      "    accuracy                           0.53       110\n",
      "   macro avg       0.52      0.52      0.52       110\n",
      "weighted avg       0.52      0.53      0.52       110\n",
      "\n"
     ]
    }
   ],
   "source": [
    "from sklearn.svm import SVC\n",
    "\n",
    "# Create an SVM classifier\n",
    "SVM = SVC()\n",
    "\n",
    "# Train the SVM classifier on the training data\n",
    "SVM.fit(X_train, y_train)\n",
    "y_train_pred = SVM.predict(X_train)\n",
    "y_test_pred = SVM.predict(X_test)\n",
    "print(\"Train Accuracy:-\",accuracy_score(y_train, y_train_pred)*100,'\\n')\n",
    "print(\"Test Accuracy:-\",accuracy_score(y_test, y_test_pred)*100,\"\\n\")\n",
    "print(\"confusion_matrix:-\",\"\\n\",confusion_matrix(y_test, y_test_pred),\"\\n\")\n",
    "print(\"classification_report:-\",\"\\n\",classification_report(y_test, y_test_pred))"
   ]
  },
  {
   "cell_type": "markdown",
   "id": "a1e41fd0",
   "metadata": {},
   "source": [
    "# kernels = Linear , RBF(Radial Basis Function), Poly, Sigmoid"
   ]
  },
  {
   "cell_type": "code",
   "execution_count": 44,
   "id": "2f6069b5",
   "metadata": {},
   "outputs": [
    {
     "name": "stdout",
     "output_type": "stream",
     "text": [
      "Kernel: linear\n",
      "Train Accuracy: 54.366812227074234\n",
      "Test Accuracy: 44.54545454545455\n",
      "Confusion Matrix:\n",
      " [[30 27]\n",
      " [34 19]]\n",
      "Classification Report:\n",
      "               precision    recall  f1-score   support\n",
      "\n",
      "           0       0.47      0.53      0.50        57\n",
      "           1       0.41      0.36      0.38        53\n",
      "\n",
      "    accuracy                           0.45       110\n",
      "   macro avg       0.44      0.44      0.44       110\n",
      "weighted avg       0.44      0.45      0.44       110\n",
      "\n",
      "\n",
      "\n",
      "Kernel: rbf\n",
      "Train Accuracy: 71.39737991266377\n",
      "Test Accuracy: 52.72727272727272\n",
      "Confusion Matrix:\n",
      " [[37 20]\n",
      " [32 21]]\n",
      "Classification Report:\n",
      "               precision    recall  f1-score   support\n",
      "\n",
      "           0       0.54      0.65      0.59        57\n",
      "           1       0.51      0.40      0.45        53\n",
      "\n",
      "    accuracy                           0.53       110\n",
      "   macro avg       0.52      0.52      0.52       110\n",
      "weighted avg       0.52      0.53      0.52       110\n",
      "\n",
      "\n",
      "\n",
      "Kernel: poly\n",
      "Train Accuracy: 73.36244541484717\n",
      "Test Accuracy: 48.18181818181818\n",
      "Confusion Matrix:\n",
      " [[30 27]\n",
      " [30 23]]\n",
      "Classification Report:\n",
      "               precision    recall  f1-score   support\n",
      "\n",
      "           0       0.50      0.53      0.51        57\n",
      "           1       0.46      0.43      0.45        53\n",
      "\n",
      "    accuracy                           0.48       110\n",
      "   macro avg       0.48      0.48      0.48       110\n",
      "weighted avg       0.48      0.48      0.48       110\n",
      "\n",
      "\n",
      "\n",
      "Kernel: sigmoid\n",
      "Train Accuracy: 44.75982532751092\n",
      "Test Accuracy: 47.27272727272727\n",
      "Confusion Matrix:\n",
      " [[27 30]\n",
      " [28 25]]\n",
      "Classification Report:\n",
      "               precision    recall  f1-score   support\n",
      "\n",
      "           0       0.49      0.47      0.48        57\n",
      "           1       0.45      0.47      0.46        53\n",
      "\n",
      "    accuracy                           0.47       110\n",
      "   macro avg       0.47      0.47      0.47       110\n",
      "weighted avg       0.47      0.47      0.47       110\n",
      "\n",
      "\n",
      "\n"
     ]
    }
   ],
   "source": [
    "# List of kernel names\n",
    "kernel_names = ['linear', 'rbf', 'poly', 'sigmoid']\n",
    "\n",
    "# Create SVM classifiers for different kernels in a single line\n",
    "SVM_classifiers = {kernel: SVC(kernel=kernel).fit(X_train, y_train) for kernel in kernel_names}\n",
    "\n",
    "# Evaluate and print results for each kernel\n",
    "for kernel, SVM in SVM_classifiers.items():\n",
    "    y_train_pred = SVM.predict(X_train)\n",
    "    y_test_pred = SVM.predict(X_test)\n",
    "    print(f\"Kernel: {kernel}\")\n",
    "    print(\"Train Accuracy:\", accuracy_score(y_train, y_train_pred) * 100)\n",
    "    print(\"Test Accuracy:\", accuracy_score(y_test, y_test_pred) * 100)\n",
    "    print(\"Confusion Matrix:\\n\", confusion_matrix(y_test, y_test_pred))\n",
    "    print(\"Classification Report:\\n\", classification_report(y_test, y_test_pred))\n",
    "    print(\"\\n\")"
   ]
  },
  {
   "cell_type": "markdown",
   "id": "8e4fe59a",
   "metadata": {},
   "source": [
    "# AdaBoostClassifier, GradientBoostingClassifier"
   ]
  },
  {
   "cell_type": "code",
   "execution_count": 45,
   "id": "1f70cb2e",
   "metadata": {},
   "outputs": [
    {
     "name": "stdout",
     "output_type": "stream",
     "text": [
      "Classifier: AdaBoost\n",
      "Train Accuracy: 69.43231441048034\n",
      "Test Accuracy: 50.90909090909091\n",
      "Confusion Matrix:\n",
      " [[26 31]\n",
      " [23 30]]\n",
      "Classification Report:\n",
      "               precision    recall  f1-score   support\n",
      "\n",
      "           0       0.53      0.46      0.49        57\n",
      "           1       0.49      0.57      0.53        53\n",
      "\n",
      "    accuracy                           0.51       110\n",
      "   macro avg       0.51      0.51      0.51       110\n",
      "weighted avg       0.51      0.51      0.51       110\n",
      "\n",
      "\n",
      "\n",
      "Classifier: GradientBoosting\n",
      "Train Accuracy: 91.48471615720524\n",
      "Test Accuracy: 49.09090909090909\n",
      "Confusion Matrix:\n",
      " [[32 25]\n",
      " [31 22]]\n",
      "Classification Report:\n",
      "               precision    recall  f1-score   support\n",
      "\n",
      "           0       0.51      0.56      0.53        57\n",
      "           1       0.47      0.42      0.44        53\n",
      "\n",
      "    accuracy                           0.49       110\n",
      "   macro avg       0.49      0.49      0.49       110\n",
      "weighted avg       0.49      0.49      0.49       110\n",
      "\n",
      "\n",
      "\n"
     ]
    }
   ],
   "source": [
    "from sklearn.ensemble import AdaBoostClassifier, GradientBoostingClassifier\n",
    "from xgboost import XGBClassifier\n",
    "\n",
    "# Create classifiers for different algorithms in a single line\n",
    "classifiers = {\n",
    "    'AdaBoost': AdaBoostClassifier().fit(X_train, y_train),\n",
    "    'GradientBoosting': GradientBoostingClassifier().fit(X_train, y_train)\n",
    "}\n",
    "\n",
    "# Evaluate and print results for each classifier\n",
    "for classifier_name, classifier in classifiers.items():\n",
    "    y_train_pred = classifier.predict(X_train)\n",
    "    y_test_pred = classifier.predict(X_test)\n",
    "    print(f\"Classifier: {classifier_name}\")\n",
    "    print(\"Train Accuracy:\", accuracy_score(y_train, y_train_pred) * 100)\n",
    "    print(\"Test Accuracy:\", accuracy_score(y_test, y_test_pred) * 100)\n",
    "    print(\"Confusion Matrix:\\n\", confusion_matrix(y_test, y_test_pred))\n",
    "    print(\"Classification Report:\\n\", classification_report(y_test, y_test_pred))\n",
    "    print(\"\\n\")"
   ]
  },
  {
   "cell_type": "markdown",
   "id": "66ec5258",
   "metadata": {},
   "source": [
    "# (XGB)Extreme Gradient Boosting"
   ]
  },
  {
   "cell_type": "code",
   "execution_count": 46,
   "id": "06a8a467",
   "metadata": {},
   "outputs": [
    {
     "name": "stdout",
     "output_type": "stream",
     "text": [
      "Train Accuracy:- 100.0 \n",
      "\n",
      "Test Accuracy:- 50.0 \n",
      "\n",
      "confusion_matrix:- \n",
      " [[28 29]\n",
      " [26 27]] \n",
      "\n",
      "classification_report:- \n",
      "               precision    recall  f1-score   support\n",
      "\n",
      "           0       0.52      0.49      0.50        57\n",
      "           1       0.48      0.51      0.50        53\n",
      "\n",
      "    accuracy                           0.50       110\n",
      "   macro avg       0.50      0.50      0.50       110\n",
      "weighted avg       0.50      0.50      0.50       110\n",
      "\n"
     ]
    }
   ],
   "source": [
    "from xgboost import XGBClassifier\n",
    "XGB=XGBClassifier()\n",
    "XGB.fit(X_train, y_train)\n",
    "y_train_pred = XGB.predict(X_train)\n",
    "y_test_pred = XGB.predict(X_test)\n",
    "print(\"Train Accuracy:-\",accuracy_score(y_train, y_train_pred)*100,'\\n')\n",
    "print(\"Test Accuracy:-\",accuracy_score(y_test, y_test_pred)*100,\"\\n\")\n",
    "print(\"confusion_matrix:-\",\"\\n\",confusion_matrix(y_test, y_test_pred),\"\\n\")\n",
    "print(\"classification_report:-\",\"\\n\",classification_report(y_test, y_test_pred))"
   ]
  },
  {
   "cell_type": "markdown",
   "id": "91da0705",
   "metadata": {},
   "source": [
    "# Multi-Layer Perceptron (MLP)"
   ]
  },
  {
   "cell_type": "code",
   "execution_count": 51,
   "id": "3fe4fd42",
   "metadata": {},
   "outputs": [
    {
     "name": "stdout",
     "output_type": "stream",
     "text": [
      "Train Accuracy: 74.235807860262\n",
      "Test Accuracy: 44.54545454545455\n",
      "Confusion Matrix:\n",
      " [[29 28]\n",
      " [33 20]]\n",
      "Classification Report:\n",
      "               precision    recall  f1-score   support\n",
      "\n",
      "           0       0.47      0.51      0.49        57\n",
      "           1       0.42      0.38      0.40        53\n",
      "\n",
      "    accuracy                           0.45       110\n",
      "   macro avg       0.44      0.44      0.44       110\n",
      "weighted avg       0.44      0.45      0.44       110\n",
      "\n"
     ]
    },
    {
     "name": "stderr",
     "output_type": "stream",
     "text": [
      "C:\\Users\\mdine\\anaconda3\\lib\\site-packages\\sklearn\\neural_network\\_multilayer_perceptron.py:691: ConvergenceWarning: Stochastic Optimizer: Maximum iterations (200) reached and the optimization hasn't converged yet.\n",
      "  warnings.warn(\n"
     ]
    }
   ],
   "source": [
    "from sklearn.neural_network import MLPClassifier\n",
    "from sklearn.metrics import accuracy_score, confusion_matrix, classification_report\n",
    "\n",
    "# Create an MLP classifier\n",
    "MLP = MLPClassifier()\n",
    "\n",
    "# Fit the MLP model to the training data\n",
    "MLP.fit(X_train, y_train)\n",
    "\n",
    "# Predict on the training and test data\n",
    "y_train_pred = MLP.predict(X_train)\n",
    "y_test_pred = MLP.predict(X_test)\n",
    "\n",
    "# Model Evaluation\n",
    "print(\"Train Accuracy:\", accuracy_score(y_train, y_train_pred) * 100)\n",
    "print(\"Test Accuracy:\", accuracy_score(y_test, y_test_pred) * 100)\n",
    "print(\"Confusion Matrix:\\n\", confusion_matrix(y_test, y_test_pred))\n",
    "print(\"Classification Report:\\n\", classification_report(y_test, y_test_pred))"
   ]
  },
  {
   "cell_type": "markdown",
   "id": "9b970341",
   "metadata": {},
   "source": [
    "# Taking the next step to determine the best model's performance:\n",
    "# Feature Selection Technique"
   ]
  },
  {
   "cell_type": "code",
   "execution_count": 47,
   "id": "2bf9c3ea",
   "metadata": {},
   "outputs": [
    {
     "data": {
      "text/html": [
       "<style>#sk-container-id-1 {color: black;}#sk-container-id-1 pre{padding: 0;}#sk-container-id-1 div.sk-toggleable {background-color: white;}#sk-container-id-1 label.sk-toggleable__label {cursor: pointer;display: block;width: 100%;margin-bottom: 0;padding: 0.3em;box-sizing: border-box;text-align: center;}#sk-container-id-1 label.sk-toggleable__label-arrow:before {content: \"▸\";float: left;margin-right: 0.25em;color: #696969;}#sk-container-id-1 label.sk-toggleable__label-arrow:hover:before {color: black;}#sk-container-id-1 div.sk-estimator:hover label.sk-toggleable__label-arrow:before {color: black;}#sk-container-id-1 div.sk-toggleable__content {max-height: 0;max-width: 0;overflow: hidden;text-align: left;background-color: #f0f8ff;}#sk-container-id-1 div.sk-toggleable__content pre {margin: 0.2em;color: black;border-radius: 0.25em;background-color: #f0f8ff;}#sk-container-id-1 input.sk-toggleable__control:checked~div.sk-toggleable__content {max-height: 200px;max-width: 100%;overflow: auto;}#sk-container-id-1 input.sk-toggleable__control:checked~label.sk-toggleable__label-arrow:before {content: \"▾\";}#sk-container-id-1 div.sk-estimator input.sk-toggleable__control:checked~label.sk-toggleable__label {background-color: #d4ebff;}#sk-container-id-1 div.sk-label input.sk-toggleable__control:checked~label.sk-toggleable__label {background-color: #d4ebff;}#sk-container-id-1 input.sk-hidden--visually {border: 0;clip: rect(1px 1px 1px 1px);clip: rect(1px, 1px, 1px, 1px);height: 1px;margin: -1px;overflow: hidden;padding: 0;position: absolute;width: 1px;}#sk-container-id-1 div.sk-estimator {font-family: monospace;background-color: #f0f8ff;border: 1px dotted black;border-radius: 0.25em;box-sizing: border-box;margin-bottom: 0.5em;}#sk-container-id-1 div.sk-estimator:hover {background-color: #d4ebff;}#sk-container-id-1 div.sk-parallel-item::after {content: \"\";width: 100%;border-bottom: 1px solid gray;flex-grow: 1;}#sk-container-id-1 div.sk-label:hover label.sk-toggleable__label {background-color: #d4ebff;}#sk-container-id-1 div.sk-serial::before {content: \"\";position: absolute;border-left: 1px solid gray;box-sizing: border-box;top: 0;bottom: 0;left: 50%;z-index: 0;}#sk-container-id-1 div.sk-serial {display: flex;flex-direction: column;align-items: center;background-color: white;padding-right: 0.2em;padding-left: 0.2em;position: relative;}#sk-container-id-1 div.sk-item {position: relative;z-index: 1;}#sk-container-id-1 div.sk-parallel {display: flex;align-items: stretch;justify-content: center;background-color: white;position: relative;}#sk-container-id-1 div.sk-item::before, #sk-container-id-1 div.sk-parallel-item::before {content: \"\";position: absolute;border-left: 1px solid gray;box-sizing: border-box;top: 0;bottom: 0;left: 50%;z-index: -1;}#sk-container-id-1 div.sk-parallel-item {display: flex;flex-direction: column;z-index: 1;position: relative;background-color: white;}#sk-container-id-1 div.sk-parallel-item:first-child::after {align-self: flex-end;width: 50%;}#sk-container-id-1 div.sk-parallel-item:last-child::after {align-self: flex-start;width: 50%;}#sk-container-id-1 div.sk-parallel-item:only-child::after {width: 0;}#sk-container-id-1 div.sk-dashed-wrapped {border: 1px dashed gray;margin: 0 0.4em 0.5em 0.4em;box-sizing: border-box;padding-bottom: 0.4em;background-color: white;}#sk-container-id-1 div.sk-label label {font-family: monospace;font-weight: bold;display: inline-block;line-height: 1.2em;}#sk-container-id-1 div.sk-label-container {text-align: center;}#sk-container-id-1 div.sk-container {/* jupyter's `normalize.less` sets `[hidden] { display: none; }` but bootstrap.min.css set `[hidden] { display: none !important; }` so we also need the `!important` here to be able to override the default hidden behavior on the sphinx rendered scikit-learn.org. See: https://github.com/scikit-learn/scikit-learn/issues/21755 */display: inline-block !important;position: relative;}#sk-container-id-1 div.sk-text-repr-fallback {display: none;}</style><div id=\"sk-container-id-1\" class=\"sk-top-container\"><div class=\"sk-text-repr-fallback\"><pre>ExtraTreesRegressor()</pre><b>In a Jupyter environment, please rerun this cell to show the HTML representation or trust the notebook. <br />On GitHub, the HTML representation is unable to render, please try loading this page with nbviewer.org.</b></div><div class=\"sk-container\" hidden><div class=\"sk-item\"><div class=\"sk-estimator sk-toggleable\"><input class=\"sk-toggleable__control sk-hidden--visually\" id=\"sk-estimator-id-1\" type=\"checkbox\" checked><label for=\"sk-estimator-id-1\" class=\"sk-toggleable__label sk-toggleable__label-arrow\">ExtraTreesRegressor</label><div class=\"sk-toggleable__content\"><pre>ExtraTreesRegressor()</pre></div></div></div></div></div>"
      ],
      "text/plain": [
       "ExtraTreesRegressor()"
      ]
     },
     "execution_count": 47,
     "metadata": {},
     "output_type": "execute_result"
    }
   ],
   "source": [
    "# let me import Extra tree regressor\n",
    "\n",
    "from sklearn.ensemble import ExtraTreesRegressor\n",
    "\n",
    "selection = ExtraTreesRegressor()\n",
    "selection.fit(X,y)"
   ]
  },
  {
   "cell_type": "code",
   "execution_count": 48,
   "id": "2db35d7e",
   "metadata": {},
   "outputs": [
    {
     "name": "stdout",
     "output_type": "stream",
     "text": [
      "[0.1376168  0.12768491 0.08020216 0.1084439  0.11868429 0.08434226\n",
      " 0.12881938 0.11856081 0.02715627 0.01876257 0.02549106 0.02423559]\n"
     ]
    }
   ],
   "source": [
    "print(selection.feature_importances_)"
   ]
  },
  {
   "cell_type": "code",
   "execution_count": 49,
   "id": "e035937a",
   "metadata": {},
   "outputs": [],
   "source": [
    "# let me plot feature importances\n",
    "\n",
    "feat_importances  =  pd.Series(selection.feature_importances_,index = X.columns)"
   ]
  },
  {
   "cell_type": "code",
   "execution_count": 50,
   "id": "64520813",
   "metadata": {},
   "outputs": [
    {
     "data": {
      "text/plain": [
       "<Axes: >"
      ]
     },
     "execution_count": 50,
     "metadata": {},
     "output_type": "execute_result"
    },
    {
     "data": {
      "image/png": "[encoded data removed]",
      "text/plain": [
       "<Figure size 640x480 with 1 Axes>"
      ]
     },
     "metadata": {},
     "output_type": "display_data"
    }
   ],
   "source": [
    "feat_importances.sort_values(ascending=False).plot(kind='bar')"
   ]
  },
  {
   "cell_type": "markdown",
   "id": "4d4a5bcb",
   "metadata": {},
   "source": [
    "# we don't need to remove any column because every column is important"
   ]
  },
  {
   "cell_type": "markdown",
   "id": "5b9daa9c",
   "metadata": {},
   "source": [
    "# hyperparameters"
   ]
  },
  {
   "cell_type": "code",
   "execution_count": 52,
   "id": "9d0d60e7",
   "metadata": {},
   "outputs": [],
   "source": [
    "# Number of trees in random Forest\n",
    "n_estimators = [i for i in range(100,500,100)]\n",
    "# Number of features to consider at every split\n",
    "max_features = [\"sqrt\", \"log2\"]\n",
    "# The depth of the tree max_depth\n",
    "max_depth = [i for i in range(5,50,6)]\n",
    "# Min samples required to split the node\n",
    "min_sample_split = [2,5,10,15,50]\n",
    "# Min no of samples required to each leaf to split  ---- Pruning\n",
    "min_samples_leaf = [1,2,5,10]\n",
    "# creating the random grid\n",
    "\n",
    "random_grid = {'n_estimators':n_estimators,\n",
    "              'max_features':max_features,\n",
    "              'max_depth':max_depth,\n",
    "              'min_samples_split':min_sample_split,\n",
    "              'min_samples_leaf':min_samples_leaf}"
   ]
  },
  {
   "cell_type": "code",
   "execution_count": 53,
   "id": "b65bc465",
   "metadata": {},
   "outputs": [],
   "source": [
    "from sklearn.model_selection import RandomizedSearchCV\n",
    "\n",
    "rf_model = RandomizedSearchCV(estimator = RF,param_distributions = random_grid,cv=4,random_state = 0)"
   ]
  },
  {
   "cell_type": "code",
   "execution_count": 54,
   "id": "f63535ea",
   "metadata": {},
   "outputs": [
    {
     "data": {
      "text/html": [
       "<style>#sk-container-id-2 {color: black;}#sk-container-id-2 pre{padding: 0;}#sk-container-id-2 div.sk-toggleable {background-color: white;}#sk-container-id-2 label.sk-toggleable__label {cursor: pointer;display: block;width: 100%;margin-bottom: 0;padding: 0.3em;box-sizing: border-box;text-align: center;}#sk-container-id-2 label.sk-toggleable__label-arrow:before {content: \"▸\";float: left;margin-right: 0.25em;color: #696969;}#sk-container-id-2 label.sk-toggleable__label-arrow:hover:before {color: black;}#sk-container-id-2 div.sk-estimator:hover label.sk-toggleable__label-arrow:before {color: black;}#sk-container-id-2 div.sk-toggleable__content {max-height: 0;max-width: 0;overflow: hidden;text-align: left;background-color: #f0f8ff;}#sk-container-id-2 div.sk-toggleable__content pre {margin: 0.2em;color: black;border-radius: 0.25em;background-color: #f0f8ff;}#sk-container-id-2 input.sk-toggleable__control:checked~div.sk-toggleable__content {max-height: 200px;max-width: 100%;overflow: auto;}#sk-container-id-2 input.sk-toggleable__control:checked~label.sk-toggleable__label-arrow:before {content: \"▾\";}#sk-container-id-2 div.sk-estimator input.sk-toggleable__control:checked~label.sk-toggleable__label {background-color: #d4ebff;}#sk-container-id-2 div.sk-label input.sk-toggleable__control:checked~label.sk-toggleable__label {background-color: #d4ebff;}#sk-container-id-2 input.sk-hidden--visually {border: 0;clip: rect(1px 1px 1px 1px);clip: rect(1px, 1px, 1px, 1px);height: 1px;margin: -1px;overflow: hidden;padding: 0;position: absolute;width: 1px;}#sk-container-id-2 div.sk-estimator {font-family: monospace;background-color: #f0f8ff;border: 1px dotted black;border-radius: 0.25em;box-sizing: border-box;margin-bottom: 0.5em;}#sk-container-id-2 div.sk-estimator:hover {background-color: #d4ebff;}#sk-container-id-2 div.sk-parallel-item::after {content: \"\";width: 100%;border-bottom: 1px solid gray;flex-grow: 1;}#sk-container-id-2 div.sk-label:hover label.sk-toggleable__label {background-color: #d4ebff;}#sk-container-id-2 div.sk-serial::before {content: \"\";position: absolute;border-left: 1px solid gray;box-sizing: border-box;top: 0;bottom: 0;left: 50%;z-index: 0;}#sk-container-id-2 div.sk-serial {display: flex;flex-direction: column;align-items: center;background-color: white;padding-right: 0.2em;padding-left: 0.2em;position: relative;}#sk-container-id-2 div.sk-item {position: relative;z-index: 1;}#sk-container-id-2 div.sk-parallel {display: flex;align-items: stretch;justify-content: center;background-color: white;position: relative;}#sk-container-id-2 div.sk-item::before, #sk-container-id-2 div.sk-parallel-item::before {content: \"\";position: absolute;border-left: 1px solid gray;box-sizing: border-box;top: 0;bottom: 0;left: 50%;z-index: -1;}#sk-container-id-2 div.sk-parallel-item {display: flex;flex-direction: column;z-index: 1;position: relative;background-color: white;}#sk-container-id-2 div.sk-parallel-item:first-child::after {align-self: flex-end;width: 50%;}#sk-container-id-2 div.sk-parallel-item:last-child::after {align-self: flex-start;width: 50%;}#sk-container-id-2 div.sk-parallel-item:only-child::after {width: 0;}#sk-container-id-2 div.sk-dashed-wrapped {border: 1px dashed gray;margin: 0 0.4em 0.5em 0.4em;box-sizing: border-box;padding-bottom: 0.4em;background-color: white;}#sk-container-id-2 div.sk-label label {font-family: monospace;font-weight: bold;display: inline-block;line-height: 1.2em;}#sk-container-id-2 div.sk-label-container {text-align: center;}#sk-container-id-2 div.sk-container {/* jupyter's `normalize.less` sets `[hidden] { display: none; }` but bootstrap.min.css set `[hidden] { display: none !important; }` so we also need the `!important` here to be able to override the default hidden behavior on the sphinx rendered scikit-learn.org. See: https://github.com/scikit-learn/scikit-learn/issues/21755 */display: inline-block !important;position: relative;}#sk-container-id-2 div.sk-text-repr-fallback {display: none;}</style><div id=\"sk-container-id-2\" class=\"sk-top-container\"><div class=\"sk-text-repr-fallback\"><pre>RandomizedSearchCV(cv=4, estimator=RandomForestClassifier(),\n",
       "                   param_distributions={&#x27;max_depth&#x27;: [5, 11, 17, 23, 29, 35, 41,\n",
       "                                                      47],\n",
       "                                        &#x27;max_features&#x27;: [&#x27;sqrt&#x27;, &#x27;log2&#x27;],\n",
       "                                        &#x27;min_samples_leaf&#x27;: [1, 2, 5, 10],\n",
       "                                        &#x27;min_samples_split&#x27;: [2, 5, 10, 15, 50],\n",
       "                                        &#x27;n_estimators&#x27;: [100, 200, 300, 400]},\n",
       "                   random_state=0)</pre><b>In a Jupyter environment, please rerun this cell to show the HTML representation or trust the notebook. <br />On GitHub, the HTML representation is unable to render, please try loading this page with nbviewer.org.</b></div><div class=\"sk-container\" hidden><div class=\"sk-item sk-dashed-wrapped\"><div class=\"sk-label-container\"><div class=\"sk-label sk-toggleable\"><input class=\"sk-toggleable__control sk-hidden--visually\" id=\"sk-estimator-id-2\" type=\"checkbox\" ><label for=\"sk-estimator-id-2\" class=\"sk-toggleable__label sk-toggleable__label-arrow\">RandomizedSearchCV</label><div class=\"sk-toggleable__content\"><pre>RandomizedSearchCV(cv=4, estimator=RandomForestClassifier(),\n",
       "                   param_distributions={&#x27;max_depth&#x27;: [5, 11, 17, 23, 29, 35, 41,\n",
       "                                                      47],\n",
       "                                        &#x27;max_features&#x27;: [&#x27;sqrt&#x27;, &#x27;log2&#x27;],\n",
       "                                        &#x27;min_samples_leaf&#x27;: [1, 2, 5, 10],\n",
       "                                        &#x27;min_samples_split&#x27;: [2, 5, 10, 15, 50],\n",
       "                                        &#x27;n_estimators&#x27;: [100, 200, 300, 400]},\n",
       "                   random_state=0)</pre></div></div></div><div class=\"sk-parallel\"><div class=\"sk-parallel-item\"><div class=\"sk-item\"><div class=\"sk-label-container\"><div class=\"sk-label sk-toggleable\"><input class=\"sk-toggleable__control sk-hidden--visually\" id=\"sk-estimator-id-3\" type=\"checkbox\" ><label for=\"sk-estimator-id-3\" class=\"sk-toggleable__label sk-toggleable__label-arrow\">estimator: RandomForestClassifier</label><div class=\"sk-toggleable__content\"><pre>RandomForestClassifier()</pre></div></div></div><div class=\"sk-serial\"><div class=\"sk-item\"><div class=\"sk-estimator sk-toggleable\"><input class=\"sk-toggleable__control sk-hidden--visually\" id=\"sk-estimator-id-4\" type=\"checkbox\" ><label for=\"sk-estimator-id-4\" class=\"sk-toggleable__label sk-toggleable__label-arrow\">RandomForestClassifier</label><div class=\"sk-toggleable__content\"><pre>RandomForestClassifier()</pre></div></div></div></div></div></div></div></div></div></div>"
      ],
      "text/plain": [
       "RandomizedSearchCV(cv=4, estimator=RandomForestClassifier(),\n",
       "                   param_distributions={'max_depth': [5, 11, 17, 23, 29, 35, 41,\n",
       "                                                      47],\n",
       "                                        'max_features': ['sqrt', 'log2'],\n",
       "                                        'min_samples_leaf': [1, 2, 5, 10],\n",
       "                                        'min_samples_split': [2, 5, 10, 15, 50],\n",
       "                                        'n_estimators': [100, 200, 300, 400]},\n",
       "                   random_state=0)"
      ]
     },
     "execution_count": 54,
     "metadata": {},
     "output_type": "execute_result"
    }
   ],
   "source": [
    "rf_model.fit(X_train,y_train)"
   ]
  },
  {
   "cell_type": "code",
   "execution_count": 55,
   "id": "8975e72e",
   "metadata": {},
   "outputs": [
    {
     "data": {
      "text/plain": [
       "{'n_estimators': 400,\n",
       " 'min_samples_split': 15,\n",
       " 'min_samples_leaf': 2,\n",
       " 'max_features': 'sqrt',\n",
       " 'max_depth': 35}"
      ]
     },
     "execution_count": 55,
     "metadata": {},
     "output_type": "execute_result"
    }
   ],
   "source": [
    "rf_model.best_params_"
   ]
  },
  {
   "cell_type": "code",
   "execution_count": 56,
   "id": "e21845fc",
   "metadata": {},
   "outputs": [
    {
     "name": "stdout",
     "output_type": "stream",
     "text": [
      "Train Accuracy:- 96.06986899563319 \n",
      "\n",
      "Test Accuracy:- 52.72727272727272 \n",
      "\n",
      "confusion_matrix:- \n",
      " [[219  10]\n",
      " [  8 221]] \n",
      "\n",
      "classification_report:- \n",
      "               precision    recall  f1-score   support\n",
      "\n",
      "           0       0.96      0.96      0.96       229\n",
      "           1       0.96      0.97      0.96       229\n",
      "\n",
      "    accuracy                           0.96       458\n",
      "   macro avg       0.96      0.96      0.96       458\n",
      "weighted avg       0.96      0.96      0.96       458\n",
      "\n"
     ]
    }
   ],
   "source": [
    "RF = RandomForestClassifier(n_estimators = 400,min_samples_split = 15,min_samples_leaf =2,max_features ='sqrt',max_depth = 35)\n",
    "RF.fit(X_train,y_train)\n",
    "y_train_pred = RF.predict(X_train)\n",
    "y_test_pred = RF.predict(X_test)\n",
    "print(\"Train Accuracy:-\",accuracy_score(y_train, y_train_pred)*100,'\\n')\n",
    "print(\"Test Accuracy:-\",accuracy_score(y_test, y_test_pred)*100,\"\\n\")\n",
    "print(\"confusion_matrix:-\",\"\\n\",confusion_matrix(y_train, y_train_pred),\"\\n\")\n",
    "print(\"classification_report:-\",\"\\n\",classification_report(y_train, y_train_pred))"
   ]
  },
  {
   "cell_type": "markdown",
   "id": "a879dcfd",
   "metadata": {},
   "source": [
    "# Parameter Tuning for (XGB)Extreme Gradient Boosting"
   ]
  },
  {
   "cell_type": "code",
   "execution_count": 57,
   "id": "cae646ef",
   "metadata": {},
   "outputs": [],
   "source": [
    "# Define the hyperparameter grid to search\n",
    "random_grid = {\n",
    "    'n_estimators': [i for i in range(100,500,100)],\n",
    "    'learning_rate': [0.01, 0.1, 0.2],\n",
    "    'max_depth': [i for i in range(5,50,6)],\n",
    "    'min_child_weight': [2,5,10,15,50],\n",
    "    'gamma': [0, 0.1, 0.2],\n",
    "    'subsample': [0.8, 0.9, 1.0],\n",
    "    'colsample_bytree': [0.8, 0.9, 1.0],\n",
    "}"
   ]
  },
  {
   "cell_type": "code",
   "execution_count": 58,
   "id": "6596a683",
   "metadata": {},
   "outputs": [],
   "source": [
    "from sklearn.model_selection import RandomizedSearchCV\n",
    "\n",
    "rf_model = RandomizedSearchCV(estimator = XGB,param_distributions = random_grid,cv=4,random_state = 0)"
   ]
  },
  {
   "cell_type": "code",
   "execution_count": 59,
   "id": "ded6a8e5",
   "metadata": {},
   "outputs": [
    {
     "data": {
      "text/html": [
       "<style>#sk-container-id-3 {color: black;}#sk-container-id-3 pre{padding: 0;}#sk-container-id-3 div.sk-toggleable {background-color: white;}#sk-container-id-3 label.sk-toggleable__label {cursor: pointer;display: block;width: 100%;margin-bottom: 0;padding: 0.3em;box-sizing: border-box;text-align: center;}#sk-container-id-3 label.sk-toggleable__label-arrow:before {content: \"▸\";float: left;margin-right: 0.25em;color: #696969;}#sk-container-id-3 label.sk-toggleable__label-arrow:hover:before {color: black;}#sk-container-id-3 div.sk-estimator:hover label.sk-toggleable__label-arrow:before {color: black;}#sk-container-id-3 div.sk-toggleable__content {max-height: 0;max-width: 0;overflow: hidden;text-align: left;background-color: #f0f8ff;}#sk-container-id-3 div.sk-toggleable__content pre {margin: 0.2em;color: black;border-radius: 0.25em;background-color: #f0f8ff;}#sk-container-id-3 input.sk-toggleable__control:checked~div.sk-toggleable__content {max-height: 200px;max-width: 100%;overflow: auto;}#sk-container-id-3 input.sk-toggleable__control:checked~label.sk-toggleable__label-arrow:before {content: \"▾\";}#sk-container-id-3 div.sk-estimator input.sk-toggleable__control:checked~label.sk-toggleable__label {background-color: #d4ebff;}#sk-container-id-3 div.sk-label input.sk-toggleable__control:checked~label.sk-toggleable__label {background-color: #d4ebff;}#sk-container-id-3 input.sk-hidden--visually {border: 0;clip: rect(1px 1px 1px 1px);clip: rect(1px, 1px, 1px, 1px);height: 1px;margin: -1px;overflow: hidden;padding: 0;position: absolute;width: 1px;}#sk-container-id-3 div.sk-estimator {font-family: monospace;background-color: #f0f8ff;border: 1px dotted black;border-radius: 0.25em;box-sizing: border-box;margin-bottom: 0.5em;}#sk-container-id-3 div.sk-estimator:hover {background-color: #d4ebff;}#sk-container-id-3 div.sk-parallel-item::after {content: \"\";width: 100%;border-bottom: 1px solid gray;flex-grow: 1;}#sk-container-id-3 div.sk-label:hover label.sk-toggleable__label {background-color: #d4ebff;}#sk-container-id-3 div.sk-serial::before {content: \"\";position: absolute;border-left: 1px solid gray;box-sizing: border-box;top: 0;bottom: 0;left: 50%;z-index: 0;}#sk-container-id-3 div.sk-serial {display: flex;flex-direction: column;align-items: center;background-color: white;padding-right: 0.2em;padding-left: 0.2em;position: relative;}#sk-container-id-3 div.sk-item {position: relative;z-index: 1;}#sk-container-id-3 div.sk-parallel {display: flex;align-items: stretch;justify-content: center;background-color: white;position: relative;}#sk-container-id-3 div.sk-item::before, #sk-container-id-3 div.sk-parallel-item::before {content: \"\";position: absolute;border-left: 1px solid gray;box-sizing: border-box;top: 0;bottom: 0;left: 50%;z-index: -1;}#sk-container-id-3 div.sk-parallel-item {display: flex;flex-direction: column;z-index: 1;position: relative;background-color: white;}#sk-container-id-3 div.sk-parallel-item:first-child::after {align-self: flex-end;width: 50%;}#sk-container-id-3 div.sk-parallel-item:last-child::after {align-self: flex-start;width: 50%;}#sk-container-id-3 div.sk-parallel-item:only-child::after {width: 0;}#sk-container-id-3 div.sk-dashed-wrapped {border: 1px dashed gray;margin: 0 0.4em 0.5em 0.4em;box-sizing: border-box;padding-bottom: 0.4em;background-color: white;}#sk-container-id-3 div.sk-label label {font-family: monospace;font-weight: bold;display: inline-block;line-height: 1.2em;}#sk-container-id-3 div.sk-label-container {text-align: center;}#sk-container-id-3 div.sk-container {/* jupyter's `normalize.less` sets `[hidden] { display: none; }` but bootstrap.min.css set `[hidden] { display: none !important; }` so we also need the `!important` here to be able to override the default hidden behavior on the sphinx rendered scikit-learn.org. See: https://github.com/scikit-learn/scikit-learn/issues/21755 */display: inline-block !important;position: relative;}#sk-container-id-3 div.sk-text-repr-fallback {display: none;}</style><div id=\"sk-container-id-3\" class=\"sk-top-container\"><div class=\"sk-text-repr-fallback\"><pre>RandomizedSearchCV(cv=4,\n",
       "                   estimator=XGBClassifier(base_score=None, booster=None,\n",
       "                                           callbacks=None,\n",
       "                                           colsample_bylevel=None,\n",
       "                                           colsample_bynode=None,\n",
       "                                           colsample_bytree=None,\n",
       "                                           early_stopping_rounds=None,\n",
       "                                           enable_categorical=False,\n",
       "                                           eval_metric=None, feature_types=None,\n",
       "                                           gamma=None, gpu_id=None,\n",
       "                                           grow_policy=None,\n",
       "                                           importance_type=None,\n",
       "                                           interaction_constraints=None,\n",
       "                                           learning_rate...\n",
       "                                           monotone_constraints=None,\n",
       "                                           n_estimators=100, n_jobs=None,\n",
       "                                           num_parallel_tree=None,\n",
       "                                           predictor=None, random_state=None, ...),\n",
       "                   param_distributions={&#x27;colsample_bytree&#x27;: [0.8, 0.9, 1.0],\n",
       "                                        &#x27;gamma&#x27;: [0, 0.1, 0.2],\n",
       "                                        &#x27;learning_rate&#x27;: [0.01, 0.1, 0.2],\n",
       "                                        &#x27;max_depth&#x27;: [5, 11, 17, 23, 29, 35, 41,\n",
       "                                                      47],\n",
       "                                        &#x27;min_child_weight&#x27;: [2, 5, 10, 15, 50],\n",
       "                                        &#x27;n_estimators&#x27;: [100, 200, 300, 400],\n",
       "                                        &#x27;subsample&#x27;: [0.8, 0.9, 1.0]},\n",
       "                   random_state=0)</pre><b>In a Jupyter environment, please rerun this cell to show the HTML representation or trust the notebook. <br />On GitHub, the HTML representation is unable to render, please try loading this page with nbviewer.org.</b></div><div class=\"sk-container\" hidden><div class=\"sk-item sk-dashed-wrapped\"><div class=\"sk-label-container\"><div class=\"sk-label sk-toggleable\"><input class=\"sk-toggleable__control sk-hidden--visually\" id=\"sk-estimator-id-5\" type=\"checkbox\" ><label for=\"sk-estimator-id-5\" class=\"sk-toggleable__label sk-toggleable__label-arrow\">RandomizedSearchCV</label><div class=\"sk-toggleable__content\"><pre>RandomizedSearchCV(cv=4,\n",
       "                   estimator=XGBClassifier(base_score=None, booster=None,\n",
       "                                           callbacks=None,\n",
       "                                           colsample_bylevel=None,\n",
       "                                           colsample_bynode=None,\n",
       "                                           colsample_bytree=None,\n",
       "                                           early_stopping_rounds=None,\n",
       "                                           enable_categorical=False,\n",
       "                                           eval_metric=None, feature_types=None,\n",
       "                                           gamma=None, gpu_id=None,\n",
       "                                           grow_policy=None,\n",
       "                                           importance_type=None,\n",
       "                                           interaction_constraints=None,\n",
       "                                           learning_rate...\n",
       "                                           monotone_constraints=None,\n",
       "                                           n_estimators=100, n_jobs=None,\n",
       "                                           num_parallel_tree=None,\n",
       "                                           predictor=None, random_state=None, ...),\n",
       "                   param_distributions={&#x27;colsample_bytree&#x27;: [0.8, 0.9, 1.0],\n",
       "                                        &#x27;gamma&#x27;: [0, 0.1, 0.2],\n",
       "                                        &#x27;learning_rate&#x27;: [0.01, 0.1, 0.2],\n",
       "                                        &#x27;max_depth&#x27;: [5, 11, 17, 23, 29, 35, 41,\n",
       "                                                      47],\n",
       "                                        &#x27;min_child_weight&#x27;: [2, 5, 10, 15, 50],\n",
       "                                        &#x27;n_estimators&#x27;: [100, 200, 300, 400],\n",
       "                                        &#x27;subsample&#x27;: [0.8, 0.9, 1.0]},\n",
       "                   random_state=0)</pre></div></div></div><div class=\"sk-parallel\"><div class=\"sk-parallel-item\"><div class=\"sk-item\"><div class=\"sk-label-container\"><div class=\"sk-label sk-toggleable\"><input class=\"sk-toggleable__control sk-hidden--visually\" id=\"sk-estimator-id-6\" type=\"checkbox\" ><label for=\"sk-estimator-id-6\" class=\"sk-toggleable__label sk-toggleable__label-arrow\">estimator: XGBClassifier</label><div class=\"sk-toggleable__content\"><pre>XGBClassifier(base_score=None, booster=None, callbacks=None,\n",
       "              colsample_bylevel=None, colsample_bynode=None,\n",
       "              colsample_bytree=None, early_stopping_rounds=None,\n",
       "              enable_categorical=False, eval_metric=None, feature_types=None,\n",
       "              gamma=None, gpu_id=None, grow_policy=None, importance_type=None,\n",
       "              interaction_constraints=None, learning_rate=None, max_bin=None,\n",
       "              max_cat_threshold=None, max_cat_to_onehot=None,\n",
       "              max_delta_step=None, max_depth=None, max_leaves=None,\n",
       "              min_child_weight=None, missing=nan, monotone_constraints=None,\n",
       "              n_estimators=100, n_jobs=None, num_parallel_tree=None,\n",
       "              predictor=None, random_state=None, ...)</pre></div></div></div><div class=\"sk-serial\"><div class=\"sk-item\"><div class=\"sk-estimator sk-toggleable\"><input class=\"sk-toggleable__control sk-hidden--visually\" id=\"sk-estimator-id-7\" type=\"checkbox\" ><label for=\"sk-estimator-id-7\" class=\"sk-toggleable__label sk-toggleable__label-arrow\">XGBClassifier</label><div class=\"sk-toggleable__content\"><pre>XGBClassifier(base_score=None, booster=None, callbacks=None,\n",
       "              colsample_bylevel=None, colsample_bynode=None,\n",
       "              colsample_bytree=None, early_stopping_rounds=None,\n",
       "              enable_categorical=False, eval_metric=None, feature_types=None,\n",
       "              gamma=None, gpu_id=None, grow_policy=None, importance_type=None,\n",
       "              interaction_constraints=None, learning_rate=None, max_bin=None,\n",
       "              max_cat_threshold=None, max_cat_to_onehot=None,\n",
       "              max_delta_step=None, max_depth=None, max_leaves=None,\n",
       "              min_child_weight=None, missing=nan, monotone_constraints=None,\n",
       "              n_estimators=100, n_jobs=None, num_parallel_tree=None,\n",
       "              predictor=None, random_state=None, ...)</pre></div></div></div></div></div></div></div></div></div></div>"
      ],
      "text/plain": [
       "RandomizedSearchCV(cv=4,\n",
       "                   estimator=XGBClassifier(base_score=None, booster=None,\n",
       "                                           callbacks=None,\n",
       "                                           colsample_bylevel=None,\n",
       "                                           colsample_bynode=None,\n",
       "                                           colsample_bytree=None,\n",
       "                                           early_stopping_rounds=None,\n",
       "                                           enable_categorical=False,\n",
       "                                           eval_metric=None, feature_types=None,\n",
       "                                           gamma=None, gpu_id=None,\n",
       "                                           grow_policy=None,\n",
       "                                           importance_type=None,\n",
       "                                           interaction_constraints=None,\n",
       "                                           learning_rate...\n",
       "                                           monotone_constraints=None,\n",
       "                                           n_estimators=100, n_jobs=None,\n",
       "                                           num_parallel_tree=None,\n",
       "                                           predictor=None, random_state=None, ...),\n",
       "                   param_distributions={'colsample_bytree': [0.8, 0.9, 1.0],\n",
       "                                        'gamma': [0, 0.1, 0.2],\n",
       "                                        'learning_rate': [0.01, 0.1, 0.2],\n",
       "                                        'max_depth': [5, 11, 17, 23, 29, 35, 41,\n",
       "                                                      47],\n",
       "                                        'min_child_weight': [2, 5, 10, 15, 50],\n",
       "                                        'n_estimators': [100, 200, 300, 400],\n",
       "                                        'subsample': [0.8, 0.9, 1.0]},\n",
       "                   random_state=0)"
      ]
     },
     "execution_count": 59,
     "metadata": {},
     "output_type": "execute_result"
    }
   ],
   "source": [
    "rf_model.fit(X_train,y_train)"
   ]
  },
  {
   "cell_type": "code",
   "execution_count": 60,
   "id": "34e1f020",
   "metadata": {},
   "outputs": [
    {
     "data": {
      "text/plain": [
       "{'subsample': 1.0,\n",
       " 'n_estimators': 400,\n",
       " 'min_child_weight': 50,\n",
       " 'max_depth': 23,\n",
       " 'learning_rate': 0.1,\n",
       " 'gamma': 0.1,\n",
       " 'colsample_bytree': 1.0}"
      ]
     },
     "execution_count": 60,
     "metadata": {},
     "output_type": "execute_result"
    }
   ],
   "source": [
    "rf_model.best_params_"
   ]
  },
  {
   "cell_type": "code",
   "execution_count": 62,
   "id": "0fa6ce37",
   "metadata": {},
   "outputs": [
    {
     "name": "stdout",
     "output_type": "stream",
     "text": [
      "Train Accuracy:- 54.366812227074234 \n",
      "\n",
      "Test Accuracy:- 51.81818181818182 \n",
      "\n",
      "confusion_matrix:- \n",
      " [[34 23]\n",
      " [30 23]] \n",
      "\n",
      "classification_report:- \n",
      "               precision    recall  f1-score   support\n",
      "\n",
      "           0       0.53      0.60      0.56        57\n",
      "           1       0.50      0.43      0.46        53\n",
      "\n",
      "    accuracy                           0.52       110\n",
      "   macro avg       0.52      0.52      0.51       110\n",
      "weighted avg       0.52      0.52      0.52       110\n",
      "\n"
     ]
    }
   ],
   "source": [
    "XGB=XGBClassifier(n_estimators= 400,subsample= 1.0,min_child_weight= 50,max_depth= 23,learning_rate= 0.1,gamma=0.1,colsample_bytree= 1.0)\n",
    "XGB.fit(X_train, y_train)\n",
    "y_train_pred = XGB.predict(X_train)\n",
    "y_test_pred = XGB.predict(X_test)\n",
    "print(\"Train Accuracy:-\",accuracy_score(y_train, y_train_pred)*100,'\\n')\n",
    "print(\"Test Accuracy:-\",accuracy_score(y_test, y_test_pred)*100,\"\\n\")\n",
    "print(\"confusion_matrix:-\",\"\\n\",confusion_matrix(y_test, y_test_pred),\"\\n\")\n",
    "print(\"classification_report:-\",\"\\n\",classification_report(y_test, y_test_pred))"
   ]
  },
  {
   "cell_type": "markdown",
   "id": "f0e1f644",
   "metadata": {},
   "source": [
    "**I have received commendable accolades for my proficiency in utilizing the XetremeBoostingClassifier, showcasing my adeptness in leveraging advanced machine learning techniques to achieve successful outcomes.**"
   ]
  }
 ],
 "metadata": {
  "kernelspec": {
   "display_name": "Python 3 (ipykernel)",
   "language": "python",
   "name": "python3"
  },
  "language_info": {
   "codemirror_mode": {
    "name": "ipython",
    "version": 3
   },
   "file_extension": ".py",
   "mimetype": "text/x-python",
   "name": "python",
   "nbconvert_exporter": "python",
   "pygments_lexer": "ipython3",
   "version": "3.10.9"
  }
 },
 "nbformat": 4,
 "nbformat_minor": 5
}
