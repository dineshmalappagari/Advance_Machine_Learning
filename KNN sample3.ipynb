{
 "cells": [
  {
   "cell_type": "code",
   "execution_count": 1,
   "id": "c4b0c549",
   "metadata": {},
   "outputs": [
    {
     "name": "stdout",
     "output_type": "stream",
     "text": [
      "Accuracy (Euclidean): 1.0\n",
      "Accuracy (Minkowski): 0.9666666666666667\n"
     ]
    }
   ],
   "source": [
    "from sklearn.datasets import load_iris\n",
    "from sklearn.model_selection import train_test_split\n",
    "from sklearn.neighbors import KNeighborsClassifier\n",
    "from sklearn.metrics import accuracy_score\n",
    "\n",
    "# Load the Iris dataset\n",
    "iris = load_iris()\n",
    "X = iris.data\n",
    "y = iris.target\n",
    "\n",
    "# Split the data into training and testing sets\n",
    "X_train, X_test, y_train, y_test = train_test_split(X, y, test_size=0.2, random_state=42)\n",
    "\n",
    "# Create a KNN classifier using Euclidean distance\n",
    "knn_euclidean = KNeighborsClassifier(n_neighbors=5, metric='euclidean')\n",
    "\n",
    "# Train the Euclidean KNN classifier on the training data\n",
    "knn_euclidean.fit(X_train, y_train)\n",
    "\n",
    "# Make predictions on the testing data using Euclidean KNN\n",
    "y_pred_euclidean = knn_euclidean.predict(X_test)\n",
    "\n",
    "# Calculate the accuracy of the Euclidean KNN model\n",
    "accuracy_euclidean = accuracy_score(y_test, y_pred_euclidean)\n",
    "print(\"Accuracy (Euclidean):\", accuracy_euclidean)\n",
    "\n",
    "# Create a KNN classifier using Minkowski distance (with p=3)\n",
    "knn_minkowski = KNeighborsClassifier(n_neighbors=5, metric='minkowski', p=3)\n",
    "\n",
    "# Train the Minkowski KNN classifier on the training data\n",
    "knn_minkowski.fit(X_train, y_train)\n",
    "\n",
    "# Make predictions on the testing data using Minkowski KNN\n",
    "y_pred_minkowski = knn_minkowski.predict(X_test)\n",
    "\n",
    "# Calculate the accuracy of the Minkowski KNN model\n",
    "accuracy_minkowski = accuracy_score(y_test, y_pred_minkowski)\n",
    "print(\"Accuracy (Minkowski):\", accuracy_minkowski)\n"
   ]
  },
  {
   "cell_type": "code",
   "execution_count": null,
   "id": "43d77fef",
   "metadata": {},
   "outputs": [],
   "source": []
  }
 ],
 "metadata": {
  "kernelspec": {
   "display_name": "Python 3 (ipykernel)",
   "language": "python",
   "name": "python3"
  },
  "language_info": {
   "codemirror_mode": {
    "name": "ipython",
    "version": 3
   },
   "file_extension": ".py",
   "mimetype": "text/x-python",
   "name": "python",
   "nbconvert_exporter": "python",
   "pygments_lexer": "ipython3",
   "version": "3.10.9"
  }
 },
 "nbformat": 4,
 "nbformat_minor": 5
}
