{
 "cells": [
  {
   "cell_type": "code",
   "execution_count": 1,
   "id": "5d13daba",
   "metadata": {},
   "outputs": [
    {
     "name": "stdout",
     "output_type": "stream",
     "text": [
      "KNN Mean Squared Error: 1.9599999999999986\n",
      "Linear Regression Mean Squared Error: 6.310887241768095e-30\n"
     ]
    }
   ],
   "source": [
    "import numpy as np\n",
    "from sklearn.model_selection import train_test_split\n",
    "from sklearn.neighbors import KNeighborsRegressor\n",
    "from sklearn.linear_model import LinearRegression\n",
    "from sklearn.metrics import mean_squared_error\n",
    "\n",
    "# Toy data\n",
    "X = np.array([1, 2, 3, 4, 5, 6, 7, 8, 9, 10]).reshape(-1, 1)  # Features\n",
    "y = np.array([2.1, 4.2, 6.3, 8.4, 10.5, 12.6, 14.7, 16.8, 18.9, 21.0])  # Target values\n",
    "\n",
    "# Split the data into training and testing sets\n",
    "X_train, X_test, y_train, y_test = train_test_split(X, y, test_size=0.2, random_state=42)\n",
    "\n",
    "# Create a KNN regressor with k=3\n",
    "knn_regressor = KNeighborsRegressor(n_neighbors=3)\n",
    "\n",
    "# Train the KNN regressor on the training data\n",
    "knn_regressor.fit(X_train, y_train)\n",
    "\n",
    "# Predict the target values for the test data using KNN\n",
    "y_pred_knn = knn_regressor.predict(X_test)\n",
    "\n",
    "# Create a Linear Regression model\n",
    "linear_regressor = LinearRegression()\n",
    "\n",
    "# Train the Linear Regression model on the training data\n",
    "linear_regressor.fit(X_train, y_train)\n",
    "\n",
    "# Predict the target values for the test data using Linear Regression\n",
    "y_pred_linear = linear_regressor.predict(X_test)\n",
    "\n",
    "# Calculate the Mean Squared Error (MSE) of the KNN predictions\n",
    "mse_knn = mean_squared_error(y_test, y_pred_knn)\n",
    "print(\"KNN Mean Squared Error:\", mse_knn)\n",
    "\n",
    "# Calculate the Mean Squared Error (MSE) of the Linear Regression predictions\n",
    "mse_linear = mean_squared_error(y_test, y_pred_linear)\n",
    "print(\"Linear Regression Mean Squared Error:\", mse_linear)\n"
   ]
  },
  {
   "cell_type": "code",
   "execution_count": 2,
   "id": "4159adf4",
   "metadata": {},
   "outputs": [
    {
     "data": {
      "text/plain": [
       "array([[9],\n",
       "       [2]])"
      ]
     },
     "execution_count": 2,
     "metadata": {},
     "output_type": "execute_result"
    }
   ],
   "source": [
    "X_test"
   ]
  },
  {
   "cell_type": "code",
   "execution_count": null,
   "id": "e404dfe4",
   "metadata": {},
   "outputs": [],
   "source": []
  }
 ],
 "metadata": {
  "kernelspec": {
   "display_name": "Python 3 (ipykernel)",
   "language": "python",
   "name": "python3"
  },
  "language_info": {
   "codemirror_mode": {
    "name": "ipython",
    "version": 3
   },
   "file_extension": ".py",
   "mimetype": "text/x-python",
   "name": "python",
   "nbconvert_exporter": "python",
   "pygments_lexer": "ipython3",
   "version": "3.10.9"
  }
 },
 "nbformat": 4,
 "nbformat_minor": 5
}
